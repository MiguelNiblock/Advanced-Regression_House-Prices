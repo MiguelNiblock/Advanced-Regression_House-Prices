{
 "cells": [
  {
   "cell_type": "code",
   "execution_count": 1,
   "metadata": {},
   "outputs": [],
   "source": [
    "import pandas as pd\n",
    "import matplotlib.pyplot as plt\n",
    "import seaborn as sns\n",
    "import numpy as np\n",
    "\n",
    "import cyrtranslit\n",
    "from sklearn import preprocessing, model_selection, metrics, feature_selection, ensemble, linear_model, cross_decomposition, feature_extraction, decomposition\n",
    "from sklearn.pipeline import Pipeline\n",
    "import lightgbm as lgb\n",
    "color = sns.color_palette()\n",
    "%matplotlib inline"
   ]
  },
  {
   "cell_type": "code",
   "execution_count": 2,
   "metadata": {},
   "outputs": [],
   "source": [
    "train = pd.read_pickle('train.pkl',compression='zip')\n",
    "\n",
    "test = pd.read_pickle('test.pkl',compression='zip')"
   ]
  },
  {
   "cell_type": "markdown",
   "metadata": {},
   "source": [
    "# CountVectorizer Titles"
   ]
  },
  {
   "cell_type": "markdown",
   "metadata": {},
   "source": [
    "\n",
    "- Since these are cyrilic, russian words, english `stopwords` wouldn't help.\n",
    "- `max_df` was set as low as 0.2 and still no words were being filtered. I decided to not use it.\n",
    "- Instead of using `max_features` I decided to lower the `min_df` until I got the largest number of token features I could load onto memory, converted from CSR to array in order to do PLSR, with at least 200,000 random samples to retain accuracy.\n",
    "- I settled for 3000~ tokens for this step."
   ]
  },
  {
   "cell_type": "code",
   "execution_count": 3,
   "metadata": {},
   "outputs": [
    {
     "name": "stdout",
     "output_type": "stream",
     "text": [
      "3223\n"
     ]
    }
   ],
   "source": [
    "count_vec = feature_extraction.text.CountVectorizer(\n",
    "    lowercase=True,\n",
    "    min_df=0.0001\n",
    ")\n",
    "# Fitting on train and test as merged lists\n",
    "count_vec.fit(train['title'].values.tolist() + test['title'].values.tolist())\n",
    "print(len(count_vec.get_feature_names()))"
   ]
  },
  {
   "cell_type": "markdown",
   "metadata": {},
   "source": [
    "- Start working on train set."
   ]
  },
  {
   "cell_type": "code",
   "execution_count": 4,
   "metadata": {},
   "outputs": [],
   "source": [
    "# Word counts for train titles. CSR Matrix, tokens ordered alphabetically\n",
    "counts = count_vec.transform(train['title'].values.tolist())"
   ]
  },
  {
   "cell_type": "markdown",
   "metadata": {},
   "source": [
    "### PLSR Reduction on CSR\n",
    "- PLSR doesn't handle sparse row inputs, therefore we need an array or DataFrame.\n",
    "- 3000+ columns can't load to an array with 1.5Million+ rows, so I undersample to ~200,000.\n",
    "- The effects of less data on accuracy were not evident by undersampling to a 10th of the original train data."
   ]
  },
  {
   "cell_type": "code",
   "execution_count": 5,
   "metadata": {},
   "outputs": [],
   "source": [
    "index = np.random.choice(len(train),size=int(2e5))\n",
    "\n",
    "# (FIRST) Select those indices from the Sparse matrix and then turn into an array.\n",
    "sample = counts[index].toarray()"
   ]
  },
  {
   "cell_type": "markdown",
   "metadata": {},
   "source": [
    "### Undersampled Feature Reduction\n",
    "- Another advantage of undersampling is at this step PLSR can take a long time with a million observations."
   ]
  },
  {
   "cell_type": "code",
   "execution_count": 6,
   "metadata": {},
   "outputs": [
    {
     "data": {
      "text/plain": [
       "0.17320316515390308"
      ]
     },
     "execution_count": 6,
     "metadata": {},
     "output_type": "execute_result"
    }
   ],
   "source": [
    "# More components didn't offer a significant gain \n",
    "reduce = cross_decomposition.PLSRegression(n_components=5)\n",
    "\n",
    "# Fit undersampled array against the same indices for the target.\n",
    "reduce.fit(sample,train.iloc[index].deal_probability)\n",
    "\n",
    "# PLSR score reducing random sample of 3000~ features to 5 components.\n",
    "reduce.score(sample,train.iloc[index].deal_probability)"
   ]
  },
  {
   "cell_type": "code",
   "execution_count": 9,
   "metadata": {},
   "outputs": [
    {
     "data": {
      "text/plain": [
       "array([0.14110087, 0.13587818, 0.13669251, 0.13330357, 0.1428744 ])"
      ]
     },
     "execution_count": 9,
     "metadata": {},
     "output_type": "execute_result"
    }
   ],
   "source": [
    "model_selection.cross_val_score(reduce,sample,train.iloc[index].deal_probability,cv=5)"
   ]
  },
  {
   "cell_type": "markdown",
   "metadata": {},
   "source": [
    "- After multiple iterations of N Vectors, amount of undersampling, and N of components, this was the highest score."
   ]
  },
  {
   "cell_type": "markdown",
   "metadata": {},
   "source": [
    "### Iterative Reduction on Full CSR Matrix\n",
    "- Now that we have the best configuration, let's transform all the train data into those 5 components.\n",
    "- We still can't load all of it as an array. Let's process this in parts, then append them."
   ]
  },
  {
   "cell_type": "code",
   "execution_count": 10,
   "metadata": {},
   "outputs": [],
   "source": [
    "# Reduce all CSR values in batches\n",
    "reduced = pd.DataFrame()\n",
    "lower = 0\n",
    "for i,idx in enumerate(np.arange(0,int(len(train)*1.1),int(1.1e5))):\n",
    "    if idx > len(train):\n",
    "        idx = len(train)\n",
    "    upper = idx\n",
    "    if upper > lower:\n",
    "        #print(lower,upper)\n",
    "        sample = counts[lower:upper].toarray()\n",
    "        sample = reduce.transform(sample)\n",
    "        reduced = reduced.append(pd.DataFrame(sample))\n",
    "        lower = idx\n",
    "    else:\n",
    "        lower = idx"
   ]
  },
  {
   "cell_type": "code",
   "execution_count": 11,
   "metadata": {},
   "outputs": [
    {
     "data": {
      "text/plain": [
       "(1503424, 5)"
      ]
     },
     "execution_count": 11,
     "metadata": {},
     "output_type": "execute_result"
    }
   ],
   "source": [
    "reduced.shape"
   ]
  },
  {
   "cell_type": "code",
   "execution_count": 12,
   "metadata": {},
   "outputs": [],
   "source": [
    "reduced.reset_index(drop=True,inplace=True)\n",
    "\n",
    "columns = ['title_count_{}'.format(i) for i in range(1,6)]\n",
    "\n",
    "reduced.columns = columns"
   ]
  },
  {
   "cell_type": "code",
   "execution_count": 13,
   "metadata": {},
   "outputs": [],
   "source": [
    "reduced.to_pickle('train_nlp_features.pkl',compression='zip')"
   ]
  },
  {
   "cell_type": "markdown",
   "metadata": {},
   "source": [
    "- Now we can fit and predict without undersampling."
   ]
  },
  {
   "cell_type": "code",
   "execution_count": 15,
   "metadata": {},
   "outputs": [
    {
     "data": {
      "text/plain": [
       "0.14718865368915313"
      ]
     },
     "execution_count": 15,
     "metadata": {},
     "output_type": "execute_result"
    }
   ],
   "source": [
    "linear = linear_model.LinearRegression()\n",
    "linear.fit(reduced,train.deal_probability)\n",
    "linear.score(reduced,train.deal_probability)"
   ]
  },
  {
   "cell_type": "markdown",
   "metadata": {},
   "source": [
    "### Compare with SVD"
   ]
  },
  {
   "cell_type": "markdown",
   "metadata": {},
   "source": [
    "- Another common way to reduce dimensionality in the CSR matrix is Single Value Decomposition. Let's compare it here against PLSR."
   ]
  },
  {
   "cell_type": "code",
   "execution_count": 16,
   "metadata": {},
   "outputs": [
    {
     "data": {
      "text/plain": [
       "0.5691805294795375"
      ]
     },
     "execution_count": 16,
     "metadata": {},
     "output_type": "execute_result"
    }
   ],
   "source": [
    "svd = decomposition.TruncatedSVD(n_components=200)\n",
    "\n",
    "reduced_svd = svd.fit_transform(counts)\n",
    "\n",
    "svd.explained_variance_ratio_.sum()"
   ]
  },
  {
   "cell_type": "markdown",
   "metadata": {},
   "source": [
    "- At 50 components, only 0.36% variance was retained. At 200, 56% variance.\n",
    "- The problem with unsupervised decomposition is that all this retained variance might not be what we truly need for predictive purposes."
   ]
  },
  {
   "cell_type": "code",
   "execution_count": 17,
   "metadata": {},
   "outputs": [
    {
     "data": {
      "text/plain": [
       "0.08781668668080356"
      ]
     },
     "execution_count": 17,
     "metadata": {},
     "output_type": "execute_result"
    }
   ],
   "source": [
    "linear.fit(reduced_svd,train.deal_probability)\n",
    "linear.score(reduced_svd,train.deal_probability)"
   ]
  },
  {
   "cell_type": "markdown",
   "metadata": {},
   "source": [
    "- Its abundantly clear we can get more predictive power from PLSR due to the fact that it reduces based on the target variable. SVD reduces based on internal variance, not based on any outcome variable.\n",
    "- With 200 components, SVD's top scores were 0.08. At 50 components, SVD's top scores were around 0.05. At 15 components, they were around 0.02. At 5 components, (Same as plsr) they were 0.008."
   ]
  },
  {
   "cell_type": "markdown",
   "metadata": {},
   "source": [
    "## Repeat PLSR on Test Data Titles with CountVectorizer\n",
    "- Now let's make the same features for test."
   ]
  },
  {
   "cell_type": "code",
   "execution_count": 21,
   "metadata": {},
   "outputs": [],
   "source": [
    "# We only do transform, since we've fit the vectorizer on combined train/test\n",
    "counts = count_vec.transform(test['title'].values.tolist())"
   ]
  },
  {
   "cell_type": "code",
   "execution_count": 23,
   "metadata": {},
   "outputs": [],
   "source": [
    "# Reduce all CSR values in batches\n",
    "lower = 0\n",
    "reduced = pd.DataFrame()\n",
    "for i,idx in enumerate(np.arange(0,int(len(test)*1.1),int(1.1e5))):\n",
    "    if idx > len(test):\n",
    "        idx = len(test)\n",
    "    upper = idx\n",
    "    if upper > lower:\n",
    "        sample = counts[lower:upper].toarray()\n",
    "        sample = reduce.transform(sample)\n",
    "        reduced = reduced.append(pd.DataFrame(sample))\n",
    "        lower = idx\n",
    "    else:\n",
    "        lower = idx"
   ]
  },
  {
   "cell_type": "code",
   "execution_count": 24,
   "metadata": {},
   "outputs": [
    {
     "data": {
      "text/plain": [
       "(508438, 5)"
      ]
     },
     "execution_count": 24,
     "metadata": {},
     "output_type": "execute_result"
    }
   ],
   "source": [
    "reduced.shape"
   ]
  },
  {
   "cell_type": "code",
   "execution_count": 25,
   "metadata": {},
   "outputs": [],
   "source": [
    "reduced.reset_index(drop=True,inplace=True)\n",
    "\n",
    "columns = ['title_count_{}'.format(i) for i in range(1,6)]\n",
    "\n",
    "reduced.columns = columns"
   ]
  },
  {
   "cell_type": "code",
   "execution_count": 26,
   "metadata": {},
   "outputs": [],
   "source": [
    "reduced.to_pickle('test_nlp_features.pkl',compression='zip')"
   ]
  },
  {
   "cell_type": "markdown",
   "metadata": {},
   "source": [
    "# CountVectorizer on Descriptions\n",
    "\n",
    "- I already established that 3000 components are a good number for being the most I can load stably as an array of 200,000 random samples.\n",
    "- Therefore I tweak vectorizer params until I get naturally as close as 3000 token features."
   ]
  },
  {
   "cell_type": "code",
   "execution_count": 3,
   "metadata": {},
   "outputs": [],
   "source": [
    "count_vec = feature_extraction.text.CountVectorizer(\n",
    "    lowercase=True,\n",
    "    max_df=0.2,\n",
    "    min_df=0.001,\n",
    "    ngram_range=(1,1)\n",
    ")"
   ]
  },
  {
   "cell_type": "markdown",
   "metadata": {},
   "source": [
    "- Fit both train and test descriptions."
   ]
  },
  {
   "cell_type": "code",
   "execution_count": 4,
   "metadata": {},
   "outputs": [
    {
     "data": {
      "text/plain": [
       "3002"
      ]
     },
     "execution_count": 4,
     "metadata": {},
     "output_type": "execute_result"
    }
   ],
   "source": [
    "count_vec.fit(train['description'].astype(str).tolist() + test['description'].astype(str).tolist())\n",
    "# This will tell us the number of token features extracted\n",
    "len(count_vec.get_feature_names())"
   ]
  },
  {
   "cell_type": "markdown",
   "metadata": {},
   "source": [
    "- Start transforming train data."
   ]
  },
  {
   "cell_type": "code",
   "execution_count": 5,
   "metadata": {},
   "outputs": [],
   "source": [
    "counts = count_vec.transform(train['description'].astype(str).tolist())"
   ]
  },
  {
   "cell_type": "markdown",
   "metadata": {},
   "source": [
    "- We'll have to train PLSR again. We must undersample as well."
   ]
  },
  {
   "cell_type": "code",
   "execution_count": 6,
   "metadata": {},
   "outputs": [],
   "source": [
    "index = np.random.choice(len(train),size=int(2e5))\n",
    "\n",
    "# (FIRST) Select those indices from the Sparse matrix and then turn into an array.\n",
    "sample = counts[index].toarray()"
   ]
  },
  {
   "cell_type": "code",
   "execution_count": 7,
   "metadata": {},
   "outputs": [
    {
     "data": {
      "text/plain": [
       "0.13152567009083782"
      ]
     },
     "execution_count": 7,
     "metadata": {},
     "output_type": "execute_result"
    }
   ],
   "source": [
    "# More components didn't offer a significant gain \n",
    "reduce = cross_decomposition.PLSRegression(n_components=10)\n",
    "\n",
    "# Fit undersampled array against the same indices for the target.\n",
    "reduce.fit(sample,train.iloc[index].deal_probability)\n",
    "\n",
    "# PLSR score reducing random sample of 3000~ features to N components.\n",
    "reduce.score(sample,train.iloc[index].deal_probability)"
   ]
  },
  {
   "cell_type": "markdown",
   "metadata": {},
   "source": [
    "- It looks like titles are more predictive than descriptions. 13 vs 17\n",
    "- At 5 components, score was 12. At 10 components, score was 13. At 15 components, it was still 13. Therefore I left it at 10 components."
   ]
  },
  {
   "cell_type": "code",
   "execution_count": 8,
   "metadata": {},
   "outputs": [],
   "source": [
    "# Reduce all CSR values in batches\n",
    "reduced = pd.DataFrame()\n",
    "lower = 0\n",
    "for i,idx in enumerate(np.arange(0,int(len(train)*1.1),int(1.1e5))):\n",
    "    if idx > len(train):\n",
    "        idx = len(train)\n",
    "    upper = idx\n",
    "    if upper > lower:\n",
    "        #print(lower,upper)\n",
    "        sample = counts[lower:upper].toarray()\n",
    "        sample = reduce.transform(sample)\n",
    "        reduced = reduced.append(pd.DataFrame(sample))\n",
    "        lower = idx\n",
    "    else:\n",
    "        lower = idx"
   ]
  },
  {
   "cell_type": "code",
   "execution_count": 9,
   "metadata": {},
   "outputs": [],
   "source": [
    "reduced.reset_index(drop=True,inplace=True)\n",
    "\n",
    "columns = ['desc_count_{}'.format(i) for i in range(1,11)]\n",
    "\n",
    "reduced.columns = columns"
   ]
  },
  {
   "cell_type": "code",
   "execution_count": 10,
   "metadata": {},
   "outputs": [
    {
     "data": {
      "text/plain": [
       "(1503424, 10)"
      ]
     },
     "execution_count": 10,
     "metadata": {},
     "output_type": "execute_result"
    }
   ],
   "source": [
    "reduced.shape"
   ]
  },
  {
   "cell_type": "code",
   "execution_count": 11,
   "metadata": {},
   "outputs": [],
   "source": [
    "train_nlp_features = pd.read_pickle('train_nlp_features.pkl',compression='zip')"
   ]
  },
  {
   "cell_type": "code",
   "execution_count": 12,
   "metadata": {},
   "outputs": [],
   "source": [
    "train_nlp_features = train_nlp_features.join(reduced)"
   ]
  },
  {
   "cell_type": "code",
   "execution_count": 13,
   "metadata": {},
   "outputs": [],
   "source": [
    "train_nlp_features.to_pickle('train_nlp_features.pkl',compression='zip')"
   ]
  },
  {
   "cell_type": "code",
   "execution_count": 14,
   "metadata": {},
   "outputs": [
    {
     "data": {
      "image/png": "[encoded data removed]",
      "text/plain": [
       "<Figure size 432x288 with 2 Axes>"
      ]
     },
     "metadata": {
      "needs_background": "light"
     },
     "output_type": "display_data"
    }
   ],
   "source": [
    "correlation = train_nlp_features.corr()\n",
    "\n",
    "sns.heatmap(correlation)\n",
    "plt.show()"
   ]
  },
  {
   "cell_type": "markdown",
   "metadata": {},
   "source": [
    "- From the heatmap, both sets of features are uncorrelated with their same set. But features of either set may be correlated with features of the other set.\n",
    "\n",
    "## Description Counts on Test Data"
   ]
  },
  {
   "cell_type": "code",
   "execution_count": 15,
   "metadata": {},
   "outputs": [],
   "source": [
    "counts = count_vec.transform(test['description'].astype(str).tolist())"
   ]
  },
  {
   "cell_type": "code",
   "execution_count": 16,
   "metadata": {},
   "outputs": [],
   "source": [
    "# Reduce all CSR values in batches\n",
    "reduced = pd.DataFrame()\n",
    "lower = 0\n",
    "for i,idx in enumerate(np.arange(0,int(len(test)*1.1),int(1.1e5))):\n",
    "    if idx > len(test):\n",
    "        idx = len(test)\n",
    "    upper = idx\n",
    "    if upper > lower:\n",
    "        #print(lower,upper)\n",
    "        sample = counts[lower:upper].toarray()\n",
    "        sample = reduce.transform(sample)\n",
    "        reduced = reduced.append(pd.DataFrame(sample))\n",
    "        lower = idx\n",
    "    else:\n",
    "        lower = idx"
   ]
  },
  {
   "cell_type": "code",
   "execution_count": 17,
   "metadata": {},
   "outputs": [
    {
     "data": {
      "text/plain": [
       "(508438, 10)"
      ]
     },
     "execution_count": 17,
     "metadata": {},
     "output_type": "execute_result"
    }
   ],
   "source": [
    "reduced.shape"
   ]
  },
  {
   "cell_type": "code",
   "execution_count": 18,
   "metadata": {},
   "outputs": [],
   "source": [
    "reduced.reset_index(drop=True,inplace=True)\n",
    "\n",
    "columns = ['desc_count_{}'.format(i) for i in range(1,11)]\n",
    "\n",
    "reduced.columns = columns"
   ]
  },
  {
   "cell_type": "code",
   "execution_count": 19,
   "metadata": {},
   "outputs": [],
   "source": [
    "test_nlp_features = pd.read_pickle('test_nlp_features.pkl',compression='zip')"
   ]
  },
  {
   "cell_type": "code",
   "execution_count": 20,
   "metadata": {},
   "outputs": [],
   "source": [
    "test_nlp_features = test_nlp_features.join(reduced)"
   ]
  },
  {
   "cell_type": "code",
   "execution_count": 21,
   "metadata": {},
   "outputs": [],
   "source": [
    "test_nlp_features.to_pickle('test_nlp_features.pkl',compression='zip')"
   ]
  },
  {
   "cell_type": "markdown",
   "metadata": {},
   "source": [
    "## Evaluate Features"
   ]
  },
  {
   "cell_type": "code",
   "execution_count": 37,
   "metadata": {
    "scrolled": true
   },
   "outputs": [
    {
     "data": {
      "text/plain": [
       "LinearRegression(copy_X=True, fit_intercept=True, n_jobs=None,\n",
       "         normalize=False)"
      ]
     },
     "execution_count": 37,
     "metadata": {},
     "output_type": "execute_result"
    }
   ],
   "source": [
    "linear.fit(train_nlp_features,train.deal_probability)"
   ]
  },
  {
   "cell_type": "code",
   "execution_count": 38,
   "metadata": {},
   "outputs": [
    {
     "data": {
      "text/plain": [
       "0.17297229296795916"
      ]
     },
     "execution_count": 38,
     "metadata": {},
     "output_type": "execute_result"
    }
   ],
   "source": [
    "linear.score(train_nlp_features,train.deal_probability)"
   ]
  },
  {
   "cell_type": "markdown",
   "metadata": {},
   "source": [
    "# TFIDFVectorizer"
   ]
  },
  {
   "cell_type": "code",
   "execution_count": 23,
   "metadata": {},
   "outputs": [
    {
     "name": "stdout",
     "output_type": "stream",
     "text": [
      "3223\n"
     ]
    }
   ],
   "source": [
    "count_vec = feature_extraction.text.TfidfVectorizer(\n",
    "    lowercase=True,\n",
    "    min_df=0.0001\n",
    ")\n",
    "# Fitting on train and test as merged lists\n",
    "count_vec.fit(train['title'].values.tolist() + test['title'].values.tolist())\n",
    "print(len(count_vec.get_feature_names()))"
   ]
  },
  {
   "cell_type": "code",
   "execution_count": 24,
   "metadata": {},
   "outputs": [],
   "source": [
    "# Word counts for train titles. CSR Matrix, tokens ordered alphabetically\n",
    "counts = count_vec.transform(train['title'].values.tolist())"
   ]
  },
  {
   "cell_type": "code",
   "execution_count": 51,
   "metadata": {},
   "outputs": [],
   "source": [
    "index = np.random.choice(len(train),size=int(1.2e5))\n",
    "\n",
    "# (FIRST) Select those indices from the Sparse matrix and then turn into an array.\n",
    "sample = counts[index].toarray()"
   ]
  },
  {
   "cell_type": "code",
   "execution_count": 52,
   "metadata": {},
   "outputs": [
    {
     "data": {
      "text/plain": [
       "0.19251023390966104"
      ]
     },
     "execution_count": 52,
     "metadata": {},
     "output_type": "execute_result"
    }
   ],
   "source": [
    "# More components didn't offer a significant gain \n",
    "reduce = cross_decomposition.PLSRegression(n_components=5)\n",
    "\n",
    "# Fit undersampled array against the same indices for the target.\n",
    "reduce.fit(sample,train.iloc[index].deal_probability)\n",
    "\n",
    "# PLSR score reducing random sample of 3000~ features to 5 components.\n",
    "reduce.score(sample,train.iloc[index].deal_probability)"
   ]
  },
  {
   "cell_type": "code",
   "execution_count": 53,
   "metadata": {},
   "outputs": [],
   "source": [
    "sample = reduce.transform(sample)"
   ]
  },
  {
   "cell_type": "code",
   "execution_count": 31,
   "metadata": {},
   "outputs": [
    {
     "data": {
      "image/png": "[encoded data removed]",
      "text/plain": [
       "<Figure size 432x288 with 2 Axes>"
      ]
     },
     "metadata": {
      "needs_background": "light"
     },
     "output_type": "display_data"
    }
   ],
   "source": [
    "sns.heatmap(pd.DataFrame(sample).join(train_nlp_features).corr())\n",
    "plt.show()"
   ]
  },
  {
   "cell_type": "code",
   "execution_count": 54,
   "metadata": {},
   "outputs": [
    {
     "data": {
      "text/plain": [
       "array([0.19031122, 0.18468344, 0.20180731])"
      ]
     },
     "execution_count": 54,
     "metadata": {},
     "output_type": "execute_result"
    }
   ],
   "source": [
    "model_selection.cross_val_score(cv=3,estimator=linear,X=sample,y=train.iloc[index].deal_probability)"
   ]
  },
  {
   "cell_type": "code",
   "execution_count": 61,
   "metadata": {},
   "outputs": [
    {
     "data": {
      "text/plain": [
       "array([0.19024898, 0.18401111, 0.19484201, 0.18431953, 0.18104632,\n",
       "       0.18437213, 0.19518818, 0.20102509, 0.20213784, 0.2043796 ])"
      ]
     },
     "execution_count": 61,
     "metadata": {},
     "output_type": "execute_result"
    }
   ],
   "source": [
    "#sample = pd.DataFrame(sample).join(train_nlp_features)\n",
    "\n",
    "model_selection.cross_val_score(cv=10,\n",
    "                                estimator=linear,\n",
    "                                X=pd.DataFrame(sample).join(train_nlp_features),\n",
    "                                y=train.iloc[index].deal_probability)"
   ]
  },
  {
   "cell_type": "code",
   "execution_count": null,
   "metadata": {},
   "outputs": [],
   "source": []
  }
 ],
 "metadata": {
  "kernelspec": {
   "display_name": "Python 3",
   "language": "python",
   "name": "python3"
  },
  "language_info": {
   "codemirror_mode": {
    "name": "ipython",
    "version": 3
   },
   "file_extension": ".py",
   "mimetype": "text/x-python",
   "name": "python",
   "nbconvert_exporter": "python",
   "pygments_lexer": "ipython3",
   "version": "3.7.1"
  }
 },
 "nbformat": 4,
 "nbformat_minor": 2
}
