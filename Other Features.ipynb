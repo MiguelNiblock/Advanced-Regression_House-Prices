{
 "cells": [
  {
   "cell_type": "markdown",
   "metadata": {},
   "source": [
    "# Intro"
   ]
  },
  {
   "cell_type": "code",
   "execution_count": 1,
   "metadata": {},
   "outputs": [],
   "source": [
    "import pandas as pd\n",
    "import matplotlib.pyplot as plt\n",
    "import seaborn as sns\n",
    "import numpy as np\n",
    "\n",
    "import cyrtranslit\n",
    "from sklearn import preprocessing, model_selection, metrics, feature_selection, ensemble, linear_model\n",
    "from sklearn.pipeline import Pipeline\n",
    "import lightgbm as lgb\n",
    "color = sns.color_palette()\n",
    "%matplotlib inline"
   ]
  },
  {
   "cell_type": "code",
   "execution_count": 2,
   "metadata": {},
   "outputs": [],
   "source": [
    "train_features = pd.read_pickle('catfeatures_train.pkl',compression='zip')\n",
    "test_features = pd.read_pickle('catfeatures_test.pkl',compression='zip')"
   ]
  },
  {
   "cell_type": "code",
   "execution_count": 3,
   "metadata": {},
   "outputs": [],
   "source": [
    "train = pd.read_pickle('train.pkl',compression='zip')\n",
    "test = pd.read_pickle('test.pkl',compression='zip')"
   ]
  },
  {
   "cell_type": "code",
   "execution_count": 101,
   "metadata": {},
   "outputs": [
    {
     "data": {
      "text/plain": [
       "[('train_features', 3149673384),\n",
       " ('test_features', 1065177714),\n",
       " ('new_features', 24054888),\n",
       " ('Pipeline', 1056),\n",
       " ('color', 176),\n",
       " ('miss_vars', 88),\n",
       " ('ensemble', 80),\n",
       " ('feature_selection', 80),\n",
       " ('impute', 80),\n",
       " ('lgb', 80),\n",
       " ('linear_model', 80),\n",
       " ('metrics', 80),\n",
       " ('model_selection', 80),\n",
       " ('np', 80),\n",
       " ('pd', 80),\n",
       " ('plt', 80),\n",
       " ('preprocessing', 80),\n",
       " ('sns', 80),\n",
       " ('imputer', 56),\n",
       " ('indicator', 56)]"
      ]
     },
     "execution_count": 101,
     "metadata": {},
     "output_type": "execute_result"
    }
   ],
   "source": [
    "import sys\n",
    "\n",
    "# These are the usual ipython objects, including this one you are creating\n",
    "ipython_vars = ['In', 'Out', 'exit', 'quit', 'get_ipython', 'ipython_vars']\n",
    "\n",
    "# Get a sorted list of the objects and their sizes\n",
    "sorted([(x, sys.getsizeof(globals().get(x))) for x in dir() if not x.startswith('_') and x not in sys.modules and x not in ipython_vars], key=lambda x: x[1], reverse=True)"
   ]
  },
  {
   "cell_type": "markdown",
   "metadata": {},
   "source": [
    "# Other Features"
   ]
  },
  {
   "cell_type": "markdown",
   "metadata": {},
   "source": [
    "## Day of Week"
   ]
  },
  {
   "cell_type": "code",
   "execution_count": 9,
   "metadata": {},
   "outputs": [
    {
     "data": {
      "image/png": "[encoded data removed]",
      "text/plain": [
       "<Figure size 432x288 with 1 Axes>"
      ]
     },
     "metadata": {
      "needs_background": "light"
     },
     "output_type": "display_data"
    }
   ],
   "source": [
    "train.activation_date.dt.weekday.hist(bins=7)\n",
    "test.activation_date.dt.weekday.hist(bins=7)\n",
    "plt.show()"
   ]
  },
  {
   "cell_type": "code",
   "execution_count": 4,
   "metadata": {},
   "outputs": [],
   "source": [
    "# Add day features to train\n",
    "new_features = pd.DataFrame(index=train.index)\n",
    "\n",
    "new_features = new_features.join(pd.get_dummies(train[\"activation_date\"].dt.weekday))\n",
    "\n",
    "new_features.columns =['Sunday','Monday','Tuesday','Wednesday','Thursday','Friday','Saturday']\n",
    "\n",
    "new_features.head()\n",
    "\n",
    "train_features = train_features.join(new_features)"
   ]
  },
  {
   "cell_type": "code",
   "execution_count": 5,
   "metadata": {},
   "outputs": [],
   "source": [
    "# Add day features to test\n",
    "new_features = pd.DataFrame(index=test.index)\n",
    "\n",
    "new_features = new_features.join(pd.get_dummies(test[\"activation_date\"].dt.weekday))\n",
    "\n",
    "new_features.columns =['Sunday','Monday','Tuesday','Wednesday','Thursday','Friday','Saturday']\n",
    "\n",
    "test_features = test_features.join(new_features)"
   ]
  },
  {
   "cell_type": "code",
   "execution_count": 6,
   "metadata": {},
   "outputs": [
    {
     "name": "stdout",
     "output_type": "stream",
     "text": [
      "(1503424, 263)\n",
      "(508438, 263)\n"
     ]
    }
   ],
   "source": [
    "print(train_features.shape)\n",
    "print(test_features.shape)"
   ]
  },
  {
   "cell_type": "markdown",
   "metadata": {},
   "source": [
    "## Missing Values"
   ]
  },
  {
   "cell_type": "code",
   "execution_count": 13,
   "metadata": {},
   "outputs": [
    {
     "name": "stdout",
     "output_type": "stream",
     "text": [
      "<class 'pandas.core.frame.DataFrame'>\n",
      "RangeIndex: 1503424 entries, 0 to 1503423\n",
      "Data columns (total 11 columns):\n",
      "item_id             1503424 non-null object\n",
      "user_id             1503424 non-null object\n",
      "title               1503424 non-null object\n",
      "description         1387148 non-null object\n",
      "price               1418062 non-null float64\n",
      "item_seq_number     1503424 non-null int64\n",
      "activation_date     1503424 non-null datetime64[ns]\n",
      "user_type           1503424 non-null object\n",
      "image               1390836 non-null object\n",
      "image_top_1         1390836 non-null float64\n",
      "deal_probability    1503424 non-null float64\n",
      "dtypes: datetime64[ns](1), float64(3), int64(1), object(6)\n",
      "memory usage: 126.2+ MB\n"
     ]
    }
   ],
   "source": [
    "train.info()"
   ]
  },
  {
   "cell_type": "code",
   "execution_count": 14,
   "metadata": {},
   "outputs": [
    {
     "name": "stdout",
     "output_type": "stream",
     "text": [
      "<class 'pandas.core.frame.DataFrame'>\n",
      "RangeIndex: 508438 entries, 0 to 508437\n",
      "Data columns (total 10 columns):\n",
      "item_id            508438 non-null object\n",
      "user_id            508438 non-null object\n",
      "title              508438 non-null object\n",
      "description        508438 non-null object\n",
      "price              477853 non-null float64\n",
      "item_seq_number    508438 non-null int64\n",
      "activation_date    508438 non-null datetime64[ns]\n",
      "user_type          508438 non-null object\n",
      "image              465829 non-null object\n",
      "image_top_1        465829 non-null float64\n",
      "dtypes: datetime64[ns](1), float64(2), int64(1), object(6)\n",
      "memory usage: 38.8+ MB\n"
     ]
    }
   ],
   "source": [
    "test.info()"
   ]
  },
  {
   "cell_type": "markdown",
   "metadata": {},
   "source": [
    "- Test data has no missing values in description."
   ]
  },
  {
   "cell_type": "code",
   "execution_count": 7,
   "metadata": {},
   "outputs": [],
   "source": [
    "from sklearn import impute"
   ]
  },
  {
   "cell_type": "code",
   "execution_count": 8,
   "metadata": {},
   "outputs": [
    {
     "name": "stdout",
     "output_type": "stream",
     "text": [
      "As bool:\n",
      "price_miss           85362\n",
      "image_miss          112588\n",
      "image_top_1_miss    112588\n",
      "dtype: int64\n"
     ]
    },
    {
     "data": {
      "text/html": [
       "<div>\n",
       "<style scoped>\n",
       "    .dataframe tbody tr th:only-of-type {\n",
       "        vertical-align: middle;\n",
       "    }\n",
       "\n",
       "    .dataframe tbody tr th {\n",
       "        vertical-align: top;\n",
       "    }\n",
       "\n",
       "    .dataframe thead th {\n",
       "        text-align: right;\n",
       "    }\n",
       "</style>\n",
       "<table border=\"1\" class=\"dataframe\">\n",
       "  <thead>\n",
       "    <tr style=\"text-align: right;\">\n",
       "      <th></th>\n",
       "      <th>price_miss</th>\n",
       "      <th>image_miss</th>\n",
       "      <th>image_top_1_miss</th>\n",
       "    </tr>\n",
       "  </thead>\n",
       "  <tbody>\n",
       "    <tr>\n",
       "      <th>0</th>\n",
       "      <td>False</td>\n",
       "      <td>False</td>\n",
       "      <td>False</td>\n",
       "    </tr>\n",
       "    <tr>\n",
       "      <th>1</th>\n",
       "      <td>False</td>\n",
       "      <td>False</td>\n",
       "      <td>False</td>\n",
       "    </tr>\n",
       "    <tr>\n",
       "      <th>2</th>\n",
       "      <td>False</td>\n",
       "      <td>False</td>\n",
       "      <td>False</td>\n",
       "    </tr>\n",
       "    <tr>\n",
       "      <th>3</th>\n",
       "      <td>False</td>\n",
       "      <td>False</td>\n",
       "      <td>False</td>\n",
       "    </tr>\n",
       "    <tr>\n",
       "      <th>4</th>\n",
       "      <td>False</td>\n",
       "      <td>False</td>\n",
       "      <td>False</td>\n",
       "    </tr>\n",
       "  </tbody>\n",
       "</table>\n",
       "</div>"
      ],
      "text/plain": [
       "   price_miss  image_miss  image_top_1_miss\n",
       "0       False       False             False\n",
       "1       False       False             False\n",
       "2       False       False             False\n",
       "3       False       False             False\n",
       "4       False       False             False"
      ]
     },
     "metadata": {},
     "output_type": "display_data"
    },
    {
     "name": "stdout",
     "output_type": "stream",
     "text": [
      "\n",
      "As int:\n",
      "price_miss           85362\n",
      "image_miss          112588\n",
      "image_top_1_miss    112588\n",
      "dtype: int64\n"
     ]
    },
    {
     "data": {
      "text/html": [
       "<div>\n",
       "<style scoped>\n",
       "    .dataframe tbody tr th:only-of-type {\n",
       "        vertical-align: middle;\n",
       "    }\n",
       "\n",
       "    .dataframe tbody tr th {\n",
       "        vertical-align: top;\n",
       "    }\n",
       "\n",
       "    .dataframe thead th {\n",
       "        text-align: right;\n",
       "    }\n",
       "</style>\n",
       "<table border=\"1\" class=\"dataframe\">\n",
       "  <thead>\n",
       "    <tr style=\"text-align: right;\">\n",
       "      <th></th>\n",
       "      <th>price_miss</th>\n",
       "      <th>image_miss</th>\n",
       "      <th>image_top_1_miss</th>\n",
       "    </tr>\n",
       "  </thead>\n",
       "  <tbody>\n",
       "    <tr>\n",
       "      <th>0</th>\n",
       "      <td>0</td>\n",
       "      <td>0</td>\n",
       "      <td>0</td>\n",
       "    </tr>\n",
       "    <tr>\n",
       "      <th>1</th>\n",
       "      <td>0</td>\n",
       "      <td>0</td>\n",
       "      <td>0</td>\n",
       "    </tr>\n",
       "    <tr>\n",
       "      <th>2</th>\n",
       "      <td>0</td>\n",
       "      <td>0</td>\n",
       "      <td>0</td>\n",
       "    </tr>\n",
       "    <tr>\n",
       "      <th>3</th>\n",
       "      <td>0</td>\n",
       "      <td>0</td>\n",
       "      <td>0</td>\n",
       "    </tr>\n",
       "    <tr>\n",
       "      <th>4</th>\n",
       "      <td>0</td>\n",
       "      <td>0</td>\n",
       "      <td>0</td>\n",
       "    </tr>\n",
       "  </tbody>\n",
       "</table>\n",
       "</div>"
      ],
      "text/plain": [
       "   price_miss  image_miss  image_top_1_miss\n",
       "0           0           0                 0\n",
       "1           0           0                 0\n",
       "2           0           0                 0\n",
       "3           0           0                 0\n",
       "4           0           0                 0"
      ]
     },
     "metadata": {},
     "output_type": "display_data"
    }
   ],
   "source": [
    "indicator = impute.MissingIndicator(missing_values=True,error_on_new=False)\n",
    "\n",
    "indicator.fit(test.isna())\n",
    "\n",
    "miss_vars = ['price_miss','image_miss','image_top_1_miss']\n",
    "\n",
    "new_features = pd.DataFrame(indicator.transform(train.drop('deal_probability',axis=1).isna()),columns=miss_vars)\n",
    "print('As bool:')\n",
    "print(new_features.sum())\n",
    "display(new_features.head())\n",
    "\n",
    "new_features = new_features.astype(int)\n",
    "print('\\nAs int:')\n",
    "print(new_features.sum())\n",
    "display(new_features.head())"
   ]
  },
  {
   "cell_type": "code",
   "execution_count": 9,
   "metadata": {},
   "outputs": [],
   "source": [
    "train_features = train_features.join(new_features)"
   ]
  },
  {
   "cell_type": "code",
   "execution_count": 10,
   "metadata": {},
   "outputs": [],
   "source": [
    "new_features = pd.DataFrame(indicator.transform(test.isna()),columns=miss_vars)\n",
    "new_features = new_features.astype(int)\n",
    "test_features = test_features.join(new_features)"
   ]
  },
  {
   "cell_type": "code",
   "execution_count": 11,
   "metadata": {},
   "outputs": [
    {
     "name": "stdout",
     "output_type": "stream",
     "text": [
      "(1503424, 266)\n",
      "(508438, 266)\n"
     ]
    }
   ],
   "source": [
    "print(train_features.shape)\n",
    "print(test_features.shape)"
   ]
  },
  {
   "cell_type": "markdown",
   "metadata": {},
   "source": [
    "## Word Lengths\n",
    "### Description & Title"
   ]
  },
  {
   "cell_type": "code",
   "execution_count": 12,
   "metadata": {},
   "outputs": [],
   "source": [
    "new_features = pd.DataFrame(index=train.index)\n",
    "\n",
    "new_features['desc_words'] = train.description.fillna('').apply(lambda x: len(x.split()))\n",
    "\n",
    "train_features = train_features.join(new_features)"
   ]
  },
  {
   "cell_type": "code",
   "execution_count": 13,
   "metadata": {},
   "outputs": [],
   "source": [
    "new_features = pd.DataFrame(index=test.index)\n",
    "\n",
    "new_features['desc_words'] = test.description.fillna('').apply(lambda x: len(x.split()))\n",
    "\n",
    "test_features = test_features.join(new_features)"
   ]
  },
  {
   "cell_type": "code",
   "execution_count": 14,
   "metadata": {},
   "outputs": [
    {
     "name": "stdout",
     "output_type": "stream",
     "text": [
      "(1503424, 267)\n",
      "(508438, 267)\n"
     ]
    }
   ],
   "source": [
    "print(train_features.shape)\n",
    "print(test_features.shape)"
   ]
  },
  {
   "cell_type": "code",
   "execution_count": 15,
   "metadata": {},
   "outputs": [],
   "source": [
    "new_features = pd.DataFrame(index=train.index)\n",
    "\n",
    "new_features['title_words'] = train.title.fillna('').apply(lambda x: len(x.split()))\n",
    "\n",
    "train_features = train_features.join(new_features)"
   ]
  },
  {
   "cell_type": "code",
   "execution_count": 16,
   "metadata": {},
   "outputs": [],
   "source": [
    "new_features = pd.DataFrame(index=test.index)\n",
    "\n",
    "new_features['title_words'] = test.title.fillna('').apply(lambda x: len(x.split()))\n",
    "\n",
    "test_features = test_features.join(new_features)"
   ]
  },
  {
   "cell_type": "code",
   "execution_count": 17,
   "metadata": {},
   "outputs": [
    {
     "name": "stdout",
     "output_type": "stream",
     "text": [
      "(1503424, 268)\n",
      "(508438, 268)\n"
     ]
    }
   ],
   "source": [
    "print(train_features.shape)\n",
    "print(test_features.shape)"
   ]
  },
  {
   "cell_type": "markdown",
   "metadata": {},
   "source": [
    "## Imputations\n",
    "### Price, Image_top_1"
   ]
  },
  {
   "cell_type": "code",
   "execution_count": 55,
   "metadata": {},
   "outputs": [
    {
     "name": "stdout",
     "output_type": "stream",
     "text": [
      "PRICE\n",
      "\n",
      "Train Median: 1300.0\n",
      "Test Median: 1500.0\n",
      "\n",
      "Train Mean: 316708.0884982462\n",
      "Test Mean: 279818.9459415343\n"
     ]
    }
   ],
   "source": [
    "print('PRICE\\n')\n",
    "print('Train Median:',np.median(train.price.dropna()))\n",
    "print('Test Median:',np.median(test.price.dropna()))\n",
    "print(\"\")\n",
    "print('Train Mean:',np.mean(train.price.dropna()))\n",
    "print('Test Mean:',np.mean(test.price.dropna()))"
   ]
  },
  {
   "cell_type": "code",
   "execution_count": 58,
   "metadata": {},
   "outputs": [
    {
     "data": {
      "text/plain": [
       "count    1.418062e+06\n",
       "mean     3.167081e+05\n",
       "std      6.689154e+07\n",
       "min      0.000000e+00\n",
       "25%      5.000000e+02\n",
       "50%      1.300000e+03\n",
       "75%      7.000000e+03\n",
       "max      7.950101e+10\n",
       "Name: price, dtype: float64"
      ]
     },
     "execution_count": 58,
     "metadata": {},
     "output_type": "execute_result"
    }
   ],
   "source": [
    "train.price.describe()"
   ]
  },
  {
   "cell_type": "code",
   "execution_count": 62,
   "metadata": {},
   "outputs": [
    {
     "name": "stdout",
     "output_type": "stream",
     "text": [
      "Image_Top_1\n",
      "\n",
      "Train Median: 1057.0\n",
      "Test Median: 1132.0\n",
      "\n",
      "Train Mean: 1241.9321192433904\n",
      "Test Mean: 1297.959227527698\n"
     ]
    }
   ],
   "source": [
    "print('Image_Top_1\\n')\n",
    "print('Train Median:',np.median(train.image_top_1.dropna()))\n",
    "print('Test Median:',np.median(test.image_top_1.dropna()))\n",
    "print(\"\")\n",
    "print('Train Mean:',np.mean(train.image_top_1.dropna()))\n",
    "print('Test Mean:',np.mean(test.image_top_1.dropna()))"
   ]
  },
  {
   "cell_type": "code",
   "execution_count": 63,
   "metadata": {},
   "outputs": [
    {
     "data": {
      "text/plain": [
       "count    1.390836e+06\n",
       "mean     1.241932e+03\n",
       "std      9.704641e+02\n",
       "min      0.000000e+00\n",
       "25%      4.250000e+02\n",
       "50%      1.057000e+03\n",
       "75%      2.217000e+03\n",
       "max      3.066000e+03\n",
       "Name: image_top_1, dtype: float64"
      ]
     },
     "execution_count": 63,
     "metadata": {},
     "output_type": "execute_result"
    }
   ],
   "source": [
    "train.image_top_1.describe()"
   ]
  },
  {
   "cell_type": "code",
   "execution_count": 18,
   "metadata": {},
   "outputs": [],
   "source": [
    "imputer = impute.SimpleImputer(strategy='median')\n",
    "\n",
    "imputer.fit(train[['price','image_top_1']].append(test[['price','image_top_1']]))\n",
    "\n",
    "new_features = pd.DataFrame(imputer.transform(train[['price','image_top_1']]))\n",
    "\n",
    "new_features.columns = ['price_imp','image_top_1_imp']\n",
    "\n",
    "train_features = train_features.join(new_features)"
   ]
  },
  {
   "cell_type": "code",
   "execution_count": 25,
   "metadata": {},
   "outputs": [],
   "source": [
    "new_features = pd.DataFrame(imputer.transform(test[['price','image_top_1']]))\n",
    "\n",
    "new_features.columns = ['price_imp','image_top_1_imp']\n",
    "\n",
    "test_features = test_features.join(new_features)"
   ]
  },
  {
   "cell_type": "code",
   "execution_count": 26,
   "metadata": {},
   "outputs": [
    {
     "name": "stdout",
     "output_type": "stream",
     "text": [
      "(1503424, 270)\n",
      "(508438, 270)\n"
     ]
    }
   ],
   "source": [
    "print(train_features.shape)\n",
    "print(test_features.shape)"
   ]
  },
  {
   "cell_type": "markdown",
   "metadata": {},
   "source": [
    "### Item_Seq_Number"
   ]
  },
  {
   "cell_type": "code",
   "execution_count": 93,
   "metadata": {},
   "outputs": [
    {
     "data": {
      "text/plain": [
       "count    1.503424e+06\n",
       "mean     7.436740e+02\n",
       "std      5.572522e+03\n",
       "min      1.000000e+00\n",
       "25%      9.000000e+00\n",
       "50%      2.900000e+01\n",
       "75%      8.800000e+01\n",
       "max      2.044290e+05\n",
       "Name: item_seq_number, dtype: float64"
      ]
     },
     "execution_count": 93,
     "metadata": {},
     "output_type": "execute_result"
    }
   ],
   "source": [
    "train.item_seq_number.describe()"
   ]
  },
  {
   "cell_type": "code",
   "execution_count": 94,
   "metadata": {},
   "outputs": [
    {
     "data": {
      "text/plain": [
       "<matplotlib.axes._subplots.AxesSubplot at 0x7fc374477978>"
      ]
     },
     "execution_count": 94,
     "metadata": {},
     "output_type": "execute_result"
    },
    {
     "data": {
      "image/png": "[encoded data removed]",
      "text/plain": [
       "<Figure size 432x288 with 1 Axes>"
      ]
     },
     "metadata": {
      "needs_background": "light"
     },
     "output_type": "display_data"
    }
   ],
   "source": [
    "train.item_seq_number.hist()"
   ]
  },
  {
   "cell_type": "code",
   "execution_count": 95,
   "metadata": {},
   "outputs": [],
   "source": [
    "train_features['seq_n'] = train['item_seq_number']"
   ]
  },
  {
   "cell_type": "code",
   "execution_count": 96,
   "metadata": {},
   "outputs": [],
   "source": [
    "test_features['seq_n'] = test['item_seq_number']"
   ]
  },
  {
   "cell_type": "code",
   "execution_count": 97,
   "metadata": {},
   "outputs": [
    {
     "name": "stdout",
     "output_type": "stream",
     "text": [
      "(1503424, 271)\n",
      "(508438, 271)\n"
     ]
    }
   ],
   "source": [
    "print(train_features.shape)\n",
    "print(test_features.shape)"
   ]
  },
  {
   "cell_type": "markdown",
   "metadata": {},
   "source": [
    "---"
   ]
  },
  {
   "cell_type": "code",
   "execution_count": 98,
   "metadata": {
    "collapsed": true
   },
   "outputs": [
    {
     "ename": "MemoryError",
     "evalue": "",
     "output_type": "error",
     "traceback": [
      "\u001b[0;31m---------------------------------------------------------------------------\u001b[0m",
      "\u001b[0;31mMemoryError\u001b[0m                               Traceback (most recent call last)",
      "\u001b[0;32m<ipython-input-98-5c745d8bedc9>\u001b[0m in \u001b[0;36m<module>\u001b[0;34m\u001b[0m\n\u001b[0;32m----> 1\u001b[0;31m \u001b[0mtrain_features\u001b[0m\u001b[0;34m.\u001b[0m\u001b[0mto_pickle\u001b[0m\u001b[0;34m(\u001b[0m\u001b[0;34m'train_features.pkl'\u001b[0m\u001b[0;34m,\u001b[0m\u001b[0mcompression\u001b[0m\u001b[0;34m=\u001b[0m\u001b[0;34m'zip'\u001b[0m\u001b[0;34m)\u001b[0m\u001b[0;34m\u001b[0m\u001b[0;34m\u001b[0m\u001b[0m\n\u001b[0m\u001b[1;32m      2\u001b[0m \u001b[0mtest_features\u001b[0m\u001b[0;34m.\u001b[0m\u001b[0mto_pickle\u001b[0m\u001b[0;34m(\u001b[0m\u001b[0;34m'test_features.pkl'\u001b[0m\u001b[0;34m,\u001b[0m\u001b[0mcompression\u001b[0m\u001b[0;34m=\u001b[0m\u001b[0;34m'zip'\u001b[0m\u001b[0;34m)\u001b[0m\u001b[0;34m\u001b[0m\u001b[0;34m\u001b[0m\u001b[0m\n",
      "\u001b[0;32m~/anaconda3/lib/python3.7/site-packages/pandas/core/generic.py\u001b[0m in \u001b[0;36mto_pickle\u001b[0;34m(self, path, compression, protocol)\u001b[0m\n\u001b[1;32m   2190\u001b[0m         \u001b[0;32mfrom\u001b[0m \u001b[0mpandas\u001b[0m\u001b[0;34m.\u001b[0m\u001b[0mio\u001b[0m\u001b[0;34m.\u001b[0m\u001b[0mpickle\u001b[0m \u001b[0;32mimport\u001b[0m \u001b[0mto_pickle\u001b[0m\u001b[0;34m\u001b[0m\u001b[0;34m\u001b[0m\u001b[0m\n\u001b[1;32m   2191\u001b[0m         return to_pickle(self, path, compression=compression,\n\u001b[0;32m-> 2192\u001b[0;31m                          protocol=protocol)\n\u001b[0m\u001b[1;32m   2193\u001b[0m \u001b[0;34m\u001b[0m\u001b[0m\n\u001b[1;32m   2194\u001b[0m     \u001b[0;32mdef\u001b[0m \u001b[0mto_clipboard\u001b[0m\u001b[0;34m(\u001b[0m\u001b[0mself\u001b[0m\u001b[0;34m,\u001b[0m \u001b[0mexcel\u001b[0m\u001b[0;34m=\u001b[0m\u001b[0;32mTrue\u001b[0m\u001b[0;34m,\u001b[0m \u001b[0msep\u001b[0m\u001b[0;34m=\u001b[0m\u001b[0;32mNone\u001b[0m\u001b[0;34m,\u001b[0m \u001b[0;34m**\u001b[0m\u001b[0mkwargs\u001b[0m\u001b[0;34m)\u001b[0m\u001b[0;34m:\u001b[0m\u001b[0;34m\u001b[0m\u001b[0;34m\u001b[0m\u001b[0m\n",
      "\u001b[0;32m~/anaconda3/lib/python3.7/site-packages/pandas/io/pickle.py\u001b[0m in \u001b[0;36mto_pickle\u001b[0;34m(obj, path, compression, protocol)\u001b[0m\n\u001b[1;32m     75\u001b[0m         \u001b[0mprotocol\u001b[0m \u001b[0;34m=\u001b[0m \u001b[0mpkl\u001b[0m\u001b[0;34m.\u001b[0m\u001b[0mHIGHEST_PROTOCOL\u001b[0m\u001b[0;34m\u001b[0m\u001b[0;34m\u001b[0m\u001b[0m\n\u001b[1;32m     76\u001b[0m     \u001b[0;32mtry\u001b[0m\u001b[0;34m:\u001b[0m\u001b[0;34m\u001b[0m\u001b[0;34m\u001b[0m\u001b[0m\n\u001b[0;32m---> 77\u001b[0;31m         \u001b[0mf\u001b[0m\u001b[0;34m.\u001b[0m\u001b[0mwrite\u001b[0m\u001b[0;34m(\u001b[0m\u001b[0mpkl\u001b[0m\u001b[0;34m.\u001b[0m\u001b[0mdumps\u001b[0m\u001b[0;34m(\u001b[0m\u001b[0mobj\u001b[0m\u001b[0;34m,\u001b[0m \u001b[0mprotocol\u001b[0m\u001b[0;34m=\u001b[0m\u001b[0mprotocol\u001b[0m\u001b[0;34m)\u001b[0m\u001b[0;34m)\u001b[0m\u001b[0;34m\u001b[0m\u001b[0;34m\u001b[0m\u001b[0m\n\u001b[0m\u001b[1;32m     78\u001b[0m     \u001b[0;32mfinally\u001b[0m\u001b[0;34m:\u001b[0m\u001b[0;34m\u001b[0m\u001b[0;34m\u001b[0m\u001b[0m\n\u001b[1;32m     79\u001b[0m         \u001b[0;32mfor\u001b[0m \u001b[0m_f\u001b[0m \u001b[0;32min\u001b[0m \u001b[0mfh\u001b[0m\u001b[0;34m:\u001b[0m\u001b[0;34m\u001b[0m\u001b[0;34m\u001b[0m\u001b[0m\n",
      "\u001b[0;31mMemoryError\u001b[0m: "
     ]
    }
   ],
   "source": [
    "train_features.to_pickle('train_features.pkl',compression='zip')\n",
    "test_features.to_pickle('test_features.pkl',compression='zip')"
   ]
  },
  {
   "cell_type": "markdown",
   "metadata": {},
   "source": [
    "```python\n",
    "train_df = pd.merge(train_df, temp_df, on=\"parent_category_name\", how=\"left\")\n",
    "```"
   ]
  },
  {
   "cell_type": "markdown",
   "metadata": {},
   "source": [
    "# Score with Current Features"
   ]
  },
  {
   "cell_type": "code",
   "execution_count": 32,
   "metadata": {},
   "outputs": [
    {
     "name": "stdout",
     "output_type": "stream",
     "text": [
      "Score with current features: 0.1765148041841039\n"
     ]
    }
   ],
   "source": [
    "model = linear_model.LinearRegression()\n",
    "cv = model_selection.cross_val_score(model,train_features,train.deal_probability,cv=3)\n",
    "score = np.mean(cv)\n",
    "print('Score with current features:',score)"
   ]
  },
  {
   "cell_type": "code",
   "execution_count": 86,
   "metadata": {},
   "outputs": [],
   "source": [
    "scaler = preprocessing.StandardScaler()\n",
    "\n",
    "scaled_features = scaler.fit_transform(train_features)\n",
    "\n",
    "model.fit(scaled_features,train.deal_probability)\n",
    "\n",
    "coefs = pd.DataFrame()\n",
    "\n",
    "coefs['feature'] = train_features.columns.tolist()\n",
    "\n",
    "coefs['coef'] = model.coef_\n",
    "\n",
    "coefs['absolute'] = np.absolute(coefs['coef'])"
   ]
  },
  {
   "cell_type": "code",
   "execution_count": 89,
   "metadata": {},
   "outputs": [
    {
     "data": {
      "text/plain": [
       "0.1794413717557889"
      ]
     },
     "execution_count": 89,
     "metadata": {},
     "output_type": "execute_result"
    }
   ],
   "source": [
    "model.score(scaled_features,train.deal_probability)"
   ]
  },
  {
   "cell_type": "code",
   "execution_count": 101,
   "metadata": {
    "collapsed": true
   },
   "outputs": [
    {
     "data": {
      "text/html": [
       "<div>\n",
       "<style scoped>\n",
       "    .dataframe tbody tr th:only-of-type {\n",
       "        vertical-align: middle;\n",
       "    }\n",
       "\n",
       "    .dataframe tbody tr th {\n",
       "        vertical-align: top;\n",
       "    }\n",
       "\n",
       "    .dataframe thead th {\n",
       "        text-align: right;\n",
       "    }\n",
       "</style>\n",
       "<table border=\"1\" class=\"dataframe\">\n",
       "  <thead>\n",
       "    <tr style=\"text-align: right;\">\n",
       "      <th></th>\n",
       "      <th>feature</th>\n",
       "      <th>coef</th>\n",
       "      <th>absolute</th>\n",
       "    </tr>\n",
       "  </thead>\n",
       "  <tbody>\n",
       "    <tr>\n",
       "      <th>206</th>\n",
       "      <td>Dlja doma i dachi</td>\n",
       "      <td>5.736541e+10</td>\n",
       "      <td>5.736541e+10</td>\n",
       "    </tr>\n",
       "    <tr>\n",
       "      <th>254</th>\n",
       "      <td>Private</td>\n",
       "      <td>-5.071664e+10</td>\n",
       "      <td>5.071664e+10</td>\n",
       "    </tr>\n",
       "    <tr>\n",
       "      <th>253</th>\n",
       "      <td>Company</td>\n",
       "      <td>-4.737587e+10</td>\n",
       "      <td>4.737587e+10</td>\n",
       "    </tr>\n",
       "    <tr>\n",
       "      <th>211</th>\n",
       "      <td>Uslugi</td>\n",
       "      <td>4.074787e+10</td>\n",
       "      <td>4.074787e+10</td>\n",
       "    </tr>\n",
       "    <tr>\n",
       "      <th>241</th>\n",
       "      <td>Predlozhenie uslug</td>\n",
       "      <td>-4.074787e+10</td>\n",
       "      <td>4.074787e+10</td>\n",
       "    </tr>\n",
       "    <tr>\n",
       "      <th>231</th>\n",
       "      <td>Mebel' i inter'er</td>\n",
       "      <td>-3.605020e+10</td>\n",
       "      <td>3.605020e+10</td>\n",
       "    </tr>\n",
       "    <tr>\n",
       "      <th>212</th>\n",
       "      <td>ZHivotnye</td>\n",
       "      <td>3.603556e+10</td>\n",
       "      <td>3.603556e+10</td>\n",
       "    </tr>\n",
       "    <tr>\n",
       "      <th>245</th>\n",
       "      <td>Remont i stroitel'stvo</td>\n",
       "      <td>-3.361520e+10</td>\n",
       "      <td>3.361520e+10</td>\n",
       "    </tr>\n",
       "    <tr>\n",
       "      <th>256</th>\n",
       "      <td>Sunday</td>\n",
       "      <td>3.294112e+10</td>\n",
       "      <td>3.294112e+10</td>\n",
       "    </tr>\n",
       "    <tr>\n",
       "      <th>262</th>\n",
       "      <td>Saturday</td>\n",
       "      <td>3.281609e+10</td>\n",
       "      <td>3.281609e+10</td>\n",
       "    </tr>\n",
       "    <tr>\n",
       "      <th>257</th>\n",
       "      <td>Monday</td>\n",
       "      <td>3.254708e+10</td>\n",
       "      <td>3.254708e+10</td>\n",
       "    </tr>\n",
       "    <tr>\n",
       "      <th>258</th>\n",
       "      <td>Tuesday</td>\n",
       "      <td>3.224944e+10</td>\n",
       "      <td>3.224944e+10</td>\n",
       "    </tr>\n",
       "    <tr>\n",
       "      <th>259</th>\n",
       "      <td>Wednesday</td>\n",
       "      <td>3.189030e+10</td>\n",
       "      <td>3.189030e+10</td>\n",
       "    </tr>\n",
       "    <tr>\n",
       "      <th>260</th>\n",
       "      <td>Thursday</td>\n",
       "      <td>3.081770e+10</td>\n",
       "      <td>3.081770e+10</td>\n",
       "    </tr>\n",
       "    <tr>\n",
       "      <th>261</th>\n",
       "      <td>Friday</td>\n",
       "      <td>3.071958e+10</td>\n",
       "      <td>3.071958e+10</td>\n",
       "    </tr>\n",
       "    <tr>\n",
       "      <th>215</th>\n",
       "      <td>Bytovaja tehnika</td>\n",
       "      <td>-2.623374e+10</td>\n",
       "      <td>2.623374e+10</td>\n",
       "    </tr>\n",
       "    <tr>\n",
       "      <th>255</th>\n",
       "      <td>Shop</td>\n",
       "      <td>-2.530083e+10</td>\n",
       "      <td>2.530083e+10</td>\n",
       "    </tr>\n",
       "    <tr>\n",
       "      <th>265</th>\n",
       "      <td>image_top_1_miss</td>\n",
       "      <td>-2.505022e+10</td>\n",
       "      <td>2.505022e+10</td>\n",
       "    </tr>\n",
       "    <tr>\n",
       "      <th>264</th>\n",
       "      <td>image_miss</td>\n",
       "      <td>2.505022e+10</td>\n",
       "      <td>2.505022e+10</td>\n",
       "    </tr>\n",
       "    <tr>\n",
       "      <th>246</th>\n",
       "      <td>Sobaki</td>\n",
       "      <td>-1.718935e+10</td>\n",
       "      <td>1.718935e+10</td>\n",
       "    </tr>\n",
       "    <tr>\n",
       "      <th>208</th>\n",
       "      <td>Lichnye veszi</td>\n",
       "      <td>-1.697620e+10</td>\n",
       "      <td>1.697620e+10</td>\n",
       "    </tr>\n",
       "    <tr>\n",
       "      <th>218</th>\n",
       "      <td>Drugie zhivotnye</td>\n",
       "      <td>-1.676385e+10</td>\n",
       "      <td>1.676385e+10</td>\n",
       "    </tr>\n",
       "    <tr>\n",
       "      <th>228</th>\n",
       "      <td>Koshki</td>\n",
       "      <td>-1.592139e+10</td>\n",
       "      <td>1.592139e+10</td>\n",
       "    </tr>\n",
       "    <tr>\n",
       "      <th>250</th>\n",
       "      <td>Tovary dlja zhivotnyh</td>\n",
       "      <td>-1.479076e+10</td>\n",
       "      <td>1.479076e+10</td>\n",
       "    </tr>\n",
       "    <tr>\n",
       "      <th>240</th>\n",
       "      <td>Posuda i tovary dlja kuhni</td>\n",
       "      <td>-1.372679e+10</td>\n",
       "      <td>1.372679e+10</td>\n",
       "    </tr>\n",
       "    <tr>\n",
       "      <th>244</th>\n",
       "      <td>Rastenija</td>\n",
       "      <td>-1.368840e+10</td>\n",
       "      <td>1.368840e+10</td>\n",
       "    </tr>\n",
       "    <tr>\n",
       "      <th>237</th>\n",
       "      <td>Odezhda, obuv', aksessuary</td>\n",
       "      <td>1.330207e+10</td>\n",
       "      <td>1.330207e+10</td>\n",
       "    </tr>\n",
       "    <tr>\n",
       "      <th>217</th>\n",
       "      <td>Detskaja odezhda i obuv'</td>\n",
       "      <td>1.307313e+10</td>\n",
       "      <td>1.307313e+10</td>\n",
       "    </tr>\n",
       "    <tr>\n",
       "      <th>243</th>\n",
       "      <td>Pticy</td>\n",
       "      <td>-1.283026e+10</td>\n",
       "      <td>1.283026e+10</td>\n",
       "    </tr>\n",
       "    <tr>\n",
       "      <th>213</th>\n",
       "      <td>Akvarium</td>\n",
       "      <td>-1.112275e+10</td>\n",
       "      <td>1.112275e+10</td>\n",
       "    </tr>\n",
       "    <tr>\n",
       "      <th>...</th>\n",
       "      <td>...</td>\n",
       "      <td>...</td>\n",
       "      <td>...</td>\n",
       "    </tr>\n",
       "    <tr>\n",
       "      <th>150</th>\n",
       "      <td>44–46 (M)</td>\n",
       "      <td>5.455251e-04</td>\n",
       "      <td>5.455251e-04</td>\n",
       "    </tr>\n",
       "    <tr>\n",
       "      <th>179</th>\n",
       "      <td>50–52 (XL)</td>\n",
       "      <td>-5.339308e-04</td>\n",
       "      <td>5.339308e-04</td>\n",
       "    </tr>\n",
       "    <tr>\n",
       "      <th>158</th>\n",
       "      <td>62-68 sm (2-6 mes)</td>\n",
       "      <td>-5.216537e-04</td>\n",
       "      <td>5.216537e-04</td>\n",
       "    </tr>\n",
       "    <tr>\n",
       "      <th>1</th>\n",
       "      <td>Novosibirsk</td>\n",
       "      <td>5.170598e-04</td>\n",
       "      <td>5.170598e-04</td>\n",
       "    </tr>\n",
       "    <tr>\n",
       "      <th>97</th>\n",
       "      <td>Dzhinsy</td>\n",
       "      <td>-4.661765e-04</td>\n",
       "      <td>4.661765e-04</td>\n",
       "    </tr>\n",
       "    <tr>\n",
       "      <th>267</th>\n",
       "      <td>title_words</td>\n",
       "      <td>-4.158822e-04</td>\n",
       "      <td>4.158822e-04</td>\n",
       "    </tr>\n",
       "    <tr>\n",
       "      <th>156</th>\n",
       "      <td>40–42 (XS)</td>\n",
       "      <td>4.142133e-04</td>\n",
       "      <td>4.142133e-04</td>\n",
       "    </tr>\n",
       "    <tr>\n",
       "      <th>10</th>\n",
       "      <td>Kropotkin</td>\n",
       "      <td>3.807151e-04</td>\n",
       "      <td>3.807151e-04</td>\n",
       "    </tr>\n",
       "    <tr>\n",
       "      <th>176</th>\n",
       "      <td>48–50 (L)</td>\n",
       "      <td>-3.703480e-04</td>\n",
       "      <td>3.703480e-04</td>\n",
       "    </tr>\n",
       "    <tr>\n",
       "      <th>175</th>\n",
       "      <td>46–48 (M)</td>\n",
       "      <td>-3.267986e-04</td>\n",
       "      <td>3.267986e-04</td>\n",
       "    </tr>\n",
       "    <tr>\n",
       "      <th>220</th>\n",
       "      <td>Garazhi i mashinomesta</td>\n",
       "      <td>2.886559e-04</td>\n",
       "      <td>2.886559e-04</td>\n",
       "    </tr>\n",
       "    <tr>\n",
       "      <th>157</th>\n",
       "      <td>46–48 (L)</td>\n",
       "      <td>2.607391e-04</td>\n",
       "      <td>2.607391e-04</td>\n",
       "    </tr>\n",
       "    <tr>\n",
       "      <th>11</th>\n",
       "      <td>Belorechensk</td>\n",
       "      <td>2.588534e-04</td>\n",
       "      <td>2.588534e-04</td>\n",
       "    </tr>\n",
       "    <tr>\n",
       "      <th>198</th>\n",
       "      <td>Krasnojarskij kraj</td>\n",
       "      <td>-1.905423e-04</td>\n",
       "      <td>1.905423e-04</td>\n",
       "    </tr>\n",
       "    <tr>\n",
       "      <th>17</th>\n",
       "      <td>Blankparam_2_en</td>\n",
       "      <td>-1.890474e-04</td>\n",
       "      <td>1.890474e-04</td>\n",
       "    </tr>\n",
       "    <tr>\n",
       "      <th>191</th>\n",
       "      <td>Nexia</td>\n",
       "      <td>1.684419e-04</td>\n",
       "      <td>1.684419e-04</td>\n",
       "    </tr>\n",
       "    <tr>\n",
       "      <th>144</th>\n",
       "      <td>Mobil'nye ustrojstva</td>\n",
       "      <td>1.641338e-04</td>\n",
       "      <td>1.641338e-04</td>\n",
       "    </tr>\n",
       "    <tr>\n",
       "      <th>238</th>\n",
       "      <td>Orgtehnika i rashodniki</td>\n",
       "      <td>1.576938e-04</td>\n",
       "      <td>1.576938e-04</td>\n",
       "    </tr>\n",
       "    <tr>\n",
       "      <th>143</th>\n",
       "      <td>Montazh i obsluzhivanie oborudovanija</td>\n",
       "      <td>-1.525028e-04</td>\n",
       "      <td>1.525028e-04</td>\n",
       "    </tr>\n",
       "    <tr>\n",
       "      <th>219</th>\n",
       "      <td>Fototehnika</td>\n",
       "      <td>-1.519590e-04</td>\n",
       "      <td>1.519590e-04</td>\n",
       "    </tr>\n",
       "    <tr>\n",
       "      <th>190</th>\n",
       "      <td>2115 Samara</td>\n",
       "      <td>1.506648e-04</td>\n",
       "      <td>1.506648e-04</td>\n",
       "    </tr>\n",
       "    <tr>\n",
       "      <th>20</th>\n",
       "      <td>Muzhskaja odezhda</td>\n",
       "      <td>-1.305247e-04</td>\n",
       "      <td>1.305247e-04</td>\n",
       "    </tr>\n",
       "    <tr>\n",
       "      <th>112</th>\n",
       "      <td>Nizhnee bel'yo</td>\n",
       "      <td>1.200000e-04</td>\n",
       "      <td>1.200000e-04</td>\n",
       "    </tr>\n",
       "    <tr>\n",
       "      <th>192</th>\n",
       "      <td>21099</td>\n",
       "      <td>-1.050327e-04</td>\n",
       "      <td>1.050327e-04</td>\n",
       "    </tr>\n",
       "    <tr>\n",
       "      <th>268</th>\n",
       "      <td>price_imp</td>\n",
       "      <td>-1.024799e-04</td>\n",
       "      <td>1.024799e-04</td>\n",
       "    </tr>\n",
       "    <tr>\n",
       "      <th>205</th>\n",
       "      <td>Dlja biznesa</td>\n",
       "      <td>8.409172e-05</td>\n",
       "      <td>8.409172e-05</td>\n",
       "    </tr>\n",
       "    <tr>\n",
       "      <th>134</th>\n",
       "      <td>Cozdanie i prodvizhenie sajtov</td>\n",
       "      <td>8.092900e-05</td>\n",
       "      <td>8.092900e-05</td>\n",
       "    </tr>\n",
       "    <tr>\n",
       "      <th>177</th>\n",
       "      <td>50-56 cm (0-2 mes)</td>\n",
       "      <td>-7.666626e-05</td>\n",
       "      <td>7.666626e-05</td>\n",
       "    </tr>\n",
       "    <tr>\n",
       "      <th>8</th>\n",
       "      <td>Armavir</td>\n",
       "      <td>6.767168e-05</td>\n",
       "      <td>6.767168e-05</td>\n",
       "    </tr>\n",
       "    <tr>\n",
       "      <th>221</th>\n",
       "      <td>Gotovyj biznes</td>\n",
       "      <td>-5.826324e-05</td>\n",
       "      <td>5.826324e-05</td>\n",
       "    </tr>\n",
       "  </tbody>\n",
       "</table>\n",
       "<p>270 rows × 3 columns</p>\n",
       "</div>"
      ],
      "text/plain": [
       "                                   feature          coef      absolute\n",
       "206                      Dlja doma i dachi  5.736541e+10  5.736541e+10\n",
       "254                                Private -5.071664e+10  5.071664e+10\n",
       "253                                Company -4.737587e+10  4.737587e+10\n",
       "211                                 Uslugi  4.074787e+10  4.074787e+10\n",
       "241                     Predlozhenie uslug -4.074787e+10  4.074787e+10\n",
       "231                      Mebel' i inter'er -3.605020e+10  3.605020e+10\n",
       "212                              ZHivotnye  3.603556e+10  3.603556e+10\n",
       "245                 Remont i stroitel'stvo -3.361520e+10  3.361520e+10\n",
       "256                                 Sunday  3.294112e+10  3.294112e+10\n",
       "262                               Saturday  3.281609e+10  3.281609e+10\n",
       "257                                 Monday  3.254708e+10  3.254708e+10\n",
       "258                                Tuesday  3.224944e+10  3.224944e+10\n",
       "259                              Wednesday  3.189030e+10  3.189030e+10\n",
       "260                               Thursday  3.081770e+10  3.081770e+10\n",
       "261                                 Friday  3.071958e+10  3.071958e+10\n",
       "215                       Bytovaja tehnika -2.623374e+10  2.623374e+10\n",
       "255                                   Shop -2.530083e+10  2.530083e+10\n",
       "265                       image_top_1_miss -2.505022e+10  2.505022e+10\n",
       "264                             image_miss  2.505022e+10  2.505022e+10\n",
       "246                                 Sobaki -1.718935e+10  1.718935e+10\n",
       "208                          Lichnye veszi -1.697620e+10  1.697620e+10\n",
       "218                       Drugie zhivotnye -1.676385e+10  1.676385e+10\n",
       "228                                 Koshki -1.592139e+10  1.592139e+10\n",
       "250                  Tovary dlja zhivotnyh -1.479076e+10  1.479076e+10\n",
       "240             Posuda i tovary dlja kuhni -1.372679e+10  1.372679e+10\n",
       "244                              Rastenija -1.368840e+10  1.368840e+10\n",
       "237             Odezhda, obuv', aksessuary  1.330207e+10  1.330207e+10\n",
       "217               Detskaja odezhda i obuv'  1.307313e+10  1.307313e+10\n",
       "243                                  Pticy -1.283026e+10  1.283026e+10\n",
       "213                               Akvarium -1.112275e+10  1.112275e+10\n",
       "..                                     ...           ...           ...\n",
       "150                              44–46 (M)  5.455251e-04  5.455251e-04\n",
       "179                             50–52 (XL) -5.339308e-04  5.339308e-04\n",
       "158                     62-68 sm (2-6 mes) -5.216537e-04  5.216537e-04\n",
       "1                              Novosibirsk  5.170598e-04  5.170598e-04\n",
       "97                                 Dzhinsy -4.661765e-04  4.661765e-04\n",
       "267                            title_words -4.158822e-04  4.158822e-04\n",
       "156                             40–42 (XS)  4.142133e-04  4.142133e-04\n",
       "10                               Kropotkin  3.807151e-04  3.807151e-04\n",
       "176                              48–50 (L) -3.703480e-04  3.703480e-04\n",
       "175                              46–48 (M) -3.267986e-04  3.267986e-04\n",
       "220                 Garazhi i mashinomesta  2.886559e-04  2.886559e-04\n",
       "157                              46–48 (L)  2.607391e-04  2.607391e-04\n",
       "11                            Belorechensk  2.588534e-04  2.588534e-04\n",
       "198                     Krasnojarskij kraj -1.905423e-04  1.905423e-04\n",
       "17                         Blankparam_2_en -1.890474e-04  1.890474e-04\n",
       "191                                  Nexia  1.684419e-04  1.684419e-04\n",
       "144                   Mobil'nye ustrojstva  1.641338e-04  1.641338e-04\n",
       "238                Orgtehnika i rashodniki  1.576938e-04  1.576938e-04\n",
       "143  Montazh i obsluzhivanie oborudovanija -1.525028e-04  1.525028e-04\n",
       "219                            Fototehnika -1.519590e-04  1.519590e-04\n",
       "190                            2115 Samara  1.506648e-04  1.506648e-04\n",
       "20                       Muzhskaja odezhda -1.305247e-04  1.305247e-04\n",
       "112                         Nizhnee bel'yo  1.200000e-04  1.200000e-04\n",
       "192                                  21099 -1.050327e-04  1.050327e-04\n",
       "268                              price_imp -1.024799e-04  1.024799e-04\n",
       "205                           Dlja biznesa  8.409172e-05  8.409172e-05\n",
       "134         Cozdanie i prodvizhenie sajtov  8.092900e-05  8.092900e-05\n",
       "177                     50-56 cm (0-2 mes) -7.666626e-05  7.666626e-05\n",
       "8                                  Armavir  6.767168e-05  6.767168e-05\n",
       "221                         Gotovyj biznes -5.826324e-05  5.826324e-05\n",
       "\n",
       "[270 rows x 3 columns]"
      ]
     },
     "execution_count": 101,
     "metadata": {},
     "output_type": "execute_result"
    }
   ],
   "source": [
    "coefs.sort_values(by='absolute',ascending=False)"
   ]
  },
  {
   "cell_type": "code",
   "execution_count": 109,
   "metadata": {},
   "outputs": [],
   "source": [
    "selector = feature_selection.SelectFromModel(model,max_features=20,prefit=True)"
   ]
  },
  {
   "cell_type": "code",
   "execution_count": 119,
   "metadata": {},
   "outputs": [
    {
     "data": {
      "text/plain": [
       "LinearRegression(copy_X=True, fit_intercept=True, n_jobs=None, normalize=True)"
      ]
     },
     "execution_count": 119,
     "metadata": {},
     "output_type": "execute_result"
    }
   ],
   "source": [
    "model"
   ]
  },
  {
   "cell_type": "code",
   "execution_count": 114,
   "metadata": {
    "collapsed": true
   },
   "outputs": [
    {
     "ename": "IndexError",
     "evalue": "boolean index did not match indexed array along dimension 0; dimension is 271 but corresponding boolean dimension is 270",
     "output_type": "error",
     "traceback": [
      "\u001b[0;31m---------------------------------------------------------------------------\u001b[0m",
      "\u001b[0;31mIndexError\u001b[0m                                Traceback (most recent call last)",
      "\u001b[0;32m<ipython-input-114-b6c702478ffc>\u001b[0m in \u001b[0;36m<module>\u001b[0;34m\u001b[0m\n\u001b[0;32m----> 1\u001b[0;31m \u001b[0mtrain_features\u001b[0m\u001b[0;34m.\u001b[0m\u001b[0mcolumns\u001b[0m\u001b[0;34m[\u001b[0m\u001b[0mselector\u001b[0m\u001b[0;34m.\u001b[0m\u001b[0mget_support\u001b[0m\u001b[0;34m(\u001b[0m\u001b[0;34m)\u001b[0m\u001b[0;34m]\u001b[0m\u001b[0;34m\u001b[0m\u001b[0;34m\u001b[0m\u001b[0m\n\u001b[0m",
      "\u001b[0;32m~/anaconda3/lib/python3.7/site-packages/pandas/core/indexes/base.py\u001b[0m in \u001b[0;36m__getitem__\u001b[0;34m(self, key)\u001b[0m\n\u001b[1;32m   2093\u001b[0m \u001b[0;34m\u001b[0m\u001b[0m\n\u001b[1;32m   2094\u001b[0m         \u001b[0mkey\u001b[0m \u001b[0;34m=\u001b[0m \u001b[0mcom\u001b[0m\u001b[0;34m.\u001b[0m\u001b[0m_values_from_object\u001b[0m\u001b[0;34m(\u001b[0m\u001b[0mkey\u001b[0m\u001b[0;34m)\u001b[0m\u001b[0;34m\u001b[0m\u001b[0;34m\u001b[0m\u001b[0m\n\u001b[0;32m-> 2095\u001b[0;31m         \u001b[0mresult\u001b[0m \u001b[0;34m=\u001b[0m \u001b[0mgetitem\u001b[0m\u001b[0;34m(\u001b[0m\u001b[0mkey\u001b[0m\u001b[0;34m)\u001b[0m\u001b[0;34m\u001b[0m\u001b[0;34m\u001b[0m\u001b[0m\n\u001b[0m\u001b[1;32m   2096\u001b[0m         \u001b[0;32mif\u001b[0m \u001b[0;32mnot\u001b[0m \u001b[0mis_scalar\u001b[0m\u001b[0;34m(\u001b[0m\u001b[0mresult\u001b[0m\u001b[0;34m)\u001b[0m\u001b[0;34m:\u001b[0m\u001b[0;34m\u001b[0m\u001b[0;34m\u001b[0m\u001b[0m\n\u001b[1;32m   2097\u001b[0m             \u001b[0;32mreturn\u001b[0m \u001b[0mpromote\u001b[0m\u001b[0;34m(\u001b[0m\u001b[0mresult\u001b[0m\u001b[0;34m)\u001b[0m\u001b[0;34m\u001b[0m\u001b[0;34m\u001b[0m\u001b[0m\n",
      "\u001b[0;31mIndexError\u001b[0m: boolean index did not match indexed array along dimension 0; dimension is 271 but corresponding boolean dimension is 270"
     ]
    }
   ],
   "source": [
    "train_features.columns[selector.get_support()]"
   ]
  }
 ],
 "metadata": {
  "kernelspec": {
   "display_name": "Python 3",
   "language": "python",
   "name": "python3"
  },
  "language_info": {
   "codemirror_mode": {
    "name": "ipython",
    "version": 3
   },
   "file_extension": ".py",
   "mimetype": "text/x-python",
   "name": "python",
   "nbconvert_exporter": "python",
   "pygments_lexer": "ipython3",
   "version": "3.7.1"
  }
 },
 "nbformat": 4,
 "nbformat_minor": 2
}
