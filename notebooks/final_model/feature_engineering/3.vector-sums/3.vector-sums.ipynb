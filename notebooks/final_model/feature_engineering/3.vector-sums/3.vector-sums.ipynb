{
 "cells": [
  {
   "cell_type": "code",
   "execution_count": 1,
   "metadata": {},
   "outputs": [],
   "source": [
    "import pandas as pd\n",
    "import matplotlib.pyplot as plt\n",
    "import seaborn as sns\n",
    "import numpy as np\n",
    "import nltk\n",
    "from sklearn import preprocessing, model_selection, metrics, feature_selection, ensemble, linear_model, cross_decomposition, feature_extraction, decomposition\n",
    "import time\n",
    "from sklearn.externals import joblib\n",
    "%matplotlib inline"
   ]
  },
  {
   "cell_type": "code",
   "execution_count": 2,
   "metadata": {},
   "outputs": [],
   "source": [
    "train = pd.read_pickle('../../../train.pkl',compression='zip')\n",
    "test = pd.read_pickle('../../../test.pkl',compression='zip')\n",
    "ru_stop = nltk.corpus.stopwords.words('russian')"
   ]
  },
  {
   "cell_type": "code",
   "execution_count": 3,
   "metadata": {},
   "outputs": [],
   "source": [
    "variables = ['title','description']\n",
    "kinds = ['count','idf']\n",
    "ranges = ['zero','low','up']"
   ]
  },
  {
   "cell_type": "code",
   "execution_count": 4,
   "metadata": {},
   "outputs": [],
   "source": [
    "train_sums = pd.DataFrame()\n",
    "test_sums = pd.DataFrame()"
   ]
  },
  {
   "cell_type": "code",
   "execution_count": 5,
   "metadata": {},
   "outputs": [
    {
     "name": "stdout",
     "output_type": "stream",
     "text": [
      "title count zero\n",
      "N Tokens: 197377\n",
      "title count low\n",
      "N Tokens: 41218\n",
      "title count up\n",
      "N Tokens: 16262\n",
      "title idf zero\n",
      "N Tokens: 174572\n",
      "title idf low\n",
      "N Tokens: 35363\n",
      "title idf up\n",
      "N Tokens: 44922\n",
      "description count zero\n",
      "N Tokens: 549768\n",
      "description count low\n",
      "N Tokens: 172706\n",
      "description count up\n",
      "N Tokens: 51630\n",
      "description idf zero\n",
      "N Tokens: 410063\n",
      "description idf low\n",
      "N Tokens: 231805\n",
      "description idf up\n",
      "N Tokens: 132236\n"
     ]
    }
   ],
   "source": [
    "for var in variables:\n",
    "    for kind in kinds:\n",
    "        for rnge in ranges:\n",
    "            print(var,kind,rnge)\n",
    "            voc = pd.read_pickle('../2.discrete-decomp/{}_vocabs_{}.pkl'.format(var[:5],kind))['{}_voc'.format(rnge)].dropna()\n",
    "            vec = feature_extraction.text.TfidfVectorizer(\n",
    "                stop_words=ru_stop,\n",
    "                lowercase=False,\n",
    "                vocabulary=voc)\n",
    "            vec.fit(train[var].astype(str).tolist()+test[var].astype(str).tolist())\n",
    "            print('N Tokens:',len(vec.get_feature_names()))\n",
    "            \n",
    "            counts_train = vec.transform(train[var].astype(str).tolist())\n",
    "            counts_test = vec.transform(test[var].astype(str).tolist())\n",
    "            \n",
    "            counts_train = counts_train.sum(axis=1).tolist()\n",
    "            counts_test = counts_test.sum(axis=1).tolist()\n",
    "            \n",
    "            train_sums['idfsum_{}_{}_{}voc'.format(var[:5],rnge,kind)] = [i[0] for i in counts_train]\n",
    "            test_sums['idfsum_{}_{}_{}voc'.format(var[:5],rnge,kind)] = [i[0] for i in counts_test]"
   ]
  },
  {
   "cell_type": "code",
   "execution_count": 9,
   "metadata": {},
   "outputs": [],
   "source": [
    "train_sums.to_pickle('train_sums.pkl',compression='zip')\n",
    "test_sums.to_pickle('test_sums.pkl',compression='zip')"
   ]
  }
 ],
 "metadata": {
  "kernelspec": {
   "display_name": "Python 3",
   "language": "python",
   "name": "python3"
  },
  "language_info": {
   "codemirror_mode": {
    "name": "ipython",
    "version": 3
   },
   "file_extension": ".py",
   "mimetype": "text/x-python",
   "name": "python",
   "nbconvert_exporter": "python",
   "pygments_lexer": "ipython3",
   "version": "3.7.1"
  }
 },
 "nbformat": 4,
 "nbformat_minor": 2
}
