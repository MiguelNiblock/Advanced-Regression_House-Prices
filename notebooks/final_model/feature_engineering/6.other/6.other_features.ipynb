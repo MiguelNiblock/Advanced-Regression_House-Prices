{
 "cells": [
  {
   "cell_type": "code",
   "execution_count": 1,
   "metadata": {},
   "outputs": [],
   "source": [
    "import pandas as pd\n",
    "import matplotlib.pyplot as plt\n",
    "import seaborn as sns\n",
    "import numpy as np\n",
    "from sklearn.externals import joblib\n",
    "from sklearn import preprocessing, model_selection, metrics, feature_selection, ensemble, linear_model, impute\n",
    "%matplotlib inline"
   ]
  },
  {
   "cell_type": "code",
   "execution_count": 2,
   "metadata": {},
   "outputs": [],
   "source": [
    "train = pd.read_csv('../../../train.csv.zip',compression='zip',parse_dates=['activation_date'])\n",
    "test = pd.read_csv('../../../test.csv.zip',compression='zip',parse_dates=['activation_date'])"
   ]
  },
  {
   "cell_type": "code",
   "execution_count": 79,
   "metadata": {},
   "outputs": [],
   "source": [
    "train_othfeat = pd.DataFrame(index=train.index)\n",
    "test_othfeat = pd.DataFrame(index=test.index)"
   ]
  },
  {
   "cell_type": "markdown",
   "metadata": {},
   "source": [
    "# Day of Week Dummies"
   ]
  },
  {
   "cell_type": "code",
   "execution_count": 80,
   "metadata": {},
   "outputs": [],
   "source": [
    "# Add day features to train\n",
    "new_features = pd.DataFrame(index=train.index)\n",
    "new_features = new_features.join(pd.get_dummies(train[\"activation_date\"].dt.weekday))\n",
    "new_features.columns =['Sunday','Monday','Tuesday','Wednesday','Thursday','Friday','Saturday']\n",
    "train_othfeat = train_othfeat.join(new_features)"
   ]
  },
  {
   "cell_type": "code",
   "execution_count": 81,
   "metadata": {},
   "outputs": [],
   "source": [
    "# Add day features to test\n",
    "new_features = pd.DataFrame(index=test.index)\n",
    "new_features = new_features.join(pd.get_dummies(test[\"activation_date\"].dt.weekday))\n",
    "new_features.columns =['Sunday','Monday','Tuesday','Wednesday','Thursday','Friday','Saturday']\n",
    "test_othfeat = test_othfeat.join(new_features)"
   ]
  },
  {
   "cell_type": "markdown",
   "metadata": {},
   "source": [
    "# Missing Values Indicators"
   ]
  },
  {
   "cell_type": "code",
   "execution_count": 84,
   "metadata": {},
   "outputs": [],
   "source": [
    "indicator = impute.MissingIndicator(missing_values=True,error_on_new=False)"
   ]
  },
  {
   "cell_type": "code",
   "execution_count": 87,
   "metadata": {},
   "outputs": [],
   "source": [
    "both = train.isna().append(test.isna()).reset_index(drop=True).drop('deal_probability',axis=1)"
   ]
  },
  {
   "cell_type": "code",
   "execution_count": 88,
   "metadata": {},
   "outputs": [
    {
     "data": {
      "text/plain": [
       "MissingIndicator(error_on_new=False, features='missing-only',\n",
       "         missing_values=True, sparse='auto')"
      ]
     },
     "execution_count": 88,
     "metadata": {},
     "output_type": "execute_result"
    }
   ],
   "source": [
    "indicator.fit(both)"
   ]
  },
  {
   "cell_type": "code",
   "execution_count": 89,
   "metadata": {},
   "outputs": [],
   "source": [
    "#train\n",
    "columns = both.iloc[:,indicator.features_].columns\n",
    "new_features = pd.DataFrame(indicator.transform(train.drop('deal_probability',axis=1).isna()),columns = columns)\n",
    "new_features = new_features.add_prefix('miss_').astype(int)\n",
    "train_othfeat = train_othfeat.join(new_features)\n",
    "# test\n",
    "new_features = pd.DataFrame(indicator.transform(test.isna()),columns = columns)\n",
    "new_features = new_features.add_prefix('miss_').astype(int)\n",
    "test_othfeat = test_othfeat.join(new_features)"
   ]
  },
  {
   "cell_type": "markdown",
   "metadata": {},
   "source": [
    "# Word Lengths"
   ]
  },
  {
   "cell_type": "code",
   "execution_count": 91,
   "metadata": {},
   "outputs": [],
   "source": [
    "new_features = pd.DataFrame(index=train.index)\n",
    "new_features['desc_words'] = train.description.fillna('').apply(lambda x: len(x.split()))\n",
    "train_othfeat = train_othfeat.join(new_features)"
   ]
  },
  {
   "cell_type": "code",
   "execution_count": 92,
   "metadata": {},
   "outputs": [],
   "source": [
    "new_features = pd.DataFrame(index=test.index)\n",
    "new_features['desc_words'] = test.description.fillna('').apply(lambda x: len(x.split()))\n",
    "test_othfeat = test_othfeat.join(new_features)"
   ]
  },
  {
   "cell_type": "code",
   "execution_count": 94,
   "metadata": {},
   "outputs": [],
   "source": [
    "new_features = pd.DataFrame(index=train.index)\n",
    "new_features['title_words'] = train.title.fillna('').apply(lambda x: len(x.split()))\n",
    "train_othfeat = train_othfeat.join(new_features)"
   ]
  },
  {
   "cell_type": "code",
   "execution_count": 95,
   "metadata": {},
   "outputs": [],
   "source": [
    "new_features = pd.DataFrame(index=test.index)\n",
    "new_features['title_words'] = test.title.fillna('').apply(lambda x: len(x.split()))\n",
    "test_othfeat = test_othfeat.join(new_features)"
   ]
  },
  {
   "cell_type": "markdown",
   "metadata": {},
   "source": [
    "# Imputations"
   ]
  },
  {
   "cell_type": "code",
   "execution_count": 96,
   "metadata": {},
   "outputs": [],
   "source": [
    "imputer = impute.SimpleImputer(strategy='median')\n",
    "imputer.fit(train[['price','image_top_1']].append(test[['price','image_top_1']]))\n",
    "new_features = pd.DataFrame(imputer.transform(train[['price','image_top_1']]))\n",
    "new_features.columns = ['price_imp','image_top_1_imp']\n",
    "train_othfeat = train_othfeat.join(new_features)"
   ]
  },
  {
   "cell_type": "code",
   "execution_count": 97,
   "metadata": {},
   "outputs": [],
   "source": [
    "new_features = pd.DataFrame(imputer.transform(test[['price','image_top_1']]))\n",
    "new_features.columns = ['price_imp','image_top_1_imp']\n",
    "test_othfeat = test_othfeat.join(new_features)"
   ]
  },
  {
   "cell_type": "code",
   "execution_count": 98,
   "metadata": {},
   "outputs": [],
   "source": [
    "train_othfeat['seq_n'] = train['item_seq_number']\n",
    "test_othfeat['seq_n'] = test['item_seq_number']"
   ]
  },
  {
   "cell_type": "code",
   "execution_count": 106,
   "metadata": {},
   "outputs": [
    {
     "data": {
      "text/plain": [
       "['test_othfeat.sav']"
      ]
     },
     "execution_count": 106,
     "metadata": {},
     "output_type": "execute_result"
    }
   ],
   "source": [
    "joblib.dump(train_othfeat,'train_othfeat.sav')\n",
    "joblib.dump(test_othfeat,'test_othfeat.sav')"
   ]
  },
  {
   "cell_type": "markdown",
   "metadata": {},
   "source": [
    "---\n",
    ">\n",
    "---"
   ]
  }
 ],
 "metadata": {
  "kernelspec": {
   "display_name": "Python 3",
   "language": "python",
   "name": "python3"
  },
  "language_info": {
   "codemirror_mode": {
    "name": "ipython",
    "version": 3
   },
   "file_extension": ".py",
   "mimetype": "text/x-python",
   "name": "python",
   "nbconvert_exporter": "python",
   "pygments_lexer": "ipython3",
   "version": "3.7.1"
  }
 },
 "nbformat": 4,
 "nbformat_minor": 2
}
