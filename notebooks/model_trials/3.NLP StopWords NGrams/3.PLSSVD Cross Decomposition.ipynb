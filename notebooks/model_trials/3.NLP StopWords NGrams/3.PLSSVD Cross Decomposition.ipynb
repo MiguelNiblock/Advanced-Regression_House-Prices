{
 "cells": [
  {
   "cell_type": "code",
   "execution_count": 1,
   "metadata": {},
   "outputs": [],
   "source": [
    "import pandas as pd\n",
    "import matplotlib.pyplot as plt\n",
    "import seaborn as sns\n",
    "import numpy as np\n",
    "\n",
    "import nltk\n",
    "import cyrtranslit\n",
    "from sklearn import preprocessing, model_selection, metrics, feature_selection, ensemble, linear_model, cross_decomposition, feature_extraction, decomposition\n",
    "from sklearn.pipeline import Pipeline\n",
    "import lightgbm as lgb\n",
    "import time\n",
    "color = sns.color_palette()\n",
    "\n",
    "%matplotlib inline"
   ]
  },
  {
   "cell_type": "code",
   "execution_count": 2,
   "metadata": {},
   "outputs": [],
   "source": [
    "train = pd.read_pickle('../../train.pkl',compression='zip')\n",
    "\n",
    "test = pd.read_pickle('../../test.pkl',compression='zip')"
   ]
  },
  {
   "cell_type": "code",
   "execution_count": 3,
   "metadata": {},
   "outputs": [],
   "source": [
    "ru_stop = nltk.corpus.stopwords.words('russian')"
   ]
  },
  {
   "cell_type": "markdown",
   "metadata": {},
   "source": [
    "# PLSSVD\n",
    "\n",
    "- Before repeating the newest methods on the descriptions, it's worth comparing PLSR with another algorithm for cross-decomposition.\n",
    "- SVD (Single Value Decomposition) is popular as an unsupervised technique for grouping term-frequency matrices into similar topics. Since we have a supervised goal here and we want to reduce many correlated features, PLSSVD sounds like an ideal option for predictive NLP."
   ]
  },
  {
   "cell_type": "code",
   "execution_count": 4,
   "metadata": {},
   "outputs": [
    {
     "name": "stdout",
     "output_type": "stream",
     "text": [
      "34568\n"
     ]
    }
   ],
   "source": [
    "vec = feature_extraction.text.TfidfVectorizer(\n",
    "    stop_words=ru_stop,\n",
    "    lowercase=False,\n",
    "    #max_features=8600,\n",
    "    #ngram_range=(2,2),\n",
    "    min_df=0.000005,\n",
    "    #max_df=0.0005\n",
    ")\n",
    "# Fitting on train and test as merged lists\n",
    "vec.fit(train['title'].values.tolist() + test['title'].values.tolist())\n",
    "print(len(vec.get_feature_names()))"
   ]
  },
  {
   "cell_type": "markdown",
   "metadata": {},
   "source": [
    "- Used same vectorizer settings as last with no ngrams.\n",
    "- Now transform train titles."
   ]
  },
  {
   "cell_type": "code",
   "execution_count": 5,
   "metadata": {},
   "outputs": [],
   "source": [
    "# Word counts for train titles. CSR Matrix, tokens ordered alphabetically\n",
    "counts = vec.transform(train['title'].values.tolist())"
   ]
  },
  {
   "cell_type": "markdown",
   "metadata": {},
   "source": [
    "**Getting Familiar with PLSSVD**\n",
    "\n",
    "- It can only reduce to 1 component, regardless of the chosen `n_components`. See below for demonstration."
   ]
  },
  {
   "cell_type": "code",
   "execution_count": 7,
   "metadata": {},
   "outputs": [],
   "source": [
    "index = np.random.choice(len(train),size=int(1e5))"
   ]
  },
  {
   "cell_type": "code",
   "execution_count": 8,
   "metadata": {},
   "outputs": [
    {
     "name": "stdout",
     "output_type": "stream",
     "text": [
      "(100000, 7000) (100000,)\n"
     ]
    }
   ],
   "source": [
    "X = counts[index,0:7000].toarray()\n",
    "y = train.iloc[index].deal_probability.values\n",
    "print(X.shape,y.shape)"
   ]
  },
  {
   "cell_type": "code",
   "execution_count": 9,
   "metadata": {},
   "outputs": [
    {
     "data": {
      "text/plain": [
       "PLSSVD(copy=True, n_components=2, scale=True)"
      ]
     },
     "execution_count": 9,
     "metadata": {},
     "output_type": "execute_result"
    }
   ],
   "source": [
    "reducer = cross_decomposition.PLSSVD()\n",
    "reducer.fit(X,y)"
   ]
  },
  {
   "cell_type": "code",
   "execution_count": 10,
   "metadata": {},
   "outputs": [],
   "source": [
    "X_reduced = reducer.transform(X)"
   ]
  },
  {
   "cell_type": "code",
   "execution_count": 11,
   "metadata": {},
   "outputs": [
    {
     "name": "stdout",
     "output_type": "stream",
     "text": [
      "(100000, 1)\n"
     ]
    }
   ],
   "source": [
    "print(X_reduced.shape)"
   ]
  },
  {
   "cell_type": "markdown",
   "metadata": {},
   "source": [
    "- I'll adjust to this limitation of being forced to one component per reduction. Just some few modifications and the code below can give PLSSVD a shot."
   ]
  },
  {
   "cell_type": "code",
   "execution_count": 13,
   "metadata": {},
   "outputs": [
    {
     "name": "stdout",
     "output_type": "stream",
     "text": [
      "Aggregate score: [0.01927252 0.01750745 0.01717554 0.01912741]\n",
      "Aggregate shape: (1503424, 1) \n",
      "\n",
      "Aggregate score: [0.02275625 0.02090275 0.02033845 0.02261389]\n",
      "Aggregate shape: (1503424, 2) \n",
      "\n",
      "Aggregate score: [0.02732133 0.02515156 0.02497476 0.02763026]\n",
      "Aggregate shape: (1503424, 3) \n",
      "\n",
      "Aggregate score: [0.03080157 0.02809287 0.02839658 0.03019428]\n",
      "Aggregate shape: (1503424, 4) \n",
      "\n",
      "Aggregate score: [0.03416668 0.03161745 0.03217493 0.03318585]\n",
      "Aggregate shape: (1503424, 5) \n",
      "\n",
      "Aggregate score: [0.04726586 0.04513701 0.0461211  0.04621349]\n",
      "Aggregate shape: (1503424, 6) \n",
      "\n",
      "Aggregate score: [0.06468119 0.06202052 0.06444651 0.06483555]\n",
      "Aggregate shape: (1503424, 7) \n",
      "\n",
      "Aggregate score: [0.08604026 0.08200954 0.08549695 0.0853375 ]\n",
      "Aggregate shape: (1503424, 8) \n",
      "\n",
      "Aggregate score: [0.10927583 0.10439943 0.10828124 0.10825771]\n",
      "Aggregate shape: (1503424, 9) \n",
      "\n",
      "Aggregate score: [0.13181339 0.12596702 0.13128313 0.13113565]\n",
      "Aggregate shape: (1503424, 10) \n",
      "\n",
      "Aggregate score: [0.14240346 0.13605017 0.14126714 0.14096213]\n",
      "Aggregate shape: (1503424, 11) \n",
      "\n",
      "Aggregate score: [0.14946585 0.14313462 0.14766175 0.14816549]\n",
      "Aggregate shape: (1503424, 12) \n",
      "\n",
      "Aggregate score: [0.15476009 0.14854478 0.15330364 0.15332341]\n",
      "Aggregate shape: (1503424, 13) \n",
      "\n",
      "Aggregate score: [0.15899814 0.15259382 0.15760766 0.15730694]\n",
      "Aggregate shape: (1503424, 14) \n",
      "\n",
      "Aggregate score: [0.16248191 0.15628945 0.16137033 0.16080064]\n",
      "Aggregate shape: (1503424, 15) \n",
      "\n",
      "Aggregate score: [0.16526321 0.1591863  0.16390768 0.16359448]\n",
      "Aggregate shape: (1503424, 16) \n",
      "\n",
      "Aggregate score: [0.16997111 0.16407612 0.16839125 0.16845736]\n",
      "Aggregate shape: (1503424, 17) \n",
      "\n",
      "Aggregate score: [0.17117029 0.16509317 0.16940946 0.16956072]\n",
      "Aggregate shape: (1503424, 18) \n",
      "\n",
      "Minutes: 11.417979605992635\n"
     ]
    }
   ],
   "source": [
    "# Reduce all CSR values in batches\n",
    "t = time.time()\n",
    "reduced = pd.DataFrame(index=train.index)\n",
    "low_col = 0\n",
    "# Start iteration with columns\n",
    "for col in np.arange(0,int(counts.shape[1]*1.05),2000):\n",
    "    # Limiting the edge case of the last values\n",
    "    if col > counts.shape[1]:\n",
    "        col = counts.shape[1]\n",
    "    up_col = col\n",
    "    \n",
    "    if up_col > low_col:\n",
    "        # Train PLSR on a large sample of those columns from CSR\n",
    "        index = np.random.choice(len(train),size=int(4e5))\n",
    "        sample = counts[index,low_col:up_col].toarray()\n",
    "        reduce = cross_decomposition.PLSSVD()\n",
    "        reduce.fit(sample,train.iloc[index].deal_probability)\n",
    "        \n",
    "        # Nested indexes iteration\n",
    "        components = pd.DataFrame()\n",
    "        low_idx = 0\n",
    "        for idx in np.arange(0,int(len(train)*1.1),int(3.1e5)):\n",
    "            # Limiting the edge case of the last values\n",
    "            if idx > len(train):\n",
    "                idx = len(train)\n",
    "            up_idx = idx\n",
    "\n",
    "            if up_idx > low_idx:\n",
    "                sample = counts[low_idx:up_idx,low_col:up_col].toarray()\n",
    "                sample = reduce.transform(sample)\n",
    "                components = components.append(pd.DataFrame(sample))\n",
    "                low_idx = idx\n",
    "        components.reset_index(drop=True,inplace=True)\n",
    "        components.columns = ['col_{}-{}'.format(low_col,up_col)]\n",
    "        reduced = reduced.join(components)\n",
    "        print('Aggregate score:',model_selection.cross_val_score(\n",
    "            cv=4,estimator=linear_model.LinearRegression(),\n",
    "            X=reduced,y=train.deal_probability))\n",
    "        print('Aggregate shape:',reduced.shape,'\\n')\n",
    "        low_col = col\n",
    "print('Minutes:',(time.time()-t)/60)"
   ]
  },
  {
   "cell_type": "code",
   "execution_count": 16,
   "metadata": {},
   "outputs": [
    {
     "data": {
      "text/plain": [
       "(1503424, 18)"
      ]
     },
     "execution_count": 16,
     "metadata": {},
     "output_type": "execute_result"
    }
   ],
   "source": [
    "reduced.shape"
   ]
  },
  {
   "cell_type": "markdown",
   "metadata": {},
   "source": [
    "- Further reduce to 10 components."
   ]
  },
  {
   "cell_type": "code",
   "execution_count": 17,
   "metadata": {},
   "outputs": [
    {
     "name": "stdout",
     "output_type": "stream",
     "text": [
      "Score for feature range: 0.16886445892078206\n"
     ]
    }
   ],
   "source": [
    "reduce = cross_decomposition.PLSRegression(n_components=10)\n",
    "reduce.fit(reduced,train.deal_probability)\n",
    "print('Score for feature range:',reduce.score(reduced,train.deal_probability))"
   ]
  },
  {
   "cell_type": "code",
   "execution_count": 18,
   "metadata": {},
   "outputs": [],
   "source": [
    "reduced2 = reduce.transform(reduced)"
   ]
  },
  {
   "cell_type": "code",
   "execution_count": 19,
   "metadata": {},
   "outputs": [
    {
     "name": "stdout",
     "output_type": "stream",
     "text": [
      "Aggregate score: [0.17118265 0.16510414 0.16942562 0.16957116]\n"
     ]
    }
   ],
   "source": [
    "print('Aggregate score:',model_selection.cross_val_score(\n",
    "            cv=4,estimator=linear_model.LinearRegression(),\n",
    "            X=reduced2,y=train.deal_probability))"
   ]
  },
  {
   "cell_type": "code",
   "execution_count": 20,
   "metadata": {
    "scrolled": false
   },
   "outputs": [
    {
     "data": {
      "image/png": "[encoded data removed]",
      "text/plain": [
       "<Figure size 864x576 with 2 Axes>"
      ]
     },
     "metadata": {
      "needs_background": "light"
     },
     "output_type": "display_data"
    }
   ],
   "source": [
    "plt.figure(figsize=(12,8))\n",
    "sns.heatmap(pd.DataFrame(reduced2).corr())\n",
    "plt.show()"
   ]
  },
  {
   "cell_type": "markdown",
   "metadata": {},
   "source": [
    "**Conclusion**\n",
    "\n",
    "- It's not a decrease, but neither an improvement from standard PLSR."
   ]
  }
 ],
 "metadata": {
  "kernelspec": {
   "display_name": "Python 3",
   "language": "python",
   "name": "python3"
  },
  "language_info": {
   "codemirror_mode": {
    "name": "ipython",
    "version": 3
   },
   "file_extension": ".py",
   "mimetype": "text/x-python",
   "name": "python",
   "nbconvert_exporter": "python",
   "pygments_lexer": "ipython3",
   "version": "3.7.1"
  }
 },
 "nbformat": 4,
 "nbformat_minor": 2
}
