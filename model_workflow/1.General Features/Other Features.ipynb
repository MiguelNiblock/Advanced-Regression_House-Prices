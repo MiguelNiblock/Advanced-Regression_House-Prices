{
 "cells": [
  {
   "cell_type": "markdown",
   "metadata": {},
   "source": [
    "# Intro"
   ]
  },
  {
   "cell_type": "code",
   "execution_count": 1,
   "metadata": {},
   "outputs": [],
   "source": [
    "import pandas as pd\n",
    "import matplotlib.pyplot as plt\n",
    "import seaborn as sns\n",
    "import numpy as np\n",
    "\n",
    "import cyrtranslit\n",
    "from sklearn import preprocessing, model_selection, metrics, feature_selection, ensemble, linear_model, impute\n",
    "import lightgbm as lgb\n",
    "color = sns.color_palette()\n",
    "%matplotlib inline"
   ]
  },
  {
   "cell_type": "code",
   "execution_count": 2,
   "metadata": {},
   "outputs": [],
   "source": [
    "train_features = pd.read_pickle('catfeatures_train.pkl',compression='zip')\n",
    "test_features = pd.read_pickle('catfeatures_test.pkl',compression='zip')"
   ]
  },
  {
   "cell_type": "code",
   "execution_count": 4,
   "metadata": {},
   "outputs": [
    {
     "name": "stdout",
     "output_type": "stream",
     "text": [
      "(1503424, 256)\n",
      "(508438, 256)\n"
     ]
    }
   ],
   "source": [
    "print(train_features.shape)\n",
    "print(test_features.shape)"
   ]
  },
  {
   "cell_type": "code",
   "execution_count": 7,
   "metadata": {},
   "outputs": [],
   "source": [
    "train = pd.read_pickle('train.pkl',compression='zip')\n",
    "test = pd.read_pickle('test.pkl',compression='zip')"
   ]
  },
  {
   "cell_type": "code",
   "execution_count": 101,
   "metadata": {},
   "outputs": [
    {
     "data": {
      "text/plain": [
       "[('train_features', 3149673384),\n",
       " ('test_features', 1065177714),\n",
       " ('new_features', 24054888),\n",
       " ('Pipeline', 1056),\n",
       " ('color', 176),\n",
       " ('miss_vars', 88),\n",
       " ('ensemble', 80),\n",
       " ('feature_selection', 80),\n",
       " ('impute', 80),\n",
       " ('lgb', 80),\n",
       " ('linear_model', 80),\n",
       " ('metrics', 80),\n",
       " ('model_selection', 80),\n",
       " ('np', 80),\n",
       " ('pd', 80),\n",
       " ('plt', 80),\n",
       " ('preprocessing', 80),\n",
       " ('sns', 80),\n",
       " ('imputer', 56),\n",
       " ('indicator', 56)]"
      ]
     },
     "execution_count": 101,
     "metadata": {},
     "output_type": "execute_result"
    }
   ],
   "source": [
    "import sys\n",
    "\n",
    "# These are the usual ipython objects, including this one you are creating\n",
    "ipython_vars = ['In', 'Out', 'exit', 'quit', 'get_ipython', 'ipython_vars']\n",
    "\n",
    "# Get a sorted list of the objects and their sizes\n",
    "sorted([(x, sys.getsizeof(globals().get(x))) for x in dir() if not x.startswith('_') and x not in sys.modules and x not in ipython_vars], key=lambda x: x[1], reverse=True)"
   ]
  },
  {
   "cell_type": "markdown",
   "metadata": {},
   "source": [
    "# Other Features"
   ]
  },
  {
   "cell_type": "markdown",
   "metadata": {},
   "source": [
    "## Day of Week"
   ]
  },
  {
   "cell_type": "code",
   "execution_count": 9,
   "metadata": {},
   "outputs": [
    {
     "data": {
      "image/png": "[encoded data removed]",
      "text/plain": [
       "<Figure size 432x288 with 1 Axes>"
      ]
     },
     "metadata": {
      "needs_background": "light"
     },
     "output_type": "display_data"
    }
   ],
   "source": [
    "train.activation_date.dt.weekday.hist(bins=7)\n",
    "test.activation_date.dt.weekday.hist(bins=7)\n",
    "plt.show()"
   ]
  },
  {
   "cell_type": "code",
   "execution_count": 6,
   "metadata": {},
   "outputs": [],
   "source": [
    "# Add day features to train\n",
    "new_features = pd.DataFrame(index=train.index)\n",
    "\n",
    "new_features = new_features.join(pd.get_dummies(train[\"activation_date\"].dt.weekday))\n",
    "\n",
    "new_features.columns =['Sunday','Monday','Tuesday','Wednesday','Thursday','Friday','Saturday']\n",
    "\n",
    "new_features.head()\n",
    "\n",
    "train_features = train_features.join(new_features)"
   ]
  },
  {
   "cell_type": "code",
   "execution_count": 7,
   "metadata": {},
   "outputs": [],
   "source": [
    "# Add day features to test\n",
    "new_features = pd.DataFrame(index=test.index)\n",
    "\n",
    "new_features = new_features.join(pd.get_dummies(test[\"activation_date\"].dt.weekday))\n",
    "\n",
    "new_features.columns =['Sunday','Monday','Tuesday','Wednesday','Thursday','Friday','Saturday']\n",
    "\n",
    "test_features = test_features.join(new_features)"
   ]
  },
  {
   "cell_type": "code",
   "execution_count": 8,
   "metadata": {},
   "outputs": [
    {
     "name": "stdout",
     "output_type": "stream",
     "text": [
      "(1503424, 263)\n",
      "(508438, 263)\n"
     ]
    }
   ],
   "source": [
    "print(train_features.shape)\n",
    "print(test_features.shape)"
   ]
  },
  {
   "cell_type": "markdown",
   "metadata": {},
   "source": [
    "## Missing Values"
   ]
  },
  {
   "cell_type": "code",
   "execution_count": 13,
   "metadata": {},
   "outputs": [
    {
     "name": "stdout",
     "output_type": "stream",
     "text": [
      "<class 'pandas.core.frame.DataFrame'>\n",
      "RangeIndex: 1503424 entries, 0 to 1503423\n",
      "Data columns (total 11 columns):\n",
      "item_id             1503424 non-null object\n",
      "user_id             1503424 non-null object\n",
      "title               1503424 non-null object\n",
      "description         1387148 non-null object\n",
      "price               1418062 non-null float64\n",
      "item_seq_number     1503424 non-null int64\n",
      "activation_date     1503424 non-null datetime64[ns]\n",
      "user_type           1503424 non-null object\n",
      "image               1390836 non-null object\n",
      "image_top_1         1390836 non-null float64\n",
      "deal_probability    1503424 non-null float64\n",
      "dtypes: datetime64[ns](1), float64(3), int64(1), object(6)\n",
      "memory usage: 126.2+ MB\n"
     ]
    }
   ],
   "source": [
    "train.info()"
   ]
  },
  {
   "cell_type": "code",
   "execution_count": 14,
   "metadata": {},
   "outputs": [
    {
     "name": "stdout",
     "output_type": "stream",
     "text": [
      "<class 'pandas.core.frame.DataFrame'>\n",
      "RangeIndex: 508438 entries, 0 to 508437\n",
      "Data columns (total 10 columns):\n",
      "item_id            508438 non-null object\n",
      "user_id            508438 non-null object\n",
      "title              508438 non-null object\n",
      "description        508438 non-null object\n",
      "price              477853 non-null float64\n",
      "item_seq_number    508438 non-null int64\n",
      "activation_date    508438 non-null datetime64[ns]\n",
      "user_type          508438 non-null object\n",
      "image              465829 non-null object\n",
      "image_top_1        465829 non-null float64\n",
      "dtypes: datetime64[ns](1), float64(2), int64(1), object(6)\n",
      "memory usage: 38.8+ MB\n"
     ]
    }
   ],
   "source": [
    "test.info()"
   ]
  },
  {
   "cell_type": "markdown",
   "metadata": {},
   "source": [
    "- Test data has no missing values in description."
   ]
  },
  {
   "cell_type": "code",
   "execution_count": 10,
   "metadata": {},
   "outputs": [
    {
     "name": "stdout",
     "output_type": "stream",
     "text": [
      "As bool:\n",
      "price_miss           85362\n",
      "image_miss          112588\n",
      "image_top_1_miss    112588\n",
      "dtype: int64\n"
     ]
    },
    {
     "data": {
      "text/html": [
       "<div>\n",
       "<style scoped>\n",
       "    .dataframe tbody tr th:only-of-type {\n",
       "        vertical-align: middle;\n",
       "    }\n",
       "\n",
       "    .dataframe tbody tr th {\n",
       "        vertical-align: top;\n",
       "    }\n",
       "\n",
       "    .dataframe thead th {\n",
       "        text-align: right;\n",
       "    }\n",
       "</style>\n",
       "<table border=\"1\" class=\"dataframe\">\n",
       "  <thead>\n",
       "    <tr style=\"text-align: right;\">\n",
       "      <th></th>\n",
       "      <th>price_miss</th>\n",
       "      <th>image_miss</th>\n",
       "      <th>image_top_1_miss</th>\n",
       "    </tr>\n",
       "  </thead>\n",
       "  <tbody>\n",
       "    <tr>\n",
       "      <th>0</th>\n",
       "      <td>False</td>\n",
       "      <td>False</td>\n",
       "      <td>False</td>\n",
       "    </tr>\n",
       "    <tr>\n",
       "      <th>1</th>\n",
       "      <td>False</td>\n",
       "      <td>False</td>\n",
       "      <td>False</td>\n",
       "    </tr>\n",
       "    <tr>\n",
       "      <th>2</th>\n",
       "      <td>False</td>\n",
       "      <td>False</td>\n",
       "      <td>False</td>\n",
       "    </tr>\n",
       "    <tr>\n",
       "      <th>3</th>\n",
       "      <td>False</td>\n",
       "      <td>False</td>\n",
       "      <td>False</td>\n",
       "    </tr>\n",
       "    <tr>\n",
       "      <th>4</th>\n",
       "      <td>False</td>\n",
       "      <td>False</td>\n",
       "      <td>False</td>\n",
       "    </tr>\n",
       "  </tbody>\n",
       "</table>\n",
       "</div>"
      ],
      "text/plain": [
       "   price_miss  image_miss  image_top_1_miss\n",
       "0       False       False             False\n",
       "1       False       False             False\n",
       "2       False       False             False\n",
       "3       False       False             False\n",
       "4       False       False             False"
      ]
     },
     "metadata": {},
     "output_type": "display_data"
    },
    {
     "name": "stdout",
     "output_type": "stream",
     "text": [
      "\n",
      "As int:\n",
      "price_miss           85362\n",
      "image_miss          112588\n",
      "image_top_1_miss    112588\n",
      "dtype: int64\n"
     ]
    },
    {
     "data": {
      "text/html": [
       "<div>\n",
       "<style scoped>\n",
       "    .dataframe tbody tr th:only-of-type {\n",
       "        vertical-align: middle;\n",
       "    }\n",
       "\n",
       "    .dataframe tbody tr th {\n",
       "        vertical-align: top;\n",
       "    }\n",
       "\n",
       "    .dataframe thead th {\n",
       "        text-align: right;\n",
       "    }\n",
       "</style>\n",
       "<table border=\"1\" class=\"dataframe\">\n",
       "  <thead>\n",
       "    <tr style=\"text-align: right;\">\n",
       "      <th></th>\n",
       "      <th>price_miss</th>\n",
       "      <th>image_miss</th>\n",
       "      <th>image_top_1_miss</th>\n",
       "    </tr>\n",
       "  </thead>\n",
       "  <tbody>\n",
       "    <tr>\n",
       "      <th>0</th>\n",
       "      <td>0</td>\n",
       "      <td>0</td>\n",
       "      <td>0</td>\n",
       "    </tr>\n",
       "    <tr>\n",
       "      <th>1</th>\n",
       "      <td>0</td>\n",
       "      <td>0</td>\n",
       "      <td>0</td>\n",
       "    </tr>\n",
       "    <tr>\n",
       "      <th>2</th>\n",
       "      <td>0</td>\n",
       "      <td>0</td>\n",
       "      <td>0</td>\n",
       "    </tr>\n",
       "    <tr>\n",
       "      <th>3</th>\n",
       "      <td>0</td>\n",
       "      <td>0</td>\n",
       "      <td>0</td>\n",
       "    </tr>\n",
       "    <tr>\n",
       "      <th>4</th>\n",
       "      <td>0</td>\n",
       "      <td>0</td>\n",
       "      <td>0</td>\n",
       "    </tr>\n",
       "  </tbody>\n",
       "</table>\n",
       "</div>"
      ],
      "text/plain": [
       "   price_miss  image_miss  image_top_1_miss\n",
       "0           0           0                 0\n",
       "1           0           0                 0\n",
       "2           0           0                 0\n",
       "3           0           0                 0\n",
       "4           0           0                 0"
      ]
     },
     "metadata": {},
     "output_type": "display_data"
    }
   ],
   "source": [
    "indicator = impute.MissingIndicator(missing_values=True,error_on_new=False)\n",
    "\n",
    "indicator.fit(test.isna())\n",
    "\n",
    "miss_vars = ['price_miss','image_miss','image_top_1_miss']\n",
    "\n",
    "new_features = pd.DataFrame(indicator.transform(train.drop('deal_probability',axis=1).isna()),columns=miss_vars)\n",
    "print('As bool:')\n",
    "print(new_features.sum())\n",
    "display(new_features.head())\n",
    "\n",
    "new_features = new_features.astype(int)\n",
    "print('\\nAs int:')\n",
    "print(new_features.sum())\n",
    "display(new_features.head())"
   ]
  },
  {
   "cell_type": "code",
   "execution_count": 11,
   "metadata": {},
   "outputs": [],
   "source": [
    "train_features = train_features.join(new_features)"
   ]
  },
  {
   "cell_type": "code",
   "execution_count": 12,
   "metadata": {},
   "outputs": [],
   "source": [
    "new_features = pd.DataFrame(indicator.transform(test.isna()),columns=miss_vars)\n",
    "new_features = new_features.astype(int)\n",
    "test_features = test_features.join(new_features)"
   ]
  },
  {
   "cell_type": "code",
   "execution_count": 13,
   "metadata": {},
   "outputs": [
    {
     "name": "stdout",
     "output_type": "stream",
     "text": [
      "(1503424, 266)\n",
      "(508438, 266)\n"
     ]
    }
   ],
   "source": [
    "print(train_features.shape)\n",
    "print(test_features.shape)"
   ]
  },
  {
   "cell_type": "markdown",
   "metadata": {},
   "source": [
    "## Word Lengths\n",
    "### Description & Title"
   ]
  },
  {
   "cell_type": "code",
   "execution_count": 14,
   "metadata": {},
   "outputs": [],
   "source": [
    "new_features = pd.DataFrame(index=train.index)\n",
    "\n",
    "new_features['desc_words'] = train.description.fillna('').apply(lambda x: len(x.split()))\n",
    "\n",
    "train_features = train_features.join(new_features)"
   ]
  },
  {
   "cell_type": "code",
   "execution_count": 15,
   "metadata": {},
   "outputs": [],
   "source": [
    "new_features = pd.DataFrame(index=test.index)\n",
    "\n",
    "new_features['desc_words'] = test.description.fillna('').apply(lambda x: len(x.split()))\n",
    "\n",
    "test_features = test_features.join(new_features)"
   ]
  },
  {
   "cell_type": "code",
   "execution_count": 16,
   "metadata": {},
   "outputs": [
    {
     "name": "stdout",
     "output_type": "stream",
     "text": [
      "(1503424, 267)\n",
      "(508438, 267)\n"
     ]
    }
   ],
   "source": [
    "print(train_features.shape)\n",
    "print(test_features.shape)"
   ]
  },
  {
   "cell_type": "code",
   "execution_count": 17,
   "metadata": {},
   "outputs": [],
   "source": [
    "new_features = pd.DataFrame(index=train.index)\n",
    "\n",
    "new_features['title_words'] = train.title.fillna('').apply(lambda x: len(x.split()))\n",
    "\n",
    "train_features = train_features.join(new_features)"
   ]
  },
  {
   "cell_type": "code",
   "execution_count": 18,
   "metadata": {},
   "outputs": [],
   "source": [
    "new_features = pd.DataFrame(index=test.index)\n",
    "\n",
    "new_features['title_words'] = test.title.fillna('').apply(lambda x: len(x.split()))\n",
    "\n",
    "test_features = test_features.join(new_features)"
   ]
  },
  {
   "cell_type": "code",
   "execution_count": 19,
   "metadata": {},
   "outputs": [
    {
     "name": "stdout",
     "output_type": "stream",
     "text": [
      "(1503424, 268)\n",
      "(508438, 268)\n"
     ]
    }
   ],
   "source": [
    "print(train_features.shape)\n",
    "print(test_features.shape)"
   ]
  },
  {
   "cell_type": "markdown",
   "metadata": {},
   "source": [
    "## Imputations\n",
    "### Price, Image_top_1"
   ]
  },
  {
   "cell_type": "code",
   "execution_count": 55,
   "metadata": {},
   "outputs": [
    {
     "name": "stdout",
     "output_type": "stream",
     "text": [
      "PRICE\n",
      "\n",
      "Train Median: 1300.0\n",
      "Test Median: 1500.0\n",
      "\n",
      "Train Mean: 316708.0884982462\n",
      "Test Mean: 279818.9459415343\n"
     ]
    }
   ],
   "source": [
    "print('PRICE\\n')\n",
    "print('Train Median:',np.median(train.price.dropna()))\n",
    "print('Test Median:',np.median(test.price.dropna()))\n",
    "print(\"\")\n",
    "print('Train Mean:',np.mean(train.price.dropna()))\n",
    "print('Test Mean:',np.mean(test.price.dropna()))"
   ]
  },
  {
   "cell_type": "code",
   "execution_count": 58,
   "metadata": {},
   "outputs": [
    {
     "data": {
      "text/plain": [
       "count    1.418062e+06\n",
       "mean     3.167081e+05\n",
       "std      6.689154e+07\n",
       "min      0.000000e+00\n",
       "25%      5.000000e+02\n",
       "50%      1.300000e+03\n",
       "75%      7.000000e+03\n",
       "max      7.950101e+10\n",
       "Name: price, dtype: float64"
      ]
     },
     "execution_count": 58,
     "metadata": {},
     "output_type": "execute_result"
    }
   ],
   "source": [
    "train.price.describe()"
   ]
  },
  {
   "cell_type": "code",
   "execution_count": 62,
   "metadata": {},
   "outputs": [
    {
     "name": "stdout",
     "output_type": "stream",
     "text": [
      "Image_Top_1\n",
      "\n",
      "Train Median: 1057.0\n",
      "Test Median: 1132.0\n",
      "\n",
      "Train Mean: 1241.9321192433904\n",
      "Test Mean: 1297.959227527698\n"
     ]
    }
   ],
   "source": [
    "print('Image_Top_1\\n')\n",
    "print('Train Median:',np.median(train.image_top_1.dropna()))\n",
    "print('Test Median:',np.median(test.image_top_1.dropna()))\n",
    "print(\"\")\n",
    "print('Train Mean:',np.mean(train.image_top_1.dropna()))\n",
    "print('Test Mean:',np.mean(test.image_top_1.dropna()))"
   ]
  },
  {
   "cell_type": "code",
   "execution_count": 63,
   "metadata": {},
   "outputs": [
    {
     "data": {
      "text/plain": [
       "count    1.390836e+06\n",
       "mean     1.241932e+03\n",
       "std      9.704641e+02\n",
       "min      0.000000e+00\n",
       "25%      4.250000e+02\n",
       "50%      1.057000e+03\n",
       "75%      2.217000e+03\n",
       "max      3.066000e+03\n",
       "Name: image_top_1, dtype: float64"
      ]
     },
     "execution_count": 63,
     "metadata": {},
     "output_type": "execute_result"
    }
   ],
   "source": [
    "train.image_top_1.describe()"
   ]
  },
  {
   "cell_type": "code",
   "execution_count": 20,
   "metadata": {},
   "outputs": [],
   "source": [
    "imputer = impute.SimpleImputer(strategy='median')\n",
    "\n",
    "imputer.fit(train[['price','image_top_1']].append(test[['price','image_top_1']]))\n",
    "\n",
    "new_features = pd.DataFrame(imputer.transform(train[['price','image_top_1']]))\n",
    "\n",
    "new_features.columns = ['price_imp','image_top_1_imp']\n",
    "\n",
    "train_features = train_features.join(new_features)"
   ]
  },
  {
   "cell_type": "code",
   "execution_count": 21,
   "metadata": {},
   "outputs": [],
   "source": [
    "new_features = pd.DataFrame(imputer.transform(test[['price','image_top_1']]))\n",
    "\n",
    "new_features.columns = ['price_imp','image_top_1_imp']\n",
    "\n",
    "test_features = test_features.join(new_features)"
   ]
  },
  {
   "cell_type": "code",
   "execution_count": 22,
   "metadata": {},
   "outputs": [
    {
     "name": "stdout",
     "output_type": "stream",
     "text": [
      "(1503424, 270)\n",
      "(508438, 270)\n"
     ]
    }
   ],
   "source": [
    "print(train_features.shape)\n",
    "print(test_features.shape)"
   ]
  },
  {
   "cell_type": "markdown",
   "metadata": {},
   "source": [
    "### Item_Seq_Number"
   ]
  },
  {
   "cell_type": "code",
   "execution_count": 93,
   "metadata": {},
   "outputs": [
    {
     "data": {
      "text/plain": [
       "count    1.503424e+06\n",
       "mean     7.436740e+02\n",
       "std      5.572522e+03\n",
       "min      1.000000e+00\n",
       "25%      9.000000e+00\n",
       "50%      2.900000e+01\n",
       "75%      8.800000e+01\n",
       "max      2.044290e+05\n",
       "Name: item_seq_number, dtype: float64"
      ]
     },
     "execution_count": 93,
     "metadata": {},
     "output_type": "execute_result"
    }
   ],
   "source": [
    "train.item_seq_number.describe()"
   ]
  },
  {
   "cell_type": "code",
   "execution_count": 94,
   "metadata": {},
   "outputs": [
    {
     "data": {
      "text/plain": [
       "<matplotlib.axes._subplots.AxesSubplot at 0x7fc374477978>"
      ]
     },
     "execution_count": 94,
     "metadata": {},
     "output_type": "execute_result"
    },
    {
     "data": {
      "image/png": "[encoded data removed]",
      "text/plain": [
       "<Figure size 432x288 with 1 Axes>"
      ]
     },
     "metadata": {
      "needs_background": "light"
     },
     "output_type": "display_data"
    }
   ],
   "source": [
    "train.item_seq_number.hist()"
   ]
  },
  {
   "cell_type": "code",
   "execution_count": 23,
   "metadata": {},
   "outputs": [],
   "source": [
    "train_features['seq_n'] = train['item_seq_number']"
   ]
  },
  {
   "cell_type": "code",
   "execution_count": 24,
   "metadata": {},
   "outputs": [],
   "source": [
    "test_features['seq_n'] = test['item_seq_number']"
   ]
  },
  {
   "cell_type": "code",
   "execution_count": 25,
   "metadata": {},
   "outputs": [
    {
     "name": "stdout",
     "output_type": "stream",
     "text": [
      "(1503424, 271)\n",
      "(508438, 271)\n"
     ]
    }
   ],
   "source": [
    "print(train_features.shape)\n",
    "print(test_features.shape)"
   ]
  },
  {
   "cell_type": "markdown",
   "metadata": {},
   "source": [
    "---"
   ]
  },
  {
   "cell_type": "code",
   "execution_count": 2,
   "metadata": {
    "collapsed": true
   },
   "outputs": [
    {
     "ename": "NameError",
     "evalue": "name 'train_features' is not defined",
     "output_type": "error",
     "traceback": [
      "\u001b[0;31m---------------------------------------------------------------------------\u001b[0m",
      "\u001b[0;31mNameError\u001b[0m                                 Traceback (most recent call last)",
      "\u001b[0;32m<ipython-input-2-5c745d8bedc9>\u001b[0m in \u001b[0;36m<module>\u001b[0;34m\u001b[0m\n\u001b[0;32m----> 1\u001b[0;31m \u001b[0mtrain_features\u001b[0m\u001b[0;34m.\u001b[0m\u001b[0mto_pickle\u001b[0m\u001b[0;34m(\u001b[0m\u001b[0;34m'train_features.pkl'\u001b[0m\u001b[0;34m,\u001b[0m\u001b[0mcompression\u001b[0m\u001b[0;34m=\u001b[0m\u001b[0;34m'zip'\u001b[0m\u001b[0;34m)\u001b[0m\u001b[0;34m\u001b[0m\u001b[0;34m\u001b[0m\u001b[0m\n\u001b[0m\u001b[1;32m      2\u001b[0m \u001b[0mtest_features\u001b[0m\u001b[0;34m.\u001b[0m\u001b[0mto_pickle\u001b[0m\u001b[0;34m(\u001b[0m\u001b[0;34m'test_features.pkl'\u001b[0m\u001b[0;34m,\u001b[0m\u001b[0mcompression\u001b[0m\u001b[0;34m=\u001b[0m\u001b[0;34m'zip'\u001b[0m\u001b[0;34m)\u001b[0m\u001b[0;34m\u001b[0m\u001b[0;34m\u001b[0m\u001b[0m\n",
      "\u001b[0;31mNameError\u001b[0m: name 'train_features' is not defined"
     ]
    }
   ],
   "source": [
    "train_features.to_pickle('train_features.pkl',compression='zip')\n",
    "test_features.to_pickle('test_features.pkl',compression='zip')"
   ]
  },
  {
   "cell_type": "markdown",
   "metadata": {},
   "source": [
    "```python\n",
    "train_df = pd.merge(train_df, temp_df, on=\"parent_category_name\", how=\"left\")\n",
    "```"
   ]
  },
  {
   "cell_type": "markdown",
   "metadata": {},
   "source": [
    "# Score with Current Features"
   ]
  },
  {
   "cell_type": "code",
   "execution_count": 3,
   "metadata": {},
   "outputs": [],
   "source": [
    "train_features = pd.read_pickle('train_features.pkl',compression='zip')\n",
    "test_features = pd.read_pickle('test_features.pkl',compression='zip')"
   ]
  },
  {
   "cell_type": "code",
   "execution_count": 4,
   "metadata": {},
   "outputs": [
    {
     "name": "stdout",
     "output_type": "stream",
     "text": [
      "(1503424, 271)\n",
      "(508438, 271)\n"
     ]
    }
   ],
   "source": [
    "print(train_features.shape)\n",
    "print(test_features.shape)"
   ]
  },
  {
   "cell_type": "code",
   "execution_count": 5,
   "metadata": {},
   "outputs": [
    {
     "name": "stderr",
     "output_type": "stream",
     "text": [
      "/home/user/anaconda3/lib/python3.7/site-packages/sklearn/preprocessing/data.py:625: DataConversionWarning: Data with input dtype uint8, int64, float64 were all converted to float64 by StandardScaler.\n",
      "  return self.partial_fit(X, y)\n",
      "/home/user/anaconda3/lib/python3.7/site-packages/sklearn/base.py:462: DataConversionWarning: Data with input dtype uint8, int64, float64 were all converted to float64 by StandardScaler.\n",
      "  return self.fit(X, **fit_params).transform(X)\n"
     ]
    }
   ],
   "source": [
    "scaler = preprocessing.StandardScaler()\n",
    "\n",
    "train_features = pd.DataFrame(scaler.fit_transform(train_features),columns=train_features.columns)"
   ]
  },
  {
   "cell_type": "code",
   "execution_count": 8,
   "metadata": {},
   "outputs": [
    {
     "name": "stdout",
     "output_type": "stream",
     "text": [
      "Score with current features: 0.17661872011553495\n"
     ]
    }
   ],
   "source": [
    "model = linear_model.LinearRegression()\n",
    "cv = model_selection.cross_val_score(model,train_features,train.deal_probability,cv=3)\n",
    "score = np.mean(cv)\n",
    "print('Score with current features:',score)"
   ]
  },
  {
   "cell_type": "code",
   "execution_count": 9,
   "metadata": {},
   "outputs": [],
   "source": [
    "model.fit(train_features,train.deal_probability)\n",
    "\n",
    "coefs = pd.DataFrame()\n",
    "\n",
    "coefs['feature'] = train_features.columns.tolist()\n",
    "\n",
    "coefs['coef'] = model.coef_\n",
    "\n",
    "coefs['absolute'] = np.absolute(coefs['coef'])"
   ]
  },
  {
   "cell_type": "code",
   "execution_count": 10,
   "metadata": {},
   "outputs": [
    {
     "data": {
      "text/plain": [
       "0.17944587633587636"
      ]
     },
     "execution_count": 10,
     "metadata": {},
     "output_type": "execute_result"
    }
   ],
   "source": [
    "model.score(train_features,train.deal_probability)"
   ]
  },
  {
   "cell_type": "code",
   "execution_count": 11,
   "metadata": {
    "collapsed": true
   },
   "outputs": [
    {
     "data": {
      "text/html": [
       "<div>\n",
       "<style scoped>\n",
       "    .dataframe tbody tr th:only-of-type {\n",
       "        vertical-align: middle;\n",
       "    }\n",
       "\n",
       "    .dataframe tbody tr th {\n",
       "        vertical-align: top;\n",
       "    }\n",
       "\n",
       "    .dataframe thead th {\n",
       "        text-align: right;\n",
       "    }\n",
       "</style>\n",
       "<table border=\"1\" class=\"dataframe\">\n",
       "  <thead>\n",
       "    <tr style=\"text-align: right;\">\n",
       "      <th></th>\n",
       "      <th>feature</th>\n",
       "      <th>coef</th>\n",
       "      <th>absolute</th>\n",
       "    </tr>\n",
       "  </thead>\n",
       "  <tbody>\n",
       "    <tr>\n",
       "      <th>241</th>\n",
       "      <td>Predlozhenie uslug</td>\n",
       "      <td>1.996018e+11</td>\n",
       "      <td>1.996018e+11</td>\n",
       "    </tr>\n",
       "    <tr>\n",
       "      <th>211</th>\n",
       "      <td>Uslugi</td>\n",
       "      <td>-1.996018e+11</td>\n",
       "      <td>1.996018e+11</td>\n",
       "    </tr>\n",
       "    <tr>\n",
       "      <th>206</th>\n",
       "      <td>Dlja doma i dachi</td>\n",
       "      <td>-1.237389e+11</td>\n",
       "      <td>1.237389e+11</td>\n",
       "    </tr>\n",
       "    <tr>\n",
       "      <th>254</th>\n",
       "      <td>Private</td>\n",
       "      <td>9.635575e+10</td>\n",
       "      <td>9.635575e+10</td>\n",
       "    </tr>\n",
       "    <tr>\n",
       "      <th>253</th>\n",
       "      <td>Company</td>\n",
       "      <td>9.000867e+10</td>\n",
       "      <td>9.000867e+10</td>\n",
       "    </tr>\n",
       "    <tr>\n",
       "      <th>231</th>\n",
       "      <td>Mebel' i inter'er</td>\n",
       "      <td>7.776137e+10</td>\n",
       "      <td>7.776137e+10</td>\n",
       "    </tr>\n",
       "    <tr>\n",
       "      <th>245</th>\n",
       "      <td>Remont i stroitel'stvo</td>\n",
       "      <td>7.250900e+10</td>\n",
       "      <td>7.250900e+10</td>\n",
       "    </tr>\n",
       "    <tr>\n",
       "      <th>215</th>\n",
       "      <td>Bytovaja tehnika</td>\n",
       "      <td>5.658698e+10</td>\n",
       "      <td>5.658698e+10</td>\n",
       "    </tr>\n",
       "    <tr>\n",
       "      <th>255</th>\n",
       "      <td>Shop</td>\n",
       "      <td>4.806865e+10</td>\n",
       "      <td>4.806865e+10</td>\n",
       "    </tr>\n",
       "    <tr>\n",
       "      <th>240</th>\n",
       "      <td>Posuda i tovary dlja kuhni</td>\n",
       "      <td>2.960910e+10</td>\n",
       "      <td>2.960910e+10</td>\n",
       "    </tr>\n",
       "    <tr>\n",
       "      <th>244</th>\n",
       "      <td>Rastenija</td>\n",
       "      <td>2.952630e+10</td>\n",
       "      <td>2.952630e+10</td>\n",
       "    </tr>\n",
       "    <tr>\n",
       "      <th>242</th>\n",
       "      <td>Produkty pitanija</td>\n",
       "      <td>2.365690e+10</td>\n",
       "      <td>2.365690e+10</td>\n",
       "    </tr>\n",
       "    <tr>\n",
       "      <th>212</th>\n",
       "      <td>ZHivotnye</td>\n",
       "      <td>7.982011e+09</td>\n",
       "      <td>7.982011e+09</td>\n",
       "    </tr>\n",
       "    <tr>\n",
       "      <th>256</th>\n",
       "      <td>Sunday</td>\n",
       "      <td>3.899975e+09</td>\n",
       "      <td>3.899975e+09</td>\n",
       "    </tr>\n",
       "    <tr>\n",
       "      <th>262</th>\n",
       "      <td>Saturday</td>\n",
       "      <td>3.885173e+09</td>\n",
       "      <td>3.885173e+09</td>\n",
       "    </tr>\n",
       "    <tr>\n",
       "      <th>257</th>\n",
       "      <td>Monday</td>\n",
       "      <td>3.853324e+09</td>\n",
       "      <td>3.853324e+09</td>\n",
       "    </tr>\n",
       "    <tr>\n",
       "      <th>258</th>\n",
       "      <td>Tuesday</td>\n",
       "      <td>3.818086e+09</td>\n",
       "      <td>3.818086e+09</td>\n",
       "    </tr>\n",
       "    <tr>\n",
       "      <th>246</th>\n",
       "      <td>Sobaki</td>\n",
       "      <td>-3.807505e+09</td>\n",
       "      <td>3.807505e+09</td>\n",
       "    </tr>\n",
       "    <tr>\n",
       "      <th>259</th>\n",
       "      <td>Wednesday</td>\n",
       "      <td>3.775566e+09</td>\n",
       "      <td>3.775566e+09</td>\n",
       "    </tr>\n",
       "    <tr>\n",
       "      <th>218</th>\n",
       "      <td>Drugie zhivotnye</td>\n",
       "      <td>-3.713255e+09</td>\n",
       "      <td>3.713255e+09</td>\n",
       "    </tr>\n",
       "    <tr>\n",
       "      <th>260</th>\n",
       "      <td>Thursday</td>\n",
       "      <td>3.648579e+09</td>\n",
       "      <td>3.648579e+09</td>\n",
       "    </tr>\n",
       "    <tr>\n",
       "      <th>261</th>\n",
       "      <td>Friday</td>\n",
       "      <td>3.636963e+09</td>\n",
       "      <td>3.636963e+09</td>\n",
       "    </tr>\n",
       "    <tr>\n",
       "      <th>228</th>\n",
       "      <td>Koshki</td>\n",
       "      <td>-3.526647e+09</td>\n",
       "      <td>3.526647e+09</td>\n",
       "    </tr>\n",
       "    <tr>\n",
       "      <th>250</th>\n",
       "      <td>Tovary dlja zhivotnyh</td>\n",
       "      <td>-3.276209e+09</td>\n",
       "      <td>3.276209e+09</td>\n",
       "    </tr>\n",
       "    <tr>\n",
       "      <th>243</th>\n",
       "      <td>Pticy</td>\n",
       "      <td>-2.841950e+09</td>\n",
       "      <td>2.841950e+09</td>\n",
       "    </tr>\n",
       "    <tr>\n",
       "      <th>213</th>\n",
       "      <td>Akvarium</td>\n",
       "      <td>-2.463730e+09</td>\n",
       "      <td>2.463730e+09</td>\n",
       "    </tr>\n",
       "    <tr>\n",
       "      <th>33</th>\n",
       "      <td>Transport, perevozki</td>\n",
       "      <td>1.563483e+09</td>\n",
       "      <td>1.563483e+09</td>\n",
       "    </tr>\n",
       "    <tr>\n",
       "      <th>208</th>\n",
       "      <td>Lichnye veszi</td>\n",
       "      <td>-1.266284e+09</td>\n",
       "      <td>1.266284e+09</td>\n",
       "    </tr>\n",
       "    <tr>\n",
       "      <th>237</th>\n",
       "      <td>Odezhda, obuv', aksessuary</td>\n",
       "      <td>9.922242e+08</td>\n",
       "      <td>9.922242e+08</td>\n",
       "    </tr>\n",
       "    <tr>\n",
       "      <th>217</th>\n",
       "      <td>Detskaja odezhda i obuv'</td>\n",
       "      <td>9.751474e+08</td>\n",
       "      <td>9.751474e+08</td>\n",
       "    </tr>\n",
       "    <tr>\n",
       "      <th>...</th>\n",
       "      <td>...</td>\n",
       "      <td>...</td>\n",
       "      <td>...</td>\n",
       "    </tr>\n",
       "    <tr>\n",
       "      <th>158</th>\n",
       "      <td>62-68 sm (2-6 mes)</td>\n",
       "      <td>-5.303678e-04</td>\n",
       "      <td>5.303678e-04</td>\n",
       "    </tr>\n",
       "    <tr>\n",
       "      <th>179</th>\n",
       "      <td>50–52 (XL)</td>\n",
       "      <td>-5.198865e-04</td>\n",
       "      <td>5.198865e-04</td>\n",
       "    </tr>\n",
       "    <tr>\n",
       "      <th>1</th>\n",
       "      <td>Novosibirsk</td>\n",
       "      <td>5.013542e-04</td>\n",
       "      <td>5.013542e-04</td>\n",
       "    </tr>\n",
       "    <tr>\n",
       "      <th>150</th>\n",
       "      <td>44–46 (M)</td>\n",
       "      <td>4.990986e-04</td>\n",
       "      <td>4.990986e-04</td>\n",
       "    </tr>\n",
       "    <tr>\n",
       "      <th>97</th>\n",
       "      <td>Dzhinsy</td>\n",
       "      <td>-4.858302e-04</td>\n",
       "      <td>4.858302e-04</td>\n",
       "    </tr>\n",
       "    <tr>\n",
       "      <th>156</th>\n",
       "      <td>40–42 (XS)</td>\n",
       "      <td>4.213978e-04</td>\n",
       "      <td>4.213978e-04</td>\n",
       "    </tr>\n",
       "    <tr>\n",
       "      <th>267</th>\n",
       "      <td>title_words</td>\n",
       "      <td>-4.027786e-04</td>\n",
       "      <td>4.027786e-04</td>\n",
       "    </tr>\n",
       "    <tr>\n",
       "      <th>10</th>\n",
       "      <td>Kropotkin</td>\n",
       "      <td>3.907729e-04</td>\n",
       "      <td>3.907729e-04</td>\n",
       "    </tr>\n",
       "    <tr>\n",
       "      <th>175</th>\n",
       "      <td>46–48 (M)</td>\n",
       "      <td>-3.543000e-04</td>\n",
       "      <td>3.543000e-04</td>\n",
       "    </tr>\n",
       "    <tr>\n",
       "      <th>176</th>\n",
       "      <td>48–50 (L)</td>\n",
       "      <td>-3.537702e-04</td>\n",
       "      <td>3.537702e-04</td>\n",
       "    </tr>\n",
       "    <tr>\n",
       "      <th>220</th>\n",
       "      <td>Garazhi i mashinomesta</td>\n",
       "      <td>3.050012e-04</td>\n",
       "      <td>3.050012e-04</td>\n",
       "    </tr>\n",
       "    <tr>\n",
       "      <th>144</th>\n",
       "      <td>Mobil'nye ustrojstva</td>\n",
       "      <td>2.869347e-04</td>\n",
       "      <td>2.869347e-04</td>\n",
       "    </tr>\n",
       "    <tr>\n",
       "      <th>11</th>\n",
       "      <td>Belorechensk</td>\n",
       "      <td>2.604243e-04</td>\n",
       "      <td>2.604243e-04</td>\n",
       "    </tr>\n",
       "    <tr>\n",
       "      <th>157</th>\n",
       "      <td>46–48 (L)</td>\n",
       "      <td>2.428423e-04</td>\n",
       "      <td>2.428423e-04</td>\n",
       "    </tr>\n",
       "    <tr>\n",
       "      <th>143</th>\n",
       "      <td>Montazh i obsluzhivanie oborudovanija</td>\n",
       "      <td>-2.218777e-04</td>\n",
       "      <td>2.218777e-04</td>\n",
       "    </tr>\n",
       "    <tr>\n",
       "      <th>17</th>\n",
       "      <td>Blankparam_2_en</td>\n",
       "      <td>-1.957212e-04</td>\n",
       "      <td>1.957212e-04</td>\n",
       "    </tr>\n",
       "    <tr>\n",
       "      <th>198</th>\n",
       "      <td>Krasnojarskij kraj</td>\n",
       "      <td>-1.788891e-04</td>\n",
       "      <td>1.788891e-04</td>\n",
       "    </tr>\n",
       "    <tr>\n",
       "      <th>205</th>\n",
       "      <td>Dlja biznesa</td>\n",
       "      <td>1.608610e-04</td>\n",
       "      <td>1.608610e-04</td>\n",
       "    </tr>\n",
       "    <tr>\n",
       "      <th>238</th>\n",
       "      <td>Orgtehnika i rashodniki</td>\n",
       "      <td>1.590431e-04</td>\n",
       "      <td>1.590431e-04</td>\n",
       "    </tr>\n",
       "    <tr>\n",
       "      <th>191</th>\n",
       "      <td>Nexia</td>\n",
       "      <td>1.549102e-04</td>\n",
       "      <td>1.549102e-04</td>\n",
       "    </tr>\n",
       "    <tr>\n",
       "      <th>219</th>\n",
       "      <td>Fototehnika</td>\n",
       "      <td>-1.388328e-04</td>\n",
       "      <td>1.388328e-04</td>\n",
       "    </tr>\n",
       "    <tr>\n",
       "      <th>268</th>\n",
       "      <td>price_imp</td>\n",
       "      <td>-1.337341e-04</td>\n",
       "      <td>1.337341e-04</td>\n",
       "    </tr>\n",
       "    <tr>\n",
       "      <th>20</th>\n",
       "      <td>Muzhskaja odezhda</td>\n",
       "      <td>-1.100249e-04</td>\n",
       "      <td>1.100249e-04</td>\n",
       "    </tr>\n",
       "    <tr>\n",
       "      <th>192</th>\n",
       "      <td>21099</td>\n",
       "      <td>-9.157822e-05</td>\n",
       "      <td>9.157822e-05</td>\n",
       "    </tr>\n",
       "    <tr>\n",
       "      <th>134</th>\n",
       "      <td>Cozdanie i prodvizhenie sajtov</td>\n",
       "      <td>8.678495e-05</td>\n",
       "      <td>8.678495e-05</td>\n",
       "    </tr>\n",
       "    <tr>\n",
       "      <th>112</th>\n",
       "      <td>Nizhnee bel'yo</td>\n",
       "      <td>8.350800e-05</td>\n",
       "      <td>8.350800e-05</td>\n",
       "    </tr>\n",
       "    <tr>\n",
       "      <th>177</th>\n",
       "      <td>50-56 cm (0-2 mes)</td>\n",
       "      <td>-8.338159e-05</td>\n",
       "      <td>8.338159e-05</td>\n",
       "    </tr>\n",
       "    <tr>\n",
       "      <th>190</th>\n",
       "      <td>2115 Samara</td>\n",
       "      <td>7.443299e-05</td>\n",
       "      <td>7.443299e-05</td>\n",
       "    </tr>\n",
       "    <tr>\n",
       "      <th>8</th>\n",
       "      <td>Armavir</td>\n",
       "      <td>7.267600e-05</td>\n",
       "      <td>7.267600e-05</td>\n",
       "    </tr>\n",
       "    <tr>\n",
       "      <th>221</th>\n",
       "      <td>Gotovyj biznes</td>\n",
       "      <td>-2.962564e-05</td>\n",
       "      <td>2.962564e-05</td>\n",
       "    </tr>\n",
       "  </tbody>\n",
       "</table>\n",
       "<p>271 rows × 3 columns</p>\n",
       "</div>"
      ],
      "text/plain": [
       "                                   feature          coef      absolute\n",
       "241                     Predlozhenie uslug  1.996018e+11  1.996018e+11\n",
       "211                                 Uslugi -1.996018e+11  1.996018e+11\n",
       "206                      Dlja doma i dachi -1.237389e+11  1.237389e+11\n",
       "254                                Private  9.635575e+10  9.635575e+10\n",
       "253                                Company  9.000867e+10  9.000867e+10\n",
       "231                      Mebel' i inter'er  7.776137e+10  7.776137e+10\n",
       "245                 Remont i stroitel'stvo  7.250900e+10  7.250900e+10\n",
       "215                       Bytovaja tehnika  5.658698e+10  5.658698e+10\n",
       "255                                   Shop  4.806865e+10  4.806865e+10\n",
       "240             Posuda i tovary dlja kuhni  2.960910e+10  2.960910e+10\n",
       "244                              Rastenija  2.952630e+10  2.952630e+10\n",
       "242                      Produkty pitanija  2.365690e+10  2.365690e+10\n",
       "212                              ZHivotnye  7.982011e+09  7.982011e+09\n",
       "256                                 Sunday  3.899975e+09  3.899975e+09\n",
       "262                               Saturday  3.885173e+09  3.885173e+09\n",
       "257                                 Monday  3.853324e+09  3.853324e+09\n",
       "258                                Tuesday  3.818086e+09  3.818086e+09\n",
       "246                                 Sobaki -3.807505e+09  3.807505e+09\n",
       "259                              Wednesday  3.775566e+09  3.775566e+09\n",
       "218                       Drugie zhivotnye -3.713255e+09  3.713255e+09\n",
       "260                               Thursday  3.648579e+09  3.648579e+09\n",
       "261                                 Friday  3.636963e+09  3.636963e+09\n",
       "228                                 Koshki -3.526647e+09  3.526647e+09\n",
       "250                  Tovary dlja zhivotnyh -3.276209e+09  3.276209e+09\n",
       "243                                  Pticy -2.841950e+09  2.841950e+09\n",
       "213                               Akvarium -2.463730e+09  2.463730e+09\n",
       "33                    Transport, perevozki  1.563483e+09  1.563483e+09\n",
       "208                          Lichnye veszi -1.266284e+09  1.266284e+09\n",
       "237             Odezhda, obuv', aksessuary  9.922242e+08  9.922242e+08\n",
       "217               Detskaja odezhda i obuv'  9.751474e+08  9.751474e+08\n",
       "..                                     ...           ...           ...\n",
       "158                     62-68 sm (2-6 mes) -5.303678e-04  5.303678e-04\n",
       "179                             50–52 (XL) -5.198865e-04  5.198865e-04\n",
       "1                              Novosibirsk  5.013542e-04  5.013542e-04\n",
       "150                              44–46 (M)  4.990986e-04  4.990986e-04\n",
       "97                                 Dzhinsy -4.858302e-04  4.858302e-04\n",
       "156                             40–42 (XS)  4.213978e-04  4.213978e-04\n",
       "267                            title_words -4.027786e-04  4.027786e-04\n",
       "10                               Kropotkin  3.907729e-04  3.907729e-04\n",
       "175                              46–48 (M) -3.543000e-04  3.543000e-04\n",
       "176                              48–50 (L) -3.537702e-04  3.537702e-04\n",
       "220                 Garazhi i mashinomesta  3.050012e-04  3.050012e-04\n",
       "144                   Mobil'nye ustrojstva  2.869347e-04  2.869347e-04\n",
       "11                            Belorechensk  2.604243e-04  2.604243e-04\n",
       "157                              46–48 (L)  2.428423e-04  2.428423e-04\n",
       "143  Montazh i obsluzhivanie oborudovanija -2.218777e-04  2.218777e-04\n",
       "17                         Blankparam_2_en -1.957212e-04  1.957212e-04\n",
       "198                     Krasnojarskij kraj -1.788891e-04  1.788891e-04\n",
       "205                           Dlja biznesa  1.608610e-04  1.608610e-04\n",
       "238                Orgtehnika i rashodniki  1.590431e-04  1.590431e-04\n",
       "191                                  Nexia  1.549102e-04  1.549102e-04\n",
       "219                            Fototehnika -1.388328e-04  1.388328e-04\n",
       "268                              price_imp -1.337341e-04  1.337341e-04\n",
       "20                       Muzhskaja odezhda -1.100249e-04  1.100249e-04\n",
       "192                                  21099 -9.157822e-05  9.157822e-05\n",
       "134         Cozdanie i prodvizhenie sajtov  8.678495e-05  8.678495e-05\n",
       "112                         Nizhnee bel'yo  8.350800e-05  8.350800e-05\n",
       "177                     50-56 cm (0-2 mes) -8.338159e-05  8.338159e-05\n",
       "190                            2115 Samara  7.443299e-05  7.443299e-05\n",
       "8                                  Armavir  7.267600e-05  7.267600e-05\n",
       "221                         Gotovyj biznes -2.962564e-05  2.962564e-05\n",
       "\n",
       "[271 rows x 3 columns]"
      ]
     },
     "execution_count": 11,
     "metadata": {},
     "output_type": "execute_result"
    }
   ],
   "source": [
    "coefs.sort_values(by='absolute',ascending=False)"
   ]
  },
  {
   "cell_type": "markdown",
   "metadata": {},
   "source": [
    "### Analyzing SelectFromModel"
   ]
  },
  {
   "cell_type": "markdown",
   "metadata": {},
   "source": [
    "- I wonder if this 'absolute' ranking is the same that `SelectFromModel` would use to filter features."
   ]
  },
  {
   "cell_type": "code",
   "execution_count": 30,
   "metadata": {
    "collapsed": true
   },
   "outputs": [
    {
     "ename": "IndexError",
     "evalue": "boolean index did not match indexed array along dimension 0; dimension is 271 but corresponding boolean dimension is 13",
     "output_type": "error",
     "traceback": [
      "\u001b[0;31m---------------------------------------------------------------------------\u001b[0m",
      "\u001b[0;31mIndexError\u001b[0m                                Traceback (most recent call last)",
      "\u001b[0;32m<ipython-input-30-90164defaed8>\u001b[0m in \u001b[0;36m<module>\u001b[0;34m\u001b[0m\n\u001b[1;32m      1\u001b[0m \u001b[0mselector\u001b[0m \u001b[0;34m=\u001b[0m \u001b[0mfeature_selection\u001b[0m\u001b[0;34m.\u001b[0m\u001b[0mSelectFromModel\u001b[0m\u001b[0;34m(\u001b[0m\u001b[0mmodel\u001b[0m\u001b[0;34m,\u001b[0m\u001b[0mmax_features\u001b[0m\u001b[0;34m=\u001b[0m\u001b[0;36m10\u001b[0m\u001b[0;34m,\u001b[0m\u001b[0mprefit\u001b[0m\u001b[0;34m=\u001b[0m\u001b[0;32mTrue\u001b[0m\u001b[0;34m)\u001b[0m\u001b[0;34m\u001b[0m\u001b[0;34m\u001b[0m\u001b[0m\n\u001b[1;32m      2\u001b[0m \u001b[0;34m\u001b[0m\u001b[0m\n\u001b[0;32m----> 3\u001b[0;31m \u001b[0mbest_selector\u001b[0m \u001b[0;34m=\u001b[0m \u001b[0mtrain_features\u001b[0m\u001b[0;34m.\u001b[0m\u001b[0mcolumns\u001b[0m\u001b[0;34m[\u001b[0m\u001b[0mselector\u001b[0m\u001b[0;34m.\u001b[0m\u001b[0mget_support\u001b[0m\u001b[0;34m(\u001b[0m\u001b[0;34m)\u001b[0m\u001b[0;34m]\u001b[0m\u001b[0;34m.\u001b[0m\u001b[0mtolist\u001b[0m\u001b[0;34m(\u001b[0m\u001b[0;34m)\u001b[0m\u001b[0;34m\u001b[0m\u001b[0;34m\u001b[0m\u001b[0m\n\u001b[0m\u001b[1;32m      4\u001b[0m \u001b[0;34m\u001b[0m\u001b[0m\n\u001b[1;32m      5\u001b[0m \u001b[0mbest_absolute\u001b[0m \u001b[0;34m=\u001b[0m \u001b[0mcoefs\u001b[0m\u001b[0;34m.\u001b[0m\u001b[0msort_values\u001b[0m\u001b[0;34m(\u001b[0m\u001b[0mby\u001b[0m\u001b[0;34m=\u001b[0m\u001b[0;34m'absolute'\u001b[0m\u001b[0;34m,\u001b[0m\u001b[0mascending\u001b[0m\u001b[0;34m=\u001b[0m\u001b[0;32mFalse\u001b[0m\u001b[0;34m)\u001b[0m\u001b[0;34m.\u001b[0m\u001b[0miloc\u001b[0m\u001b[0;34m[\u001b[0m\u001b[0;34m:\u001b[0m\u001b[0;36m10\u001b[0m\u001b[0;34m,\u001b[0m\u001b[0;36m0\u001b[0m\u001b[0;34m]\u001b[0m\u001b[0;34m.\u001b[0m\u001b[0mtolist\u001b[0m\u001b[0;34m(\u001b[0m\u001b[0;34m)\u001b[0m\u001b[0;34m\u001b[0m\u001b[0;34m\u001b[0m\u001b[0m\n",
      "\u001b[0;32m~/anaconda3/lib/python3.7/site-packages/pandas/core/indexes/base.py\u001b[0m in \u001b[0;36m__getitem__\u001b[0;34m(self, key)\u001b[0m\n\u001b[1;32m   2093\u001b[0m \u001b[0;34m\u001b[0m\u001b[0m\n\u001b[1;32m   2094\u001b[0m         \u001b[0mkey\u001b[0m \u001b[0;34m=\u001b[0m \u001b[0mcom\u001b[0m\u001b[0;34m.\u001b[0m\u001b[0m_values_from_object\u001b[0m\u001b[0;34m(\u001b[0m\u001b[0mkey\u001b[0m\u001b[0;34m)\u001b[0m\u001b[0;34m\u001b[0m\u001b[0;34m\u001b[0m\u001b[0m\n\u001b[0;32m-> 2095\u001b[0;31m         \u001b[0mresult\u001b[0m \u001b[0;34m=\u001b[0m \u001b[0mgetitem\u001b[0m\u001b[0;34m(\u001b[0m\u001b[0mkey\u001b[0m\u001b[0;34m)\u001b[0m\u001b[0;34m\u001b[0m\u001b[0;34m\u001b[0m\u001b[0m\n\u001b[0m\u001b[1;32m   2096\u001b[0m         \u001b[0;32mif\u001b[0m \u001b[0;32mnot\u001b[0m \u001b[0mis_scalar\u001b[0m\u001b[0;34m(\u001b[0m\u001b[0mresult\u001b[0m\u001b[0;34m)\u001b[0m\u001b[0;34m:\u001b[0m\u001b[0;34m\u001b[0m\u001b[0;34m\u001b[0m\u001b[0m\n\u001b[1;32m   2097\u001b[0m             \u001b[0;32mreturn\u001b[0m \u001b[0mpromote\u001b[0m\u001b[0;34m(\u001b[0m\u001b[0mresult\u001b[0m\u001b[0;34m)\u001b[0m\u001b[0;34m\u001b[0m\u001b[0;34m\u001b[0m\u001b[0m\n",
      "\u001b[0;31mIndexError\u001b[0m: boolean index did not match indexed array along dimension 0; dimension is 271 but corresponding boolean dimension is 13"
     ]
    }
   ],
   "source": [
    "selector = feature_selection.SelectFromModel(model,max_features=10,prefit=True)\n",
    "\n",
    "best_selector = train_features.columns[selector.get_support()].tolist()\n",
    "\n",
    "best_absolute = coefs.sort_values(by='absolute',ascending=False).iloc[:10,0].tolist()"
   ]
  },
  {
   "cell_type": "code",
   "execution_count": 26,
   "metadata": {},
   "outputs": [
    {
     "data": {
      "text/plain": [
       "[True, True, True, True, True, True, True, True, True, True, True, True, True]"
      ]
     },
     "execution_count": 26,
     "metadata": {},
     "output_type": "execute_result"
    }
   ],
   "source": [
    "[f in best_selector for f in best_absolute]"
   ]
  },
  {
   "cell_type": "code",
   "execution_count": 27,
   "metadata": {},
   "outputs": [
    {
     "data": {
      "text/plain": [
       "[True, True, True, True, True, True, True, True, True, True, True, True, True]"
      ]
     },
     "execution_count": 27,
     "metadata": {},
     "output_type": "execute_result"
    }
   ],
   "source": [
    "[f in best_absolute for f in best_selector]"
   ]
  },
  {
   "cell_type": "markdown",
   "metadata": {},
   "source": [
    "- They are the same, in different orders.\n",
    "- Now let's get a score."
   ]
  },
  {
   "cell_type": "code",
   "execution_count": 29,
   "metadata": {},
   "outputs": [
    {
     "data": {
      "text/plain": [
       "0.06697919090197546"
      ]
     },
     "execution_count": 29,
     "metadata": {},
     "output_type": "execute_result"
    }
   ],
   "source": [
    "best_selector = train_features.loc[:,selector.get_support()]\n",
    "\n",
    "model.fit(best_selector,train.deal_probability)\n",
    "model.score(best_selector,train.deal_probability)"
   ]
  },
  {
   "cell_type": "markdown",
   "metadata": {},
   "source": [
    "- Much below the 271 features."
   ]
  },
  {
   "cell_type": "markdown",
   "metadata": {},
   "source": [
    "# LightGBM"
   ]
  },
  {
   "cell_type": "code",
   "execution_count": 31,
   "metadata": {},
   "outputs": [],
   "source": [
    "def run_lgb(train_X, train_y, val_X, val_y, test_X):\n",
    "    params = {\n",
    "        \"objective\" : \"regression\",\n",
    "        \"metric\" : \"rmse\",\n",
    "        \"num_leaves\" : 30,\n",
    "        \"learning_rate\" : 0.1,\n",
    "        \"bagging_fraction\" : 0.7,\n",
    "        \"feature_fraction\" : 0.7,\n",
    "        \"bagging_frequency\" : 5,\n",
    "        \"bagging_seed\" : 2018,\n",
    "        \"verbosity\" : -1\n",
    "    }\n",
    "    \n",
    "    lgtrain = lgb.Dataset(train_X, label=train_y)\n",
    "    lgval = lgb.Dataset(val_X, label=val_y)\n",
    "    evals_result = {}\n",
    "    model = lgb.train(params, lgtrain, 1000, valid_sets=[lgval], early_stopping_rounds=100, verbose_eval=20, evals_result=evals_result)\n",
    "    \n",
    "    pred_test_y = model.predict(test_X, num_iteration=model.best_iteration)\n",
    "    return pred_test_y, model, evals_result"
   ]
  },
  {
   "cell_type": "code",
   "execution_count": 35,
   "metadata": {
    "collapsed": true
   },
   "outputs": [
    {
     "name": "stdout",
     "output_type": "stream",
     "text": [
      "Training until validation scores don't improve for 100 rounds.\n",
      "[20]\tvalid_0's rmse: 0.235903\n",
      "[40]\tvalid_0's rmse: 0.232932\n",
      "[60]\tvalid_0's rmse: 0.231725\n",
      "[80]\tvalid_0's rmse: 0.230966\n",
      "[100]\tvalid_0's rmse: 0.230399\n",
      "[120]\tvalid_0's rmse: 0.230028\n",
      "[140]\tvalid_0's rmse: 0.229749\n",
      "[160]\tvalid_0's rmse: 0.229512\n",
      "[180]\tvalid_0's rmse: 0.229321\n",
      "[200]\tvalid_0's rmse: 0.229172\n",
      "[220]\tvalid_0's rmse: 0.229035\n",
      "[240]\tvalid_0's rmse: 0.228882\n",
      "[260]\tvalid_0's rmse: 0.228777\n",
      "[280]\tvalid_0's rmse: 0.228681\n",
      "[300]\tvalid_0's rmse: 0.228593\n",
      "[320]\tvalid_0's rmse: 0.228506\n",
      "[340]\tvalid_0's rmse: 0.228439\n",
      "[360]\tvalid_0's rmse: 0.228381\n",
      "[380]\tvalid_0's rmse: 0.228329\n",
      "[400]\tvalid_0's rmse: 0.228266\n",
      "[420]\tvalid_0's rmse: 0.228223\n",
      "[440]\tvalid_0's rmse: 0.228181\n",
      "[460]\tvalid_0's rmse: 0.228132\n",
      "[480]\tvalid_0's rmse: 0.228082\n",
      "[500]\tvalid_0's rmse: 0.228036\n",
      "[520]\tvalid_0's rmse: 0.228008\n",
      "[540]\tvalid_0's rmse: 0.227969\n",
      "[560]\tvalid_0's rmse: 0.227948\n",
      "[580]\tvalid_0's rmse: 0.227919\n",
      "[600]\tvalid_0's rmse: 0.227878\n",
      "[620]\tvalid_0's rmse: 0.227827\n",
      "[640]\tvalid_0's rmse: 0.227817\n",
      "[660]\tvalid_0's rmse: 0.227799\n",
      "[680]\tvalid_0's rmse: 0.227765\n",
      "[700]\tvalid_0's rmse: 0.227734\n",
      "[720]\tvalid_0's rmse: 0.227704\n",
      "[740]\tvalid_0's rmse: 0.227681\n",
      "[760]\tvalid_0's rmse: 0.227671\n",
      "[780]\tvalid_0's rmse: 0.227648\n",
      "[800]\tvalid_0's rmse: 0.227624\n",
      "[820]\tvalid_0's rmse: 0.227597\n",
      "[840]\tvalid_0's rmse: 0.227586\n",
      "[860]\tvalid_0's rmse: 0.227556\n",
      "[880]\tvalid_0's rmse: 0.22755\n",
      "[900]\tvalid_0's rmse: 0.227522\n",
      "[920]\tvalid_0's rmse: 0.227498\n",
      "[940]\tvalid_0's rmse: 0.227484\n",
      "[960]\tvalid_0's rmse: 0.22747\n",
      "[980]\tvalid_0's rmse: 0.227456\n",
      "[1000]\tvalid_0's rmse: 0.227447\n",
      "Did not meet early stopping. Best iteration is:\n",
      "[995]\tvalid_0's rmse: 0.227447\n"
     ]
    }
   ],
   "source": [
    "# Splitting the data for model training#\n",
    "dev_X = train_features.iloc[:-200000,:]\n",
    "val_X = train_features.iloc[-200000:,:]\n",
    "dev_y = train.deal_probability[:-200000]\n",
    "val_y = train.deal_probability[-200000:]\n",
    "\n",
    "# Training the model #\n",
    "pred_test, model, evals_result = run_lgb(dev_X, dev_y, val_X, val_y, test_features)"
   ]
  },
  {
   "cell_type": "code",
   "execution_count": 36,
   "metadata": {},
   "outputs": [
    {
     "data": {
      "image/png": "[encoded data removed]",
      "text/plain": [
       "<Figure size 864x1296 with 1 Axes>"
      ]
     },
     "metadata": {
      "needs_background": "light"
     },
     "output_type": "display_data"
    }
   ],
   "source": [
    "fig, ax = plt.subplots(figsize=(12,18))\n",
    "lgb.plot_importance(model, max_num_features=50, height=0.8, ax=ax)\n",
    "ax.grid(False)\n",
    "plt.title(\"LightGBM - Feature Importance\", fontsize=15)\n",
    "plt.show()"
   ]
  },
  {
   "cell_type": "raw",
   "metadata": {},
   "source": [
    "# Making a submission file #\n",
    "pred_test[pred_test>1] = 1\n",
    "pred_test[pred_test<0] = 0\n",
    "sub_df = pd.DataFrame({\"item_id\":test_id})\n",
    "sub_df[\"deal_probability\"] = pred_test\n",
    "sub_df.to_csv(\"baseline_lgb.csv\", index=False)"
   ]
  }
 ],
 "metadata": {
  "kernelspec": {
   "display_name": "Python 3",
   "language": "python",
   "name": "python3"
  },
  "language_info": {
   "codemirror_mode": {
    "name": "ipython",
    "version": 3
   },
   "file_extension": ".py",
   "mimetype": "text/x-python",
   "name": "python",
   "nbconvert_exporter": "python",
   "pygments_lexer": "ipython3",
   "version": "3.7.1"
  }
 },
 "nbformat": 4,
 "nbformat_minor": 2
}
