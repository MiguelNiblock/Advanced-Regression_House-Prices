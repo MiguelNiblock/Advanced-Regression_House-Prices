{
 "cells": [
  {
   "cell_type": "code",
   "execution_count": 1,
   "metadata": {},
   "outputs": [],
   "source": [
    "import pandas as pd\n",
    "import matplotlib.pyplot as plt\n",
    "import seaborn as sns\n",
    "import numpy as np\n",
    "\n",
    "import nltk\n",
    "import cyrtranslit\n",
    "from sklearn import preprocessing, model_selection, metrics, feature_selection, ensemble, linear_model, cross_decomposition, feature_extraction, decomposition\n",
    "from sklearn.pipeline import Pipeline\n",
    "import lightgbm as lgb\n",
    "import time\n",
    "color = sns.color_palette()\n",
    "\n",
    "%matplotlib inline"
   ]
  },
  {
   "cell_type": "code",
   "execution_count": 2,
   "metadata": {},
   "outputs": [],
   "source": [
    "train = pd.read_pickle('../../train.pkl',compression='zip')\n",
    "\n",
    "test = pd.read_pickle('../../test.pkl',compression='zip')"
   ]
  },
  {
   "cell_type": "code",
   "execution_count": 3,
   "metadata": {},
   "outputs": [],
   "source": [
    "ru_stop = nltk.corpus.stopwords.words('russian')"
   ]
  },
  {
   "cell_type": "markdown",
   "metadata": {},
   "source": [
    "# Lowercase=False\n",
    "\n",
    "**Summary**\n",
    "\n",
    "- Last time we did this, without `lowercase=False`, we got 29k features. Here we'll compare previous result with enabling the extra features that come from upper/lower case specificity."
   ]
  },
  {
   "cell_type": "code",
   "execution_count": 4,
   "metadata": {},
   "outputs": [
    {
     "name": "stdout",
     "output_type": "stream",
     "text": [
      "34568\n"
     ]
    }
   ],
   "source": [
    "vec = feature_extraction.text.TfidfVectorizer(\n",
    "    stop_words=ru_stop,\n",
    "    lowercase=False,\n",
    "    #max_features=8600,\n",
    "    #ngram_range=(1,2),\n",
    "    min_df=0.000005,\n",
    "    #max_df=0.0005\n",
    ")\n",
    "# Fitting on train and test as merged lists\n",
    "vec.fit(train['title'].values.tolist() + test['title'].values.tolist())\n",
    "print(len(vec.get_feature_names()))"
   ]
  },
  {
   "cell_type": "markdown",
   "metadata": {},
   "source": [
    "**Filtering Features**\n",
    "\n",
    "- Enabling `lowercase=False` increased features from 29k to 34k. Since now we can process all of them, now we can have a more objective assessment of whether they add predictive value.\n",
    "- The total number of features will increase from 75 to around 85."
   ]
  },
  {
   "cell_type": "code",
   "execution_count": 5,
   "metadata": {},
   "outputs": [],
   "source": [
    "# Word counts for train titles. CSR Matrix, tokens ordered alphabetically\n",
    "counts = vec.transform(train['title'].values.tolist())"
   ]
  },
  {
   "cell_type": "code",
   "execution_count": 6,
   "metadata": {},
   "outputs": [
    {
     "data": {
      "text/plain": [
       "(1503424, 34568)"
      ]
     },
     "execution_count": 6,
     "metadata": {},
     "output_type": "execute_result"
    }
   ],
   "source": [
    "counts.shape"
   ]
  },
  {
   "cell_type": "markdown",
   "metadata": {},
   "source": [
    "**Notes**\n",
    "\n",
    "- Some changes to the block below, from the first version: Instead of seeing the scores of each new set of components, I want to see how the score increases as they get joined with previous sets."
   ]
  },
  {
   "cell_type": "code",
   "execution_count": 11,
   "metadata": {
    "scrolled": true
   },
   "outputs": [
    {
     "name": "stdout",
     "output_type": "stream",
     "text": [
      "Score for feature range: 0.025448498697579258\n",
      "Indexes: 0 310000 Columns: 0 2000\n",
      "Sample shape: (310000, 2000)\n",
      "Indexes: 310000 620000 Columns: 0 2000\n",
      "Sample shape: (310000, 2000)\n",
      "Indexes: 620000 930000 Columns: 0 2000\n",
      "Sample shape: (310000, 2000)\n",
      "Indexes: 930000 1240000 Columns: 0 2000\n",
      "Sample shape: (310000, 2000)\n",
      "Indexes: 1240000 1503424 Columns: 0 2000\n",
      "Sample shape: (263424, 2000)\n",
      "Aggregate score: [0.01972549 0.01798782 0.01789343 0.01906132]\n",
      "Aggregate shape: (1503424, 5) \n",
      "\n",
      "Score for feature range: 0.01254578176102683\n",
      "Indexes: 0 310000 Columns: 2000 4000\n",
      "Sample shape: (310000, 2000)\n",
      "Indexes: 310000 620000 Columns: 2000 4000\n",
      "Sample shape: (310000, 2000)\n",
      "Indexes: 620000 930000 Columns: 2000 4000\n",
      "Sample shape: (310000, 2000)\n",
      "Indexes: 930000 1240000 Columns: 2000 4000\n",
      "Sample shape: (310000, 2000)\n",
      "Indexes: 1240000 1503424 Columns: 2000 4000\n",
      "Sample shape: (263424, 2000)\n",
      "Aggregate score: [0.02287299 0.02122874 0.02083926 0.022315  ]\n",
      "Aggregate shape: (1503424, 10) \n",
      "\n",
      "Score for feature range: 0.017484852870748302\n",
      "Indexes: 0 310000 Columns: 4000 6000\n",
      "Sample shape: (310000, 2000)\n",
      "Indexes: 310000 620000 Columns: 4000 6000\n",
      "Sample shape: (310000, 2000)\n",
      "Indexes: 620000 930000 Columns: 4000 6000\n",
      "Sample shape: (310000, 2000)\n",
      "Indexes: 930000 1240000 Columns: 4000 6000\n",
      "Sample shape: (310000, 2000)\n",
      "Indexes: 1240000 1503424 Columns: 4000 6000\n",
      "Sample shape: (263424, 2000)\n",
      "Aggregate score: [0.02734294 0.02597897 0.02543111 0.02705417]\n",
      "Aggregate shape: (1503424, 15) \n",
      "\n",
      "Score for feature range: 0.016786206292396688\n",
      "Indexes: 0 310000 Columns: 6000 8000\n",
      "Sample shape: (310000, 2000)\n",
      "Indexes: 310000 620000 Columns: 6000 8000\n",
      "Sample shape: (310000, 2000)\n",
      "Indexes: 620000 930000 Columns: 6000 8000\n",
      "Sample shape: (310000, 2000)\n",
      "Indexes: 930000 1240000 Columns: 6000 8000\n",
      "Sample shape: (310000, 2000)\n",
      "Indexes: 1240000 1503424 Columns: 6000 8000\n",
      "Sample shape: (263424, 2000)\n",
      "Aggregate score: [0.03076312 0.0288197  0.02873866 0.03017717]\n",
      "Aggregate shape: (1503424, 20) \n",
      "\n",
      "Score for feature range: 0.013452540477480568\n",
      "Indexes: 0 310000 Columns: 8000 10000\n",
      "Sample shape: (310000, 2000)\n",
      "Indexes: 310000 620000 Columns: 8000 10000\n",
      "Sample shape: (310000, 2000)\n",
      "Indexes: 620000 930000 Columns: 8000 10000\n",
      "Sample shape: (310000, 2000)\n",
      "Indexes: 930000 1240000 Columns: 8000 10000\n",
      "Sample shape: (310000, 2000)\n",
      "Indexes: 1240000 1503424 Columns: 8000 10000\n",
      "Sample shape: (263424, 2000)\n",
      "Aggregate score: [0.03403204 0.03231336 0.03246476 0.03358497]\n",
      "Aggregate shape: (1503424, 25) \n",
      "\n",
      "Score for feature range: 0.030907860023329348\n",
      "Indexes: 0 310000 Columns: 10000 12000\n",
      "Sample shape: (310000, 2000)\n",
      "Indexes: 310000 620000 Columns: 10000 12000\n",
      "Sample shape: (310000, 2000)\n",
      "Indexes: 620000 930000 Columns: 10000 12000\n",
      "Sample shape: (310000, 2000)\n",
      "Indexes: 930000 1240000 Columns: 10000 12000\n",
      "Sample shape: (310000, 2000)\n",
      "Indexes: 1240000 1503424 Columns: 10000 12000\n",
      "Sample shape: (263424, 2000)\n",
      "Aggregate score: [0.04735923 0.04620285 0.04635388 0.04659188]\n",
      "Aggregate shape: (1503424, 30) \n",
      "\n",
      "Score for feature range: 0.027436498902869588\n",
      "Indexes: 0 310000 Columns: 12000 14000\n",
      "Sample shape: (310000, 2000)\n",
      "Indexes: 310000 620000 Columns: 12000 14000\n",
      "Sample shape: (310000, 2000)\n",
      "Indexes: 620000 930000 Columns: 12000 14000\n",
      "Sample shape: (310000, 2000)\n",
      "Indexes: 930000 1240000 Columns: 12000 14000\n",
      "Sample shape: (310000, 2000)\n",
      "Indexes: 1240000 1503424 Columns: 12000 14000\n",
      "Sample shape: (263424, 2000)\n",
      "Aggregate score: [0.06486802 0.06355429 0.06444561 0.06521058]\n",
      "Aggregate shape: (1503424, 35) \n",
      "\n",
      "Score for feature range: 0.031713755635909946\n",
      "Indexes: 0 310000 Columns: 14000 16000\n",
      "Sample shape: (310000, 2000)\n",
      "Indexes: 310000 620000 Columns: 14000 16000\n",
      "Sample shape: (310000, 2000)\n",
      "Indexes: 620000 930000 Columns: 14000 16000\n",
      "Sample shape: (310000, 2000)\n",
      "Indexes: 930000 1240000 Columns: 14000 16000\n",
      "Sample shape: (310000, 2000)\n",
      "Indexes: 1240000 1503424 Columns: 14000 16000\n",
      "Sample shape: (263424, 2000)\n",
      "Aggregate score: [0.08635976 0.08380655 0.08589469 0.08573531]\n",
      "Aggregate shape: (1503424, 40) \n",
      "\n",
      "Score for feature range: 0.03403178990143274\n",
      "Indexes: 0 310000 Columns: 16000 18000\n",
      "Sample shape: (310000, 2000)\n",
      "Indexes: 310000 620000 Columns: 16000 18000\n",
      "Sample shape: (310000, 2000)\n",
      "Indexes: 620000 930000 Columns: 16000 18000\n",
      "Sample shape: (310000, 2000)\n",
      "Indexes: 930000 1240000 Columns: 16000 18000\n",
      "Sample shape: (310000, 2000)\n",
      "Indexes: 1240000 1503424 Columns: 16000 18000\n",
      "Sample shape: (263424, 2000)\n",
      "Aggregate score: [0.10980005 0.10641348 0.10934063 0.10883655]\n",
      "Aggregate shape: (1503424, 45) \n",
      "\n",
      "Score for feature range: 0.034510271063169506\n",
      "Indexes: 0 310000 Columns: 18000 20000\n",
      "Sample shape: (310000, 2000)\n",
      "Indexes: 310000 620000 Columns: 18000 20000\n",
      "Sample shape: (310000, 2000)\n",
      "Indexes: 620000 930000 Columns: 18000 20000\n",
      "Sample shape: (310000, 2000)\n",
      "Indexes: 930000 1240000 Columns: 18000 20000\n",
      "Sample shape: (310000, 2000)\n",
      "Indexes: 1240000 1503424 Columns: 18000 20000\n",
      "Sample shape: (263424, 2000)\n",
      "Aggregate score: [0.1321658  0.12808968 0.13269731 0.13206037]\n",
      "Aggregate shape: (1503424, 50) \n",
      "\n",
      "Score for feature range: 0.024182757440320946\n",
      "Indexes: 0 310000 Columns: 20000 22000\n",
      "Sample shape: (310000, 2000)\n",
      "Indexes: 310000 620000 Columns: 20000 22000\n",
      "Sample shape: (310000, 2000)\n",
      "Indexes: 620000 930000 Columns: 20000 22000\n",
      "Sample shape: (310000, 2000)\n",
      "Indexes: 930000 1240000 Columns: 20000 22000\n",
      "Sample shape: (310000, 2000)\n",
      "Indexes: 1240000 1503424 Columns: 20000 22000\n",
      "Sample shape: (263424, 2000)\n",
      "Aggregate score: [0.14238792 0.13782506 0.14299051 0.14181537]\n",
      "Aggregate shape: (1503424, 55) \n",
      "\n",
      "Score for feature range: 0.028194444723681822\n",
      "Indexes: 0 310000 Columns: 22000 24000\n",
      "Sample shape: (310000, 2000)\n",
      "Indexes: 310000 620000 Columns: 22000 24000\n",
      "Sample shape: (310000, 2000)\n",
      "Indexes: 620000 930000 Columns: 22000 24000\n",
      "Sample shape: (310000, 2000)\n",
      "Indexes: 930000 1240000 Columns: 22000 24000\n",
      "Sample shape: (310000, 2000)\n",
      "Indexes: 1240000 1503424 Columns: 22000 24000\n",
      "Sample shape: (263424, 2000)\n",
      "Aggregate score: [0.1494183  0.14470698 0.14922253 0.14851931]\n",
      "Aggregate shape: (1503424, 60) \n",
      "\n",
      "Score for feature range: 0.026002592559322246\n",
      "Indexes: 0 310000 Columns: 24000 26000\n",
      "Sample shape: (310000, 2000)\n",
      "Indexes: 310000 620000 Columns: 24000 26000\n",
      "Sample shape: (310000, 2000)\n",
      "Indexes: 620000 930000 Columns: 24000 26000\n",
      "Sample shape: (310000, 2000)\n",
      "Indexes: 930000 1240000 Columns: 24000 26000\n",
      "Sample shape: (310000, 2000)\n",
      "Indexes: 1240000 1503424 Columns: 24000 26000\n",
      "Sample shape: (263424, 2000)\n",
      "Aggregate score: [0.15486526 0.14997579 0.15487626 0.15370106]\n",
      "Aggregate shape: (1503424, 65) \n",
      "\n",
      "Score for feature range: 0.023147821569903693\n",
      "Indexes: 0 310000 Columns: 26000 28000\n",
      "Sample shape: (310000, 2000)\n",
      "Indexes: 310000 620000 Columns: 26000 28000\n",
      "Sample shape: (310000, 2000)\n",
      "Indexes: 620000 930000 Columns: 26000 28000\n",
      "Sample shape: (310000, 2000)\n",
      "Indexes: 930000 1240000 Columns: 26000 28000\n",
      "Sample shape: (310000, 2000)\n",
      "Indexes: 1240000 1503424 Columns: 26000 28000\n",
      "Sample shape: (263424, 2000)\n",
      "Aggregate score: [0.15915917 0.15410473 0.15907457 0.15763079]\n",
      "Aggregate shape: (1503424, 70) \n",
      "\n",
      "Score for feature range: 0.023297731467476712\n",
      "Indexes: 0 310000 Columns: 28000 30000\n",
      "Sample shape: (310000, 2000)\n",
      "Indexes: 310000 620000 Columns: 28000 30000\n",
      "Sample shape: (310000, 2000)\n",
      "Indexes: 620000 930000 Columns: 28000 30000\n",
      "Sample shape: (310000, 2000)\n",
      "Indexes: 930000 1240000 Columns: 28000 30000\n",
      "Sample shape: (310000, 2000)\n",
      "Indexes: 1240000 1503424 Columns: 28000 30000\n",
      "Sample shape: (263424, 2000)\n",
      "Aggregate score: [0.16258971 0.15803011 0.16283538 0.16113728]\n",
      "Aggregate shape: (1503424, 75) \n",
      "\n",
      "Score for feature range: 0.022601996331808927\n",
      "Indexes: 0 310000 Columns: 30000 32000\n",
      "Sample shape: (310000, 2000)\n",
      "Indexes: 310000 620000 Columns: 30000 32000\n",
      "Sample shape: (310000, 2000)\n",
      "Indexes: 620000 930000 Columns: 30000 32000\n",
      "Sample shape: (310000, 2000)\n",
      "Indexes: 930000 1240000 Columns: 30000 32000\n",
      "Sample shape: (310000, 2000)\n",
      "Indexes: 1240000 1503424 Columns: 30000 32000\n",
      "Sample shape: (263424, 2000)\n",
      "Aggregate score: [0.16555329 0.16104085 0.16535782 0.1642243 ]\n",
      "Aggregate shape: (1503424, 80) \n",
      "\n",
      "Score for feature range: 0.022507298374711437\n",
      "Indexes: 0 310000 Columns: 32000 34000\n",
      "Sample shape: (310000, 2000)\n",
      "Indexes: 310000 620000 Columns: 32000 34000\n",
      "Sample shape: (310000, 2000)\n"
     ]
    },
    {
     "name": "stdout",
     "output_type": "stream",
     "text": [
      "Indexes: 620000 930000 Columns: 32000 34000\n",
      "Sample shape: (310000, 2000)\n",
      "Indexes: 930000 1240000 Columns: 32000 34000\n",
      "Sample shape: (310000, 2000)\n",
      "Indexes: 1240000 1503424 Columns: 32000 34000\n",
      "Sample shape: (263424, 2000)\n",
      "Aggregate score: [0.17009318 0.16540609 0.1695368  0.16860162]\n",
      "Aggregate shape: (1503424, 85) \n",
      "\n",
      "Score for feature range: 0.006621878723896525\n",
      "Indexes: 0 310000 Columns: 34000 34568\n",
      "Sample shape: (310000, 568)\n",
      "Indexes: 310000 620000 Columns: 34000 34568\n",
      "Sample shape: (310000, 568)\n",
      "Indexes: 620000 930000 Columns: 34000 34568\n",
      "Sample shape: (310000, 568)\n",
      "Indexes: 930000 1240000 Columns: 34000 34568\n",
      "Sample shape: (310000, 568)\n",
      "Indexes: 1240000 1503424 Columns: 34000 34568\n",
      "Sample shape: (263424, 568)\n",
      "Aggregate score: [0.17120489 0.16643993 0.17064324 0.16967027]\n",
      "Aggregate shape: (1503424, 90) \n",
      "\n",
      "Minutes: 20.761858999729156\n"
     ]
    }
   ],
   "source": [
    "# Reduce all CSR values in batches\n",
    "t = time.time()\n",
    "reduced = pd.DataFrame(index=train.index)\n",
    "low_col = 0\n",
    "# Start iteration with columns\n",
    "for col in np.arange(0,int(counts.shape[1]*1.05),2000):\n",
    "    # Limiting the edge case of the last values\n",
    "    if col > counts.shape[1]:\n",
    "        col = counts.shape[1]\n",
    "    up_col = col\n",
    "    \n",
    "    if up_col > low_col:\n",
    "        # Train PLSR on a large sample of those columns from CSR\n",
    "        index = np.random.choice(len(train),size=int(4e5))\n",
    "        sample = counts[index,low_col:up_col].toarray()\n",
    "        reduce = cross_decomposition.PLSRegression(n_components=5)\n",
    "        reduce.fit(sample,train.iloc[index].deal_probability)\n",
    "        print('Score for feature range:',reduce.score(sample,train.iloc[index].deal_probability))\n",
    "        \n",
    "        # Nested indexes iteration\n",
    "        components = pd.DataFrame()\n",
    "        low_idx = 0\n",
    "        for idx in np.arange(0,int(len(train)*1.1),int(3.1e5)):\n",
    "            # Limiting the edge case of the last values\n",
    "            if idx > len(train):\n",
    "                idx = len(train)\n",
    "            up_idx = idx\n",
    "\n",
    "            if up_idx > low_idx:\n",
    "                print('Indexes:',low_idx,up_idx,'Columns:',low_col,up_col)\n",
    "                sample = counts[low_idx:up_idx,low_col:up_col].toarray()\n",
    "                print('Sample shape:',sample.shape)\n",
    "                sample = reduce.transform(sample)\n",
    "                components = components.append(pd.DataFrame(sample))\n",
    "                low_idx = idx\n",
    "        components.reset_index(drop=True,inplace=True)\n",
    "        components.columns = ['col_{}-{}_{}'.format(low_col,up_col,i) for i in range(0,5)]\n",
    "        reduced = reduced.join(components)\n",
    "        print('Aggregate score:',model_selection.cross_val_score(\n",
    "            cv=4,estimator=linear_model.LinearRegression(),\n",
    "            X=reduced,y=train.deal_probability))\n",
    "        print('Aggregate shape:',reduced.shape,'\\n')\n",
    "        low_col = col\n",
    "print('Minutes:',(time.time()-t)/60)"
   ]
  },
  {
   "cell_type": "markdown",
   "metadata": {},
   "source": [
    "**Observations**\n",
    "\n",
    "- The first few column ranges (columns 0 to 12k) had lower scores and also caused very slow increases in aggregate cv scores. Since TfidfVectorizer orders features alphabetically, this might represent digits as unigrams.\n",
    "- Then from columns 12k to 20k, cv increases accelerated at almost 3% per iteration.\n",
    "- After column 22k, cv score increases slowed to around 1% per iteration.\n",
    "\n",
    "**Explanations**\n",
    "\n",
    "- Several factors influence the speed of score increase. More data included contributes to score increase, but the growing size of total features contributes to score decrease at the same time.\n",
    "- Options here include: 1. Decreasing `n_components` per range from 5 to 2-3. or 2. Performing a second round of PLSR on the resulting data.\n",
    "\n",
    "**Ideas**\n",
    "- It'd be interesting to provide the vectorizer with a pre-sorted vocabulary so we can be aware of what kinds of terms add the most value during the process.\n",
    "- We could get the current terms from the `vec.vocabulary_`method provided."
   ]
  },
  {
   "cell_type": "code",
   "execution_count": 12,
   "metadata": {},
   "outputs": [],
   "source": [
    "voc = vec.vocabulary_\n",
    "\n",
    "terms = [f for f in voc]"
   ]
  },
  {
   "cell_type": "code",
   "execution_count": 58,
   "metadata": {},
   "outputs": [
    {
     "data": {
      "text/plain": [
       "(1503424, 90)"
      ]
     },
     "execution_count": 58,
     "metadata": {},
     "output_type": "execute_result"
    }
   ],
   "source": [
    "reduced.shape"
   ]
  },
  {
   "cell_type": "markdown",
   "metadata": {},
   "source": [
    "reduced.to_pickle('train_nlp_features2.pkl',compression='zip')"
   ]
  },
  {
   "cell_type": "markdown",
   "metadata": {},
   "source": [
    "**Comparing**\n",
    "\n",
    "- Scores from previous notebook without `lowercase=False`: \n",
    "> `array([0.17082166, 0.16651347, 0.16958629, 0.17033808])`"
   ]
  },
  {
   "cell_type": "code",
   "execution_count": 59,
   "metadata": {},
   "outputs": [
    {
     "name": "stdout",
     "output_type": "stream",
     "text": [
      "Aggregate score: [0.17120489 0.16643993 0.17064324 0.16967027]\n"
     ]
    }
   ],
   "source": [
    "print('Aggregate score:',model_selection.cross_val_score(\n",
    "            cv=4,estimator=linear_model.LinearRegression(),\n",
    "            X=reduced,y=train.deal_probability))"
   ]
  },
  {
   "cell_type": "code",
   "execution_count": 62,
   "metadata": {},
   "outputs": [
    {
     "data": {
      "text/plain": [
       "array([0.05600089, 0.05623426, 0.05605698, 0.05641294])"
      ]
     },
     "execution_count": 62,
     "metadata": {},
     "output_type": "execute_result"
    }
   ],
   "source": [
    "rmse = metrics.make_scorer(metrics.mean_squared_error)\n",
    "model_selection.cross_val_score(cv=4,\n",
    "                                estimator=linear_model.LinearRegression(),\n",
    "                                X=reduced,\n",
    "                                y=train.deal_probability,\n",
    "                                scoring=rmse\n",
    "                               )"
   ]
  },
  {
   "cell_type": "markdown",
   "metadata": {},
   "source": [
    "## Second Round of Decomposition\n",
    "\n",
    "- We ended with 90 components now that we included non lowercase terms.\n",
    "- We could try doing a second round of decomposition on this and see what happens to the scores."
   ]
  },
  {
   "cell_type": "code",
   "execution_count": 69,
   "metadata": {},
   "outputs": [
    {
     "name": "stdout",
     "output_type": "stream",
     "text": [
      "Score for feature range: 0.16965658267295824\n"
     ]
    }
   ],
   "source": [
    "reduce = cross_decomposition.PLSRegression(n_components=10)\n",
    "reduce.fit(reduced,train.deal_probability)\n",
    "print('Score for feature range:',reduce.score(reduced,train.deal_probability))"
   ]
  },
  {
   "cell_type": "code",
   "execution_count": 70,
   "metadata": {},
   "outputs": [],
   "source": [
    "reduced2 = reduce.transform(reduced)"
   ]
  },
  {
   "cell_type": "code",
   "execution_count": 71,
   "metadata": {},
   "outputs": [
    {
     "name": "stdout",
     "output_type": "stream",
     "text": [
      "Aggregate score: [0.17133082 0.16655679 0.17078261 0.16981762]\n"
     ]
    }
   ],
   "source": [
    "print('Aggregate score:',model_selection.cross_val_score(\n",
    "            cv=4,estimator=linear_model.LinearRegression(),\n",
    "            X=reduced2,y=train.deal_probability))"
   ]
  },
  {
   "cell_type": "code",
   "execution_count": 73,
   "metadata": {},
   "outputs": [
    {
     "data": {
      "image/png": "[encoded data removed]",
      "text/plain": [
       "<Figure size 864x576 with 2 Axes>"
      ]
     },
     "metadata": {
      "needs_background": "light"
     },
     "output_type": "display_data"
    }
   ],
   "source": [
    "plt.figure(figsize=(12,8))\n",
    "sns.heatmap(pd.DataFrame(reduced2).corr())\n",
    "plt.show()"
   ]
  },
  {
   "cell_type": "markdown",
   "metadata": {},
   "source": [
    "**Conclusions**\n",
    "\n",
    "- Scores remained pretty much the same with using upper and lowercase terms. \n",
    "- Scores also remained the same with decomposing our resulting components further. Given that, I'll keep these 15 uncorrelated beauties as well."
   ]
  },
  {
   "cell_type": "markdown",
   "metadata": {},
   "source": [
    "reduced2.to_pickle('train_nlp_features3.pkl',compression='zip')"
   ]
  },
  {
   "cell_type": "markdown",
   "metadata": {},
   "source": [
    "# NGram Range = (2,2)\n",
    "\n",
    "**Summary**\n",
    "\n",
    "- Since I know (1,2) would simply include both uni and bigrams, I'll rather get a (2,2) set and repeat everything I did previously. Then I'll see if the results of this could aid in conjunction with our previous features."
   ]
  },
  {
   "cell_type": "code",
   "execution_count": 4,
   "metadata": {},
   "outputs": [
    {
     "name": "stdout",
     "output_type": "stream",
     "text": [
      "32570\n"
     ]
    }
   ],
   "source": [
    "vec = feature_extraction.text.TfidfVectorizer(\n",
    "    stop_words=ru_stop,\n",
    "    lowercase=False,\n",
    "    #max_features=8600,\n",
    "    ngram_range=(2,2),\n",
    "    min_df=0.000005,\n",
    "    #max_df=0.0005\n",
    ")\n",
    "# Fitting on train and test as merged lists\n",
    "vec.fit(train['title'].values.tolist() + test['title'].values.tolist())\n",
    "print(len(vec.get_feature_names()))"
   ]
  },
  {
   "cell_type": "code",
   "execution_count": 5,
   "metadata": {},
   "outputs": [],
   "source": [
    "# Word counts for train titles. CSR Matrix, tokens ordered alphabetically\n",
    "counts = vec.transform(train['title'].values.tolist())"
   ]
  },
  {
   "cell_type": "code",
   "execution_count": 6,
   "metadata": {},
   "outputs": [
    {
     "data": {
      "text/plain": [
       "(1503424, 32570)"
      ]
     },
     "execution_count": 6,
     "metadata": {},
     "output_type": "execute_result"
    }
   ],
   "source": [
    "counts.shape"
   ]
  },
  {
   "cell_type": "code",
   "execution_count": 7,
   "metadata": {
    "collapsed": true
   },
   "outputs": [
    {
     "name": "stdout",
     "output_type": "stream",
     "text": [
      "Score for feature range: 0.017863830736976505\n",
      "Aggregate score: [0.01083475 0.01089431 0.01048798 0.01137517]\n",
      "Aggregate shape: (1503424, 5) \n",
      "\n",
      "Score for feature range: 0.012709637261306583\n",
      "Aggregate score: [0.01518396 0.01497567 0.01440919 0.01548138]\n",
      "Aggregate shape: (1503424, 10) \n",
      "\n",
      "Score for feature range: 0.015945149780406176\n",
      "Aggregate score: [0.02120022 0.02056291 0.02039621 0.02139845]\n",
      "Aggregate shape: (1503424, 15) \n",
      "\n",
      "Score for feature range: 0.015889761704725003\n",
      "Aggregate score: [0.02527517 0.02456578 0.02437843 0.02511828]\n",
      "Aggregate shape: (1503424, 20) \n",
      "\n",
      "Score for feature range: 0.022249544502851215\n",
      "Aggregate score: [0.03291643 0.03202647 0.03095069 0.03211313]\n",
      "Aggregate shape: (1503424, 25) \n",
      "\n",
      "Score for feature range: 0.018034194067244158\n",
      "Aggregate score: [0.04274711 0.04272001 0.0417657  0.04308798]\n",
      "Aggregate shape: (1503424, 30) \n",
      "\n",
      "Score for feature range: 0.014490212187827423\n",
      "Aggregate score: [0.04946724 0.04915383 0.04861401 0.05002152]\n",
      "Aggregate shape: (1503424, 35) \n",
      "\n",
      "Score for feature range: 0.016457215691144667\n",
      "Aggregate score: [0.05862452 0.05766239 0.05748036 0.05846173]\n",
      "Aggregate shape: (1503424, 40) \n",
      "\n",
      "Score for feature range: 0.014713787114973287\n",
      "Aggregate score: [0.06668997 0.06493904 0.06534292 0.06616154]\n",
      "Aggregate shape: (1503424, 45) \n",
      "\n",
      "Score for feature range: 0.022682127938072782\n",
      "Aggregate score: [0.08015503 0.07805207 0.0788102  0.07943102]\n",
      "Aggregate shape: (1503424, 50) \n",
      "\n",
      "Score for feature range: 0.017733923706243493\n",
      "Aggregate score: [0.08927922 0.08778619 0.08833093 0.09016988]\n",
      "Aggregate shape: (1503424, 55) \n",
      "\n",
      "Score for feature range: 0.017578582178076285\n",
      "Aggregate score: [0.09858644 0.09602199 0.09646223 0.09923898]\n",
      "Aggregate shape: (1503424, 60) \n",
      "\n",
      "Score for feature range: 0.014034175278096583\n",
      "Aggregate score: [0.1018928  0.09921319 0.09932793 0.1022198 ]\n",
      "Aggregate shape: (1503424, 65) \n",
      "\n",
      "Score for feature range: 0.013154635954384153\n",
      "Aggregate score: [0.10487455 0.10220057 0.1020345  0.10511343]\n",
      "Aggregate shape: (1503424, 70) \n",
      "\n",
      "Score for feature range: 0.011711258902942334\n",
      "Aggregate score: [0.10685249 0.10434371 0.10436124 0.10736659]\n",
      "Aggregate shape: (1503424, 75) \n",
      "\n",
      "Score for feature range: 0.014250272879658299\n",
      "Aggregate score: [0.10855134 0.10646985 0.10621499 0.10963808]\n",
      "Aggregate shape: (1503424, 80) \n",
      "\n",
      "Score for feature range: 0.003578023667489494\n",
      "Aggregate score: [0.10909466 0.10719557 0.10688276 0.11024848]\n",
      "Aggregate shape: (1503424, 85) \n",
      "\n",
      "Minutes: 18.55549224615097\n"
     ]
    }
   ],
   "source": [
    "# Reduce all CSR values in batches\n",
    "t = time.time()\n",
    "reduced = pd.DataFrame(index=train.index)\n",
    "low_col = 0\n",
    "# Start iteration with columns\n",
    "for col in np.arange(0,int(counts.shape[1]*1.05),2000):\n",
    "    # Limiting the edge case of the last values\n",
    "    if col > counts.shape[1]:\n",
    "        col = counts.shape[1]\n",
    "    up_col = col\n",
    "    \n",
    "    if up_col > low_col:\n",
    "        # Train PLSR on a large sample of those columns from CSR\n",
    "        index = np.random.choice(len(train),size=int(4e5))\n",
    "        sample = counts[index,low_col:up_col].toarray()\n",
    "        reduce = cross_decomposition.PLSRegression(n_components=5)\n",
    "        reduce.fit(sample,train.iloc[index].deal_probability)\n",
    "        print('Score for feature range:',reduce.score(sample,train.iloc[index].deal_probability))\n",
    "        \n",
    "        # Nested indexes iteration\n",
    "        components = pd.DataFrame()\n",
    "        low_idx = 0\n",
    "        for idx in np.arange(0,int(len(train)*1.1),int(3.1e5)):\n",
    "            # Limiting the edge case of the last values\n",
    "            if idx > len(train):\n",
    "                idx = len(train)\n",
    "            up_idx = idx\n",
    "\n",
    "            if up_idx > low_idx:\n",
    "                #print('Indexes:',low_idx,up_idx,'Columns:',low_col,up_col)\n",
    "                sample = counts[low_idx:up_idx,low_col:up_col].toarray()\n",
    "                #print('Sample shape:',sample.shape)\n",
    "                sample = reduce.transform(sample)\n",
    "                components = components.append(pd.DataFrame(sample))\n",
    "                low_idx = idx\n",
    "        components.reset_index(drop=True,inplace=True)\n",
    "        components.columns = ['col_{}-{}_{}'.format(low_col,up_col,i) for i in range(0,5)]\n",
    "        reduced = reduced.join(components)\n",
    "        print('Aggregate score:',model_selection.cross_val_score(\n",
    "            cv=4,estimator=linear_model.LinearRegression(),\n",
    "            X=reduced,y=train.deal_probability))\n",
    "        print('Aggregate shape:',reduced.shape,'\\n')\n",
    "        low_col = col\n",
    "print('Minutes:',(time.time()-t)/60)"
   ]
  },
  {
   "cell_type": "code",
   "execution_count": 8,
   "metadata": {},
   "outputs": [
    {
     "name": "stdout",
     "output_type": "stream",
     "text": [
      "Aggregate score: [0.10909466 0.10719557 0.10688276 0.11024848]\n"
     ]
    }
   ],
   "source": [
    "print('Aggregate score:',model_selection.cross_val_score(\n",
    "            cv=4,estimator=linear_model.LinearRegression(),\n",
    "            X=reduced,y=train.deal_probability))"
   ]
  },
  {
   "cell_type": "markdown",
   "metadata": {},
   "source": [
    "- So bigrams on the whole train gave around 10% R^2, compared with 17% for unigrams. There might still be some value in em if we merge the sets.\n",
    "- First reduce bigrams to 10 components, and see if we retained score."
   ]
  },
  {
   "cell_type": "code",
   "execution_count": 31,
   "metadata": {},
   "outputs": [
    {
     "name": "stdout",
     "output_type": "stream",
     "text": [
      "Score for feature range: 0.10851388744177515\n"
     ]
    }
   ],
   "source": [
    "reduce = cross_decomposition.PLSRegression(n_components=10)\n",
    "reduce.fit(reduced,train.deal_probability)\n",
    "print('Score for feature range:',reduce.score(reduced,train.deal_probability))"
   ]
  },
  {
   "cell_type": "markdown",
   "metadata": {},
   "source": [
    "- Score remained the same at 10 components."
   ]
  },
  {
   "cell_type": "code",
   "execution_count": 32,
   "metadata": {},
   "outputs": [],
   "source": [
    "reduced2 = reduce.transform(reduced)"
   ]
  },
  {
   "cell_type": "code",
   "execution_count": 33,
   "metadata": {},
   "outputs": [
    {
     "name": "stdout",
     "output_type": "stream",
     "text": [
      "Aggregate score: [0.10921985 0.10735452 0.10701254 0.11037661]\n"
     ]
    }
   ],
   "source": [
    "print('Aggregate score:',model_selection.cross_val_score(\n",
    "            cv=4,estimator=linear_model.LinearRegression(),\n",
    "            X=reduced2,y=train.deal_probability))"
   ]
  },
  {
   "cell_type": "markdown",
   "metadata": {},
   "source": [
    "- Another round of cv on the 10 components returns the same scores.\n",
    "- Now let's join them with the unigrams.\n",
    "- Below, read unigrams from previous pickle file."
   ]
  },
  {
   "cell_type": "code",
   "execution_count": 41,
   "metadata": {},
   "outputs": [],
   "source": [
    "train_nlp_features3 = pd.read_pickle('train_nlp_features3.pkl',compression='zip')"
   ]
  },
  {
   "cell_type": "code",
   "execution_count": 42,
   "metadata": {
    "scrolled": true
   },
   "outputs": [
    {
     "data": {
      "text/plain": [
       "(1503424, 10)"
      ]
     },
     "execution_count": 42,
     "metadata": {},
     "output_type": "execute_result"
    }
   ],
   "source": [
    "train_nlp_features3.shape"
   ]
  },
  {
   "cell_type": "code",
   "execution_count": 46,
   "metadata": {},
   "outputs": [],
   "source": [
    "aggregate = train_nlp_features3.join(pd.DataFrame(reduced2),rsuffix='bigrams')"
   ]
  },
  {
   "cell_type": "markdown",
   "metadata": {},
   "source": [
    "- Check cv score on the joined data (unigrams + bigrams)"
   ]
  },
  {
   "cell_type": "code",
   "execution_count": 47,
   "metadata": {},
   "outputs": [
    {
     "name": "stdout",
     "output_type": "stream",
     "text": [
      "Aggregate score: [0.18037557 0.17586058 0.17962099 0.17970038]\n"
     ]
    }
   ],
   "source": [
    "print('Aggregate score:',model_selection.cross_val_score(\n",
    "            cv=4,estimator=linear_model.LinearRegression(),\n",
    "            X=aggregate,y=train.deal_probability))"
   ]
  },
  {
   "cell_type": "markdown",
   "metadata": {},
   "source": [
    "- Score increased by around 1%"
   ]
  },
  {
   "cell_type": "code",
   "execution_count": 48,
   "metadata": {
    "scrolled": false
   },
   "outputs": [
    {
     "data": {
      "image/png": "[encoded data removed]",
      "text/plain": [
       "<Figure size 864x576 with 2 Axes>"
      ]
     },
     "metadata": {
      "needs_background": "light"
     },
     "output_type": "display_data"
    }
   ],
   "source": [
    "plt.figure(figsize=(12,8))\n",
    "sns.heatmap(aggregate.corr())\n",
    "plt.show()"
   ]
  },
  {
   "cell_type": "markdown",
   "metadata": {},
   "source": [
    "- It's understandable to have some correlation in these features because they represent the same CSR matrix information. \n",
    "- Maybe we can actually decompose and reduce uni and bigrams together."
   ]
  },
  {
   "cell_type": "code",
   "execution_count": 66,
   "metadata": {},
   "outputs": [
    {
     "name": "stdout",
     "output_type": "stream",
     "text": [
      "Score for feature range: 0.17893772986675985\n"
     ]
    }
   ],
   "source": [
    "reduce = cross_decomposition.PLSRegression(n_components=10)\n",
    "reduce.fit(aggregate,train.deal_probability)\n",
    "print('Score for feature range:',reduce.score(aggregate,train.deal_probability))"
   ]
  },
  {
   "cell_type": "markdown",
   "metadata": {},
   "source": [
    "- Score is retained. Go ahead and transform."
   ]
  },
  {
   "cell_type": "code",
   "execution_count": 67,
   "metadata": {},
   "outputs": [],
   "source": [
    "reduced3 = reduce.transform(aggregate)"
   ]
  },
  {
   "cell_type": "markdown",
   "metadata": {},
   "source": [
    "- Round of cv on *joined-and-reduced* unigrams and bigrams."
   ]
  },
  {
   "cell_type": "code",
   "execution_count": 69,
   "metadata": {},
   "outputs": [
    {
     "name": "stdout",
     "output_type": "stream",
     "text": [
      "Aggregate score: [0.18038783 0.17589027 0.17964832 0.17971962]\n"
     ]
    }
   ],
   "source": [
    "print('Aggregate score:',model_selection.cross_val_score(\n",
    "            cv=4,estimator=linear_model.LinearRegression(),\n",
    "            X=reduced3,y=train.deal_probability))"
   ]
  },
  {
   "cell_type": "markdown",
   "metadata": {},
   "source": [
    "- Scores are the same. \n",
    "- Now check for correlation."
   ]
  },
  {
   "cell_type": "code",
   "execution_count": 70,
   "metadata": {
    "scrolled": false
   },
   "outputs": [
    {
     "data": {
      "image/png": "[encoded data removed]",
      "text/plain": [
       "<Figure size 864x576 with 2 Axes>"
      ]
     },
     "metadata": {
      "needs_background": "light"
     },
     "output_type": "display_data"
    }
   ],
   "source": [
    "plt.figure(figsize=(12,8))\n",
    "sns.heatmap(pd.DataFrame(reduced3).corr())\n",
    "plt.show()"
   ]
  },
  {
   "cell_type": "markdown",
   "metadata": {},
   "source": [
    "- It looks good. \n",
    "- These are the best features we have so far. Save."
   ]
  },
  {
   "cell_type": "code",
   "execution_count": 74,
   "metadata": {},
   "outputs": [],
   "source": [
    "reduced3=pd.DataFrame(reduced3,columns=[np.arange(0,10)])"
   ]
  },
  {
   "cell_type": "code",
   "execution_count": 75,
   "metadata": {
    "scrolled": true
   },
   "outputs": [],
   "source": [
    "reduced3.to_pickle('train_nlp_features4.pkl',compression='zip')"
   ]
  }
 ],
 "metadata": {
  "kernelspec": {
   "display_name": "Python 3",
   "language": "python",
   "name": "python3"
  },
  "language_info": {
   "codemirror_mode": {
    "name": "ipython",
    "version": 3
   },
   "file_extension": ".py",
   "mimetype": "text/x-python",
   "name": "python",
   "nbconvert_exporter": "python",
   "pygments_lexer": "ipython3",
   "version": "3.7.1"
  }
 },
 "nbformat": 4,
 "nbformat_minor": 2
}
