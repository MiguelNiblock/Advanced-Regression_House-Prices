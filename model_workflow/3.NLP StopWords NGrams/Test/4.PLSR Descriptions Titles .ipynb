{
 "cells": [
  {
   "cell_type": "markdown",
   "metadata": {},
   "source": [
    "# Intro\n",
    "\n",
    "**The goals here are:**\n",
    "\n",
    "1. Repeat the best NLP procedure onto the descriptions.\n",
    "2. Join resulting components with the latest components for titles (`train_nlp_features4.pkl`)"
   ]
  },
  {
   "cell_type": "code",
   "execution_count": 1,
   "metadata": {},
   "outputs": [],
   "source": [
    "import pandas as pd\n",
    "import matplotlib.pyplot as plt\n",
    "import seaborn as sns\n",
    "import numpy as np\n",
    "\n",
    "import nltk\n",
    "import cyrtranslit\n",
    "from sklearn import preprocessing, model_selection, metrics, feature_selection, ensemble, linear_model, cross_decomposition, feature_extraction, decomposition\n",
    "from sklearn.pipeline import Pipeline\n",
    "import lightgbm as lgb\n",
    "import time\n",
    "color = sns.color_palette()\n",
    "\n",
    "%matplotlib inline"
   ]
  },
  {
   "cell_type": "code",
   "execution_count": 4,
   "metadata": {},
   "outputs": [],
   "source": [
    "train = pd.read_pickle('../../train.pkl',compression='zip')\n",
    "\n",
    "test = pd.read_pickle('../../test.pkl',compression='zip')"
   ]
  },
  {
   "cell_type": "code",
   "execution_count": 3,
   "metadata": {},
   "outputs": [],
   "source": [
    "ru_stop = nltk.corpus.stopwords.words('russian')"
   ]
  },
  {
   "cell_type": "markdown",
   "metadata": {},
   "source": [
    "# NLP on Descriptions\n",
    "\n",
    "The best procedure so far was:\n",
    ">Create PLSR components from a large CSR term-frequency matrix using unigrams, stopwords and `lowercase=False` using a batch process. `Min_df` could be lowered further to allow more features in, at the expense of longer waiting times. Then repeat the same for bigrams, join with previous and PLSR-reduce to 10 components.\n",
    "\n",
    "Here I'll see how that works on descriptions. "
   ]
  },
  {
   "cell_type": "code",
   "execution_count": 5,
   "metadata": {},
   "outputs": [
    {
     "name": "stdout",
     "output_type": "stream",
     "text": [
      "33745\n"
     ]
    }
   ],
   "source": [
    "vec = feature_extraction.text.TfidfVectorizer(\n",
    "    stop_words=ru_stop,\n",
    "    lowercase=False,\n",
    "    #max_features=8600,\n",
    "    #ngram_range=(1,2),\n",
    "    min_df=0.00005,\n",
    "    #max_df=0.0005\n",
    ")\n",
    "# Fitting on train and test as merged lists\n",
    "vec.fit(train['description'].astype(str).tolist() + test['description'].astype(str).tolist())\n",
    "print(len(vec.get_feature_names()))"
   ]
  },
  {
   "cell_type": "markdown",
   "metadata": {},
   "source": [
    "- Had to tweak `min_df` by reducing a zero in order to get 33k features, which is close to the n_features for titles. Otherwise n_features would be 130k, which would take hours to decompose."
   ]
  },
  {
   "cell_type": "code",
   "execution_count": 6,
   "metadata": {},
   "outputs": [],
   "source": [
    "# Word counts for train. CSR Matrix, tokens ordered alphabetically\n",
    "counts = vec.transform(train['description'].astype(str).tolist())"
   ]
  },
  {
   "cell_type": "code",
   "execution_count": 7,
   "metadata": {},
   "outputs": [
    {
     "data": {
      "text/plain": [
       "(1503424, 33745)"
      ]
     },
     "execution_count": 7,
     "metadata": {},
     "output_type": "execute_result"
    }
   ],
   "source": [
    "counts.shape"
   ]
  },
  {
   "cell_type": "code",
   "execution_count": 8,
   "metadata": {
    "collapsed": true
   },
   "outputs": [
    {
     "name": "stdout",
     "output_type": "stream",
     "text": [
      "CSR Columns: 0 2000\n",
      "Score for feature range: 0.025844996966624456\n",
      "Aggregate score: [0.01806055 0.01737924 0.01710731 0.01836302]\n",
      "Aggregate shape: (1503424, 5) \n",
      "\n",
      "CSR Columns: 2000 4000\n",
      "Score for feature range: 0.02836370804628041\n",
      "Aggregate score: [0.03493937 0.03367467 0.03419993 0.03550503]\n",
      "Aggregate shape: (1503424, 10) \n",
      "\n",
      "CSR Columns: 4000 6000\n",
      "Score for feature range: 0.03706447946158187\n",
      "Aggregate score: [0.05577483 0.05352489 0.05497558 0.05597051]\n",
      "Aggregate shape: (1503424, 15) \n",
      "\n",
      "CSR Columns: 6000 8000\n",
      "Score for feature range: 0.04099345269365351\n",
      "Aggregate score: [0.07456628 0.07136127 0.0735364  0.07357609]\n",
      "Aggregate shape: (1503424, 20) \n",
      "\n",
      "CSR Columns: 8000 10000\n",
      "Score for feature range: 0.05111591503029023\n",
      "Aggregate score: [0.09269793 0.08938168 0.09107422 0.09215384]\n",
      "Aggregate shape: (1503424, 25) \n",
      "\n",
      "CSR Columns: 10000 12000\n",
      "Score for feature range: 0.039953931348558736\n",
      "Aggregate score: [0.10296699 0.09923814 0.10038493 0.10230855]\n",
      "Aggregate shape: (1503424, 30) \n",
      "\n",
      "CSR Columns: 12000 14000\n",
      "Score for feature range: 0.047580782693387946\n",
      "Aggregate score: [0.11529488 0.11124006 0.11334942 0.11516719]\n",
      "Aggregate shape: (1503424, 35) \n",
      "\n",
      "CSR Columns: 14000 16000\n",
      "Score for feature range: 0.049942042381279084\n",
      "Aggregate score: [0.12516145 0.12117196 0.12363758 0.12542743]\n",
      "Aggregate shape: (1503424, 40) \n",
      "\n",
      "CSR Columns: 16000 18000\n",
      "Score for feature range: 0.044791742090524944\n",
      "Aggregate score: [0.13180913 0.12790224 0.13037257 0.13147044]\n",
      "Aggregate shape: (1503424, 45) \n",
      "\n",
      "CSR Columns: 18000 20000\n",
      "Score for feature range: 0.05291447786773262\n",
      "Aggregate score: [0.13858012 0.13441001 0.13758802 0.13801818]\n",
      "Aggregate shape: (1503424, 50) \n",
      "\n",
      "CSR Columns: 20000 22000\n",
      "Score for feature range: 0.04467242179556663\n",
      "Aggregate score: [0.14346333 0.13934509 0.14233484 0.1429156 ]\n",
      "Aggregate shape: (1503424, 55) \n",
      "\n",
      "CSR Columns: 22000 24000\n",
      "Score for feature range: 0.041459431991004214\n",
      "Aggregate score: [0.14686959 0.14302402 0.14632735 0.14691816]\n",
      "Aggregate shape: (1503424, 60) \n",
      "\n",
      "CSR Columns: 24000 26000\n",
      "Score for feature range: 0.035591491920828555\n",
      "Aggregate score: [0.14885468 0.14492798 0.14805394 0.14900977]\n",
      "Aggregate shape: (1503424, 65) \n",
      "\n",
      "CSR Columns: 26000 28000\n",
      "Score for feature range: 0.05653982009335079\n",
      "Aggregate score: [0.15356889 0.14913355 0.15268524 0.15352306]\n",
      "Aggregate shape: (1503424, 70) \n",
      "\n",
      "CSR Columns: 28000 30000\n",
      "Score for feature range: 0.04680865961353364\n",
      "Aggregate score: [0.15617154 0.15167899 0.15515427 0.15588154]\n",
      "Aggregate shape: (1503424, 75) \n",
      "\n",
      "CSR Columns: 30000 32000\n",
      "Score for feature range: 0.04684306890120338\n",
      "Aggregate score: [0.15879027 0.15449486 0.15782657 0.1587357 ]\n",
      "Aggregate shape: (1503424, 80) \n",
      "\n",
      "CSR Columns: 32000 33745\n",
      "Score for feature range: 0.03989220113304537\n",
      "Aggregate score: [0.16140165 0.15721052 0.16054215 0.16103708]\n",
      "Aggregate shape: (1503424, 85) \n",
      "\n",
      "Minutes: 21.541992259025573\n"
     ]
    }
   ],
   "source": [
    "# Reduce all CSR values in batches\n",
    "t = time.time()\n",
    "reduced = pd.DataFrame(index=train.index)\n",
    "low_col = 0\n",
    "# Start iteration with columns\n",
    "for col in np.arange(0,int(counts.shape[1]*1.05),2000):\n",
    "    # Limiting the edge case of the last values\n",
    "    if col > counts.shape[1]:\n",
    "        col = counts.shape[1]\n",
    "    up_col = col\n",
    "    \n",
    "    if up_col > low_col:\n",
    "        # Train PLSR on a large sample of those columns from CSR\n",
    "        print('CSR Columns:',low_col,up_col)\n",
    "        index = np.random.choice(len(train),size=int(4e5))\n",
    "        sample = counts[index,low_col:up_col].toarray()\n",
    "        reduce = cross_decomposition.PLSRegression(n_components=5)\n",
    "        reduce.fit(sample,train.iloc[index].deal_probability)\n",
    "        print('Score for feature range:',reduce.score(sample,train.iloc[index].deal_probability))\n",
    "        \n",
    "        # Nested indexes iteration\n",
    "        components = pd.DataFrame()\n",
    "        low_idx = 0\n",
    "        for idx in np.arange(0,int(len(train)*1.1),int(3.1e5)):\n",
    "            # Limiting the edge case of the last values\n",
    "            if idx > len(train):\n",
    "                idx = len(train)\n",
    "            up_idx = idx\n",
    "\n",
    "            if up_idx > low_idx:\n",
    "                #print('Indexes:',low_idx,up_idx,'Columns:',low_col,up_col)\n",
    "                sample = counts[low_idx:up_idx,low_col:up_col].toarray()\n",
    "                #print('Sample shape:',sample.shape)\n",
    "                sample = reduce.transform(sample)\n",
    "                components = components.append(pd.DataFrame(sample))\n",
    "                low_idx = idx\n",
    "        components.reset_index(drop=True,inplace=True)\n",
    "        components.columns = ['col_{}-{}_{}'.format(low_col,up_col,i) for i in range(0,5)]\n",
    "        reduced = reduced.join(components)\n",
    "        print('Aggregate score:',model_selection.cross_val_score(\n",
    "            cv=4,estimator=linear_model.LinearRegression(),\n",
    "            X=reduced,y=train.deal_probability))\n",
    "        print('Aggregate shape:',reduced.shape,'\\n')\n",
    "        low_col = col\n",
    "print('Minutes:',(time.time()-t)/60)"
   ]
  },
  {
   "cell_type": "markdown",
   "metadata": {},
   "source": [
    "**Observations**\n",
    "\n",
    "- Column ranges seem to add much more value individually compared to all similar iterations I've done using titles.\n",
    "- Aggregate scores have climbed here much faster than with titles. By the fourth iteration, these scores are already at 7%.\n",
    "- By the last iterations, the score increate slowed down significantly.\n",
    "- Ended at a lesser score than the titles, but very close.\n",
    "\n",
    "**Explanations**\n",
    "\n",
    "- **Narrowing `min_df` limited the amount of data in descriptions allowed to pass into PLSR.** While it is the same absolute amount of data than that used with titles, since descriptions contain more tokens than titles they would need larger matrices to convey all their potential predictive value. This is an architectural bottleneck, since Im only willing to use 34k terms and wait 21 minutes at this point in time. "
   ]
  },
  {
   "cell_type": "code",
   "execution_count": 9,
   "metadata": {},
   "outputs": [
    {
     "data": {
      "text/plain": [
       "(1503424, 85)"
      ]
     },
     "execution_count": 9,
     "metadata": {},
     "output_type": "execute_result"
    }
   ],
   "source": [
    "reduced.shape"
   ]
  },
  {
   "cell_type": "markdown",
   "metadata": {},
   "source": [
    "reduced.to_pickle('train_nlp_features5.pkl',compression='zip')"
   ]
  },
  {
   "cell_type": "code",
   "execution_count": 11,
   "metadata": {},
   "outputs": [
    {
     "name": "stdout",
     "output_type": "stream",
     "text": [
      "Aggregate score: [0.16140165 0.15721052 0.16054215 0.16103708]\n"
     ]
    }
   ],
   "source": [
    "print('Aggregate score:',model_selection.cross_val_score(\n",
    "            cv=4,estimator=linear_model.LinearRegression(),\n",
    "            X=reduced,y=train.deal_probability))"
   ]
  },
  {
   "cell_type": "markdown",
   "metadata": {},
   "source": [
    "## Second Round of Decomposition"
   ]
  },
  {
   "cell_type": "code",
   "execution_count": 13,
   "metadata": {},
   "outputs": [
    {
     "name": "stdout",
     "output_type": "stream",
     "text": [
      "0.16016258433610697\n"
     ]
    }
   ],
   "source": [
    "reduce = cross_decomposition.PLSRegression(n_components=10)\n",
    "reduce.fit(reduced,train.deal_probability)\n",
    "print(reduce.score(reduced,train.deal_probability))"
   ]
  },
  {
   "cell_type": "code",
   "execution_count": 14,
   "metadata": {},
   "outputs": [],
   "source": [
    "reduced2 = reduce.transform(reduced)"
   ]
  },
  {
   "cell_type": "code",
   "execution_count": 15,
   "metadata": {},
   "outputs": [
    {
     "name": "stdout",
     "output_type": "stream",
     "text": [
      "Aggregate score: [0.16149489 0.1572853  0.16064484 0.16115773]\n"
     ]
    }
   ],
   "source": [
    "print('Aggregate score:',model_selection.cross_val_score(\n",
    "            cv=4,estimator=linear_model.LinearRegression(),\n",
    "            X=reduced2,y=train.deal_probability))"
   ]
  },
  {
   "cell_type": "code",
   "execution_count": 16,
   "metadata": {},
   "outputs": [
    {
     "data": {
      "image/png": "[encoded data removed]",
      "text/plain": [
       "<Figure size 864x576 with 2 Axes>"
      ]
     },
     "metadata": {
      "needs_background": "light"
     },
     "output_type": "display_data"
    }
   ],
   "source": [
    "plt.figure(figsize=(12,8))\n",
    "sns.heatmap(pd.DataFrame(reduced2).corr())\n",
    "plt.show()"
   ]
  },
  {
   "cell_type": "code",
   "execution_count": 21,
   "metadata": {},
   "outputs": [],
   "source": [
    "reduced2 = pd.DataFrame(reduced2,columns=['desc_{}'.format(i) for i in range(0,10)])"
   ]
  },
  {
   "cell_type": "markdown",
   "metadata": {},
   "source": [
    "reduced2.to_pickle('train_nlp_features5.pkl',compression='zip')"
   ]
  },
  {
   "cell_type": "markdown",
   "metadata": {},
   "source": [
    "# BiGrams on Descriptions\n",
    "\n",
    "- Hopefully combining this with bigrams from the same descriptions will increase the score a little bit."
   ]
  },
  {
   "cell_type": "code",
   "execution_count": 4,
   "metadata": {},
   "outputs": [
    {
     "name": "stdout",
     "output_type": "stream",
     "text": [
      "30982\n"
     ]
    }
   ],
   "source": [
    "vec = feature_extraction.text.TfidfVectorizer(\n",
    "    stop_words=ru_stop,\n",
    "    lowercase=False,\n",
    "    #max_features=8600,\n",
    "    ngram_range=(2,2),\n",
    "    min_df=0.00005,\n",
    "    #max_df=0.0005\n",
    ")\n",
    "# Fitting on train and test as merged lists\n",
    "vec.fit(train['description'].astype(str).tolist() + test['description'].astype(str).tolist())\n",
    "print(len(vec.get_feature_names()))"
   ]
  },
  {
   "cell_type": "code",
   "execution_count": 5,
   "metadata": {},
   "outputs": [],
   "source": [
    "# Word counts for train. CSR Matrix, tokens ordered alphabetically\n",
    "counts = vec.transform(train['description'].astype(str).tolist())"
   ]
  },
  {
   "cell_type": "code",
   "execution_count": 6,
   "metadata": {},
   "outputs": [
    {
     "data": {
      "text/plain": [
       "(1503424, 30982)"
      ]
     },
     "execution_count": 6,
     "metadata": {},
     "output_type": "execute_result"
    }
   ],
   "source": [
    "counts.shape"
   ]
  },
  {
   "cell_type": "markdown",
   "metadata": {},
   "source": [
    "- **Memory kept crashing here.** So I lowered the column range from 2k to 1.5k per iteration. This will produce more iterations and take longer, but that's better than reducing sample size to train which would increase overfitting."
   ]
  },
  {
   "cell_type": "code",
   "execution_count": 6,
   "metadata": {
    "collapsed": true
   },
   "outputs": [
    {
     "name": "stdout",
     "output_type": "stream",
     "text": [
      "CSR Columns: 0 1500\n",
      "Score for feature range: 0.015664278426837153\n",
      "Aggregate score: [0.00955427 0.00922732 0.01007681 0.00994164]\n",
      "Aggregate shape: (1503424, 5) \n",
      "\n",
      "CSR Columns: 1500 3000\n",
      "Score for feature range: 0.0135110328019451\n",
      "Aggregate score: [0.01602721 0.01593972 0.01612659 0.01659631]\n",
      "Aggregate shape: (1503424, 10) \n",
      "\n",
      "CSR Columns: 3000 4500\n",
      "Score for feature range: 0.02414889603321302\n",
      "Aggregate score: [0.03083797 0.02999206 0.02988343 0.03041422]\n",
      "Aggregate shape: (1503424, 15) \n",
      "\n",
      "CSR Columns: 4500 6000\n",
      "Score for feature range: 0.018279658134967458\n",
      "Aggregate score: [0.03867895 0.03740984 0.03726611 0.03813324]\n",
      "Aggregate shape: (1503424, 20) \n",
      "\n",
      "CSR Columns: 6000 7500\n",
      "Score for feature range: 0.022792510376791975\n",
      "Aggregate score: [0.04961261 0.04829247 0.04648109 0.0489493 ]\n",
      "Aggregate shape: (1503424, 25) \n",
      "\n",
      "CSR Columns: 7500 9000\n",
      "Score for feature range: 0.03290591134949805\n",
      "Aggregate score: [0.06643384 0.06485418 0.06412055 0.0666741 ]\n",
      "Aggregate shape: (1503424, 30) \n",
      "\n",
      "CSR Columns: 9000 10500\n",
      "Score for feature range: 0.02466009485798848\n",
      "Aggregate score: [0.0753068  0.0733274  0.07270762 0.074817  ]\n",
      "Aggregate shape: (1503424, 35) \n",
      "\n",
      "CSR Columns: 10500 12000\n",
      "Score for feature range: 0.01897125199585936\n",
      "Aggregate score: [0.07915934 0.07677424 0.0764114  0.07870517]\n",
      "Aggregate shape: (1503424, 40) \n",
      "\n",
      "CSR Columns: 12000 13500\n",
      "Score for feature range: 0.02739744613322148\n",
      "Aggregate score: [0.08661451 0.08423319 0.08366088 0.08687838]\n",
      "Aggregate shape: (1503424, 45) \n",
      "\n",
      "CSR Columns: 13500 15000\n",
      "Score for feature range: 0.022874020125993266\n",
      "Aggregate score: [0.09128765 0.08888373 0.08874039 0.09196675]\n",
      "Aggregate shape: (1503424, 50) \n",
      "\n",
      "CSR Columns: 15000 16500\n",
      "Score for feature range: 0.01988986056662323\n",
      "Aggregate score: [0.0944343  0.09194965 0.091673   0.09510955]\n",
      "Aggregate shape: (1503424, 55) \n",
      "\n",
      "CSR Columns: 16500 18000\n",
      "Score for feature range: 0.023605609638130964\n",
      "Aggregate score: [0.09833306 0.09581878 0.09555337 0.09887701]\n",
      "Aggregate shape: (1503424, 60) \n",
      "\n",
      "CSR Columns: 18000 19500\n",
      "Score for feature range: 0.02422720679248136\n",
      "Aggregate score: [0.10215511 0.09936239 0.09936948 0.10251467]\n",
      "Aggregate shape: (1503424, 65) \n",
      "\n",
      "CSR Columns: 19500 21000\n",
      "Score for feature range: 0.01931210605605793\n",
      "Aggregate score: [0.10435711 0.10171952 0.10174268 0.10467533]\n",
      "Aggregate shape: (1503424, 70) \n",
      "\n",
      "CSR Columns: 21000 22500\n",
      "Score for feature range: 0.02034960155626553\n",
      "Aggregate score: [0.10655939 0.10409284 0.10411064 0.10686227]\n",
      "Aggregate shape: (1503424, 75) \n",
      "\n",
      "CSR Columns: 22500 24000\n",
      "Score for feature range: 0.02131957088958858\n",
      "Aggregate score: [0.10941759 0.10668278 0.10671065 0.10964011]\n",
      "Aggregate shape: (1503424, 80) \n",
      "\n",
      "CSR Columns: 24000 25500\n",
      "Score for feature range: 0.027300337974203726\n",
      "Aggregate score: [0.11254733 0.10973909 0.11029675 0.11269706]\n",
      "Aggregate shape: (1503424, 85) \n",
      "\n",
      "CSR Columns: 25500 27000\n",
      "Score for feature range: 0.02004231783265009\n",
      "Aggregate score: [0.11399476 0.11148716 0.11207161 0.11466395]\n",
      "Aggregate shape: (1503424, 90) \n",
      "\n",
      "CSR Columns: 27000 28500\n",
      "Score for feature range: 0.025967690946195554\n",
      "Aggregate score: [0.11651056 0.11343934 0.11469638 0.11711672]\n",
      "Aggregate shape: (1503424, 95) \n",
      "\n",
      "CSR Columns: 28500 30000\n",
      "Score for feature range: 0.02170038416717368\n",
      "Aggregate score: [0.11826159 0.11545476 0.11708003 0.11907039]\n",
      "Aggregate shape: (1503424, 100) \n",
      "\n",
      "CSR Columns: 30000 30982\n",
      "Score for feature range: 0.0121687630663595\n",
      "Aggregate score: [0.1190023  0.11603164 0.11756603 0.11979447]\n",
      "Aggregate shape: (1503424, 105) \n",
      "\n",
      "Minutes: 20.202527272701264\n"
     ]
    }
   ],
   "source": [
    "# Reduce all CSR values in batches\n",
    "t = time.time()\n",
    "reduced = pd.DataFrame(index=train.index)\n",
    "low_col = 0\n",
    "# Start iteration with columns\n",
    "for col in np.arange(0,int(counts.shape[1]*1.05),1500):\n",
    "    # Limiting the edge case of the last values\n",
    "    if col > counts.shape[1]:\n",
    "        col = counts.shape[1]\n",
    "    up_col = col\n",
    "    \n",
    "    if up_col > low_col:\n",
    "        # Train PLSR on a large sample of those columns from CSR\n",
    "        print('CSR Columns:',low_col,up_col)\n",
    "        index = np.random.choice(len(train),size=int(4e5))\n",
    "        sample = counts[index,low_col:up_col].toarray()\n",
    "        reduce = cross_decomposition.PLSRegression(n_components=5)\n",
    "        reduce.fit(sample,train.iloc[index].deal_probability)\n",
    "        print('Score for feature range:',reduce.score(sample,train.iloc[index].deal_probability))\n",
    "        \n",
    "        # Nested indexes iteration\n",
    "        components = pd.DataFrame()\n",
    "        low_idx = 0\n",
    "        for idx in np.arange(0,int(len(train)*1.1),int(3.1e5)):\n",
    "            # Limiting the edge case of the last values\n",
    "            if idx > len(train):\n",
    "                idx = len(train)\n",
    "            up_idx = idx\n",
    "\n",
    "            if up_idx > low_idx:\n",
    "                #print('Indexes:',low_idx,up_idx,'Columns:',low_col,up_col)\n",
    "                sample = counts[low_idx:up_idx,low_col:up_col].toarray()\n",
    "                #print('Sample shape:',sample.shape)\n",
    "                sample = reduce.transform(sample)\n",
    "                components = components.append(pd.DataFrame(sample))\n",
    "                low_idx = idx\n",
    "        components.reset_index(drop=True,inplace=True)\n",
    "        components.columns = ['col_{}-{}_{}'.format(low_col,up_col,i) for i in range(0,5)]\n",
    "        reduced = reduced.join(components)\n",
    "        print('Aggregate score:',model_selection.cross_val_score(\n",
    "            cv=4,estimator=linear_model.LinearRegression(),\n",
    "            X=reduced,y=train.deal_probability))\n",
    "        print('Aggregate shape:',reduced.shape,'\\n')\n",
    "        low_col = col\n",
    "print('Minutes:',(time.time()-t)/60)"
   ]
  },
  {
   "cell_type": "markdown",
   "metadata": {},
   "source": [
    "**Observations**\n",
    "\n",
    "- Column ranges have smaller scores than unigrams but this is due to the smaller feature range. Here 1500 columns are being processed each time, therefore there's naturally gonna be less information gain at each repetition."
   ]
  },
  {
   "cell_type": "code",
   "execution_count": 7,
   "metadata": {},
   "outputs": [
    {
     "data": {
      "text/plain": [
       "(1503424, 105)"
      ]
     },
     "execution_count": 7,
     "metadata": {},
     "output_type": "execute_result"
    }
   ],
   "source": [
    "reduced.shape"
   ]
  },
  {
   "cell_type": "markdown",
   "metadata": {},
   "source": [
    "reduced.to_pickle('train_nlp_features6.pkl',compression='zip')"
   ]
  },
  {
   "cell_type": "code",
   "execution_count": 9,
   "metadata": {},
   "outputs": [
    {
     "name": "stdout",
     "output_type": "stream",
     "text": [
      "Aggregate score: [0.1190023  0.11603164 0.11756603 0.11979447]\n"
     ]
    }
   ],
   "source": [
    "print('Aggregate score:',model_selection.cross_val_score(\n",
    "            cv=4,estimator=linear_model.LinearRegression(),\n",
    "            X=reduced,y=train.deal_probability))"
   ]
  },
  {
   "cell_type": "markdown",
   "metadata": {},
   "source": [
    "## Second Round of Decomposition"
   ]
  },
  {
   "cell_type": "code",
   "execution_count": 10,
   "metadata": {},
   "outputs": [
    {
     "name": "stdout",
     "output_type": "stream",
     "text": [
      "0.11813480096095685\n"
     ]
    }
   ],
   "source": [
    "reduce = cross_decomposition.PLSRegression(n_components=10)\n",
    "reduce.fit(reduced,train.deal_probability)\n",
    "print(reduce.score(reduced,train.deal_probability))"
   ]
  },
  {
   "cell_type": "code",
   "execution_count": 11,
   "metadata": {},
   "outputs": [],
   "source": [
    "reduced2 = reduce.transform(reduced)"
   ]
  },
  {
   "cell_type": "code",
   "execution_count": 12,
   "metadata": {},
   "outputs": [
    {
     "name": "stdout",
     "output_type": "stream",
     "text": [
      "Aggregate score: [0.11903045 0.11604749 0.11761321 0.11980382]\n"
     ]
    }
   ],
   "source": [
    "print('Aggregate score:',model_selection.cross_val_score(\n",
    "            cv=4,estimator=linear_model.LinearRegression(),\n",
    "            X=reduced2,y=train.deal_probability))"
   ]
  },
  {
   "cell_type": "code",
   "execution_count": 13,
   "metadata": {},
   "outputs": [
    {
     "data": {
      "image/png": "[encoded data removed]",
      "text/plain": [
       "<Figure size 864x576 with 2 Axes>"
      ]
     },
     "metadata": {
      "needs_background": "light"
     },
     "output_type": "display_data"
    }
   ],
   "source": [
    "plt.figure(figsize=(12,8))\n",
    "sns.heatmap(pd.DataFrame(reduced2).corr())\n",
    "plt.show()"
   ]
  },
  {
   "cell_type": "code",
   "execution_count": 14,
   "metadata": {},
   "outputs": [],
   "source": [
    "reduced2 = pd.DataFrame(reduced2,columns=['desc_bigr_{}'.format(i) for i in range(0,10)])"
   ]
  },
  {
   "cell_type": "markdown",
   "metadata": {},
   "source": [
    "reduced2.to_pickle('train_nlp_features6.pkl',compression='zip')"
   ]
  },
  {
   "cell_type": "markdown",
   "metadata": {},
   "source": [
    "# Score Increase. Description Uni + BiGrams"
   ]
  },
  {
   "cell_type": "code",
   "execution_count": 20,
   "metadata": {},
   "outputs": [],
   "source": [
    "desc_uni = pd.read_pickle('train_nlp_features5.pkl',compression='zip')"
   ]
  },
  {
   "cell_type": "code",
   "execution_count": 21,
   "metadata": {},
   "outputs": [
    {
     "data": {
      "text/html": [
       "<div>\n",
       "<style scoped>\n",
       "    .dataframe tbody tr th:only-of-type {\n",
       "        vertical-align: middle;\n",
       "    }\n",
       "\n",
       "    .dataframe tbody tr th {\n",
       "        vertical-align: top;\n",
       "    }\n",
       "\n",
       "    .dataframe thead th {\n",
       "        text-align: right;\n",
       "    }\n",
       "</style>\n",
       "<table border=\"1\" class=\"dataframe\">\n",
       "  <thead>\n",
       "    <tr style=\"text-align: right;\">\n",
       "      <th></th>\n",
       "      <th>desc_0</th>\n",
       "      <th>desc_1</th>\n",
       "      <th>desc_2</th>\n",
       "      <th>desc_3</th>\n",
       "      <th>desc_4</th>\n",
       "      <th>desc_5</th>\n",
       "      <th>desc_6</th>\n",
       "      <th>desc_7</th>\n",
       "      <th>desc_8</th>\n",
       "      <th>desc_9</th>\n",
       "    </tr>\n",
       "  </thead>\n",
       "  <tbody>\n",
       "    <tr>\n",
       "      <th>0</th>\n",
       "      <td>0.803608</td>\n",
       "      <td>-0.765739</td>\n",
       "      <td>-1.125599</td>\n",
       "      <td>0.656757</td>\n",
       "      <td>0.599217</td>\n",
       "      <td>-0.535874</td>\n",
       "      <td>0.261092</td>\n",
       "      <td>0.993849</td>\n",
       "      <td>0.488599</td>\n",
       "      <td>0.515208</td>\n",
       "    </tr>\n",
       "    <tr>\n",
       "      <th>1</th>\n",
       "      <td>-0.026928</td>\n",
       "      <td>-0.170994</td>\n",
       "      <td>0.125098</td>\n",
       "      <td>-0.735124</td>\n",
       "      <td>-0.248549</td>\n",
       "      <td>0.133063</td>\n",
       "      <td>0.042584</td>\n",
       "      <td>0.241774</td>\n",
       "      <td>-0.183617</td>\n",
       "      <td>0.318740</td>\n",
       "    </tr>\n",
       "    <tr>\n",
       "      <th>2</th>\n",
       "      <td>1.377258</td>\n",
       "      <td>0.035831</td>\n",
       "      <td>0.515434</td>\n",
       "      <td>-0.367112</td>\n",
       "      <td>0.265219</td>\n",
       "      <td>-0.378904</td>\n",
       "      <td>0.561319</td>\n",
       "      <td>-0.706378</td>\n",
       "      <td>-0.277264</td>\n",
       "      <td>0.319333</td>\n",
       "    </tr>\n",
       "    <tr>\n",
       "      <th>3</th>\n",
       "      <td>1.136455</td>\n",
       "      <td>-1.184800</td>\n",
       "      <td>-0.541495</td>\n",
       "      <td>-0.399763</td>\n",
       "      <td>-0.819299</td>\n",
       "      <td>1.051614</td>\n",
       "      <td>-0.313363</td>\n",
       "      <td>-0.182303</td>\n",
       "      <td>-0.530405</td>\n",
       "      <td>0.193798</td>\n",
       "    </tr>\n",
       "    <tr>\n",
       "      <th>4</th>\n",
       "      <td>1.418042</td>\n",
       "      <td>-1.448267</td>\n",
       "      <td>-0.884204</td>\n",
       "      <td>-0.203697</td>\n",
       "      <td>0.312748</td>\n",
       "      <td>0.038419</td>\n",
       "      <td>-0.134810</td>\n",
       "      <td>0.342483</td>\n",
       "      <td>-0.501805</td>\n",
       "      <td>0.613536</td>\n",
       "    </tr>\n",
       "  </tbody>\n",
       "</table>\n",
       "</div>"
      ],
      "text/plain": [
       "     desc_0    desc_1    desc_2    desc_3    desc_4    desc_5    desc_6  \\\n",
       "0  0.803608 -0.765739 -1.125599  0.656757  0.599217 -0.535874  0.261092   \n",
       "1 -0.026928 -0.170994  0.125098 -0.735124 -0.248549  0.133063  0.042584   \n",
       "2  1.377258  0.035831  0.515434 -0.367112  0.265219 -0.378904  0.561319   \n",
       "3  1.136455 -1.184800 -0.541495 -0.399763 -0.819299  1.051614 -0.313363   \n",
       "4  1.418042 -1.448267 -0.884204 -0.203697  0.312748  0.038419 -0.134810   \n",
       "\n",
       "     desc_7    desc_8    desc_9  \n",
       "0  0.993849  0.488599  0.515208  \n",
       "1  0.241774 -0.183617  0.318740  \n",
       "2 -0.706378 -0.277264  0.319333  \n",
       "3 -0.182303 -0.530405  0.193798  \n",
       "4  0.342483 -0.501805  0.613536  "
      ]
     },
     "execution_count": 21,
     "metadata": {},
     "output_type": "execute_result"
    }
   ],
   "source": [
    "desc_uni.head()"
   ]
  },
  {
   "cell_type": "markdown",
   "metadata": {},
   "source": [
    "- Scores with UniGrams."
   ]
  },
  {
   "cell_type": "code",
   "execution_count": 22,
   "metadata": {
    "scrolled": true
   },
   "outputs": [
    {
     "name": "stdout",
     "output_type": "stream",
     "text": [
      "Aggregate score: [0.16149489 0.1572853  0.16064484 0.16115773]\n"
     ]
    }
   ],
   "source": [
    "print('Aggregate score:',model_selection.cross_val_score(\n",
    "            cv=4,estimator=linear_model.LinearRegression(),\n",
    "            X=desc_uni,y=train.deal_probability))"
   ]
  },
  {
   "cell_type": "code",
   "execution_count": 23,
   "metadata": {},
   "outputs": [],
   "source": [
    "aggregate = desc_uni.join(reduced2)"
   ]
  },
  {
   "cell_type": "markdown",
   "metadata": {},
   "source": [
    "- Score increased a tiny bit. Just as with titles."
   ]
  },
  {
   "cell_type": "code",
   "execution_count": 31,
   "metadata": {},
   "outputs": [
    {
     "name": "stdout",
     "output_type": "stream",
     "text": [
      "Aggregate score: [0.16657387 0.16232915 0.16536313 0.16643143]\n"
     ]
    }
   ],
   "source": [
    "print('Aggregate score:',model_selection.cross_val_score(\n",
    "            cv=4,estimator=linear_model.LinearRegression(),\n",
    "            X=aggregate,y=train.deal_probability))"
   ]
  },
  {
   "cell_type": "code",
   "execution_count": 32,
   "metadata": {
    "scrolled": false
   },
   "outputs": [
    {
     "data": {
      "image/png": "[encoded data removed]",
      "text/plain": [
       "<Figure size 864x576 with 2 Axes>"
      ]
     },
     "metadata": {
      "needs_background": "light"
     },
     "output_type": "display_data"
    }
   ],
   "source": [
    "plt.figure(figsize=(12,8))\n",
    "sns.heatmap(aggregate.corr())\n",
    "plt.show()"
   ]
  },
  {
   "cell_type": "code",
   "execution_count": 33,
   "metadata": {},
   "outputs": [
    {
     "name": "stdout",
     "output_type": "stream",
     "text": [
      "0.16519328123971433\n"
     ]
    }
   ],
   "source": [
    "reduce = cross_decomposition.PLSRegression(n_components=10)\n",
    "reduce.fit(aggregate,train.deal_probability)\n",
    "print(reduce.score(aggregate,train.deal_probability))"
   ]
  },
  {
   "cell_type": "code",
   "execution_count": 34,
   "metadata": {},
   "outputs": [],
   "source": [
    "reduced3 = reduce.transform(aggregate)"
   ]
  },
  {
   "cell_type": "code",
   "execution_count": 35,
   "metadata": {},
   "outputs": [
    {
     "name": "stdout",
     "output_type": "stream",
     "text": [
      "Aggregate score: [0.16658564 0.16233271 0.16536627 0.16643276]\n"
     ]
    }
   ],
   "source": [
    "print('Aggregate score:',model_selection.cross_val_score(\n",
    "            cv=4,estimator=linear_model.LinearRegression(),\n",
    "            X=reduced3,y=train.deal_probability))"
   ]
  },
  {
   "cell_type": "code",
   "execution_count": 36,
   "metadata": {
    "scrolled": false
   },
   "outputs": [
    {
     "data": {
      "image/png": "[encoded data removed]",
      "text/plain": [
       "<Figure size 864x576 with 2 Axes>"
      ]
     },
     "metadata": {
      "needs_background": "light"
     },
     "output_type": "display_data"
    }
   ],
   "source": [
    "plt.figure(figsize=(12,8))\n",
    "sns.heatmap(pd.DataFrame(reduced3).corr())\n",
    "plt.show()"
   ]
  },
  {
   "cell_type": "code",
   "execution_count": 37,
   "metadata": {},
   "outputs": [],
   "source": [
    "reduced3=pd.DataFrame(reduced3,columns=[np.arange(0,10)])"
   ]
  },
  {
   "cell_type": "markdown",
   "metadata": {
    "scrolled": true
   },
   "source": [
    "reduced3.to_pickle('train_nlp_features6.pkl',compression='zip')"
   ]
  },
  {
   "cell_type": "markdown",
   "metadata": {},
   "source": [
    "# Join Descriptions and Titles"
   ]
  },
  {
   "cell_type": "code",
   "execution_count": 39,
   "metadata": {},
   "outputs": [],
   "source": [
    "titles = pd.read_pickle('train_nlp_features4.pkl',compression='zip')"
   ]
  },
  {
   "cell_type": "code",
   "execution_count": 40,
   "metadata": {
    "scrolled": true
   },
   "outputs": [
    {
     "data": {
      "text/plain": [
       "(1503424, 10)"
      ]
     },
     "execution_count": 40,
     "metadata": {},
     "output_type": "execute_result"
    }
   ],
   "source": [
    "titles.shape"
   ]
  },
  {
   "cell_type": "code",
   "execution_count": 41,
   "metadata": {},
   "outputs": [
    {
     "data": {
      "text/html": [
       "<div>\n",
       "<style scoped>\n",
       "    .dataframe tbody tr th:only-of-type {\n",
       "        vertical-align: middle;\n",
       "    }\n",
       "\n",
       "    .dataframe tbody tr th {\n",
       "        vertical-align: top;\n",
       "    }\n",
       "\n",
       "    .dataframe thead tr th {\n",
       "        text-align: left;\n",
       "    }\n",
       "</style>\n",
       "<table border=\"1\" class=\"dataframe\">\n",
       "  <thead>\n",
       "    <tr>\n",
       "      <th></th>\n",
       "      <th>0</th>\n",
       "      <th>1</th>\n",
       "      <th>2</th>\n",
       "      <th>3</th>\n",
       "      <th>4</th>\n",
       "      <th>5</th>\n",
       "      <th>6</th>\n",
       "      <th>7</th>\n",
       "      <th>8</th>\n",
       "      <th>9</th>\n",
       "    </tr>\n",
       "  </thead>\n",
       "  <tbody>\n",
       "    <tr>\n",
       "      <th>0</th>\n",
       "      <td>-0.159448</td>\n",
       "      <td>-0.255352</td>\n",
       "      <td>-0.126976</td>\n",
       "      <td>0.394582</td>\n",
       "      <td>-0.063986</td>\n",
       "      <td>-0.255086</td>\n",
       "      <td>0.130898</td>\n",
       "      <td>0.074473</td>\n",
       "      <td>0.325977</td>\n",
       "      <td>-0.090577</td>\n",
       "    </tr>\n",
       "    <tr>\n",
       "      <th>1</th>\n",
       "      <td>0.099028</td>\n",
       "      <td>-0.595640</td>\n",
       "      <td>-0.084234</td>\n",
       "      <td>0.336999</td>\n",
       "      <td>-0.014556</td>\n",
       "      <td>-1.358559</td>\n",
       "      <td>-2.281465</td>\n",
       "      <td>-1.214065</td>\n",
       "      <td>-0.064009</td>\n",
       "      <td>0.405696</td>\n",
       "    </tr>\n",
       "    <tr>\n",
       "      <th>2</th>\n",
       "      <td>0.189699</td>\n",
       "      <td>0.076915</td>\n",
       "      <td>0.378001</td>\n",
       "      <td>-0.114864</td>\n",
       "      <td>0.548617</td>\n",
       "      <td>-0.553513</td>\n",
       "      <td>0.485916</td>\n",
       "      <td>0.097064</td>\n",
       "      <td>-0.979922</td>\n",
       "      <td>0.430544</td>\n",
       "    </tr>\n",
       "    <tr>\n",
       "      <th>3</th>\n",
       "      <td>1.322911</td>\n",
       "      <td>-2.843348</td>\n",
       "      <td>0.655267</td>\n",
       "      <td>0.664207</td>\n",
       "      <td>-0.445542</td>\n",
       "      <td>0.518189</td>\n",
       "      <td>1.753436</td>\n",
       "      <td>0.173407</td>\n",
       "      <td>-1.754595</td>\n",
       "      <td>0.041796</td>\n",
       "    </tr>\n",
       "    <tr>\n",
       "      <th>4</th>\n",
       "      <td>3.074703</td>\n",
       "      <td>3.580497</td>\n",
       "      <td>2.632372</td>\n",
       "      <td>1.796359</td>\n",
       "      <td>3.733847</td>\n",
       "      <td>-1.225274</td>\n",
       "      <td>-0.397432</td>\n",
       "      <td>1.507368</td>\n",
       "      <td>3.851013</td>\n",
       "      <td>-1.635321</td>\n",
       "    </tr>\n",
       "  </tbody>\n",
       "</table>\n",
       "</div>"
      ],
      "text/plain": [
       "          0         1         2         3         4         5         6  \\\n",
       "0 -0.159448 -0.255352 -0.126976  0.394582 -0.063986 -0.255086  0.130898   \n",
       "1  0.099028 -0.595640 -0.084234  0.336999 -0.014556 -1.358559 -2.281465   \n",
       "2  0.189699  0.076915  0.378001 -0.114864  0.548617 -0.553513  0.485916   \n",
       "3  1.322911 -2.843348  0.655267  0.664207 -0.445542  0.518189  1.753436   \n",
       "4  3.074703  3.580497  2.632372  1.796359  3.733847 -1.225274 -0.397432   \n",
       "\n",
       "          7         8         9  \n",
       "0  0.074473  0.325977 -0.090577  \n",
       "1 -1.214065 -0.064009  0.405696  \n",
       "2  0.097064 -0.979922  0.430544  \n",
       "3  0.173407 -1.754595  0.041796  \n",
       "4  1.507368  3.851013 -1.635321  "
      ]
     },
     "execution_count": 41,
     "metadata": {},
     "output_type": "execute_result"
    }
   ],
   "source": [
    "titles.head()"
   ]
  },
  {
   "cell_type": "code",
   "execution_count": 42,
   "metadata": {},
   "outputs": [
    {
     "name": "stdout",
     "output_type": "stream",
     "text": [
      "[0.18038783 0.17589027 0.17964832 0.17971962]\n"
     ]
    }
   ],
   "source": [
    "print(model_selection.cross_val_score(\n",
    "            cv=4,estimator=linear_model.LinearRegression(),\n",
    "            X=titles,y=train.deal_probability))"
   ]
  },
  {
   "cell_type": "code",
   "execution_count": 44,
   "metadata": {},
   "outputs": [],
   "source": [
    "aggregate = titles.join(reduced3,rsuffix='descr')"
   ]
  },
  {
   "cell_type": "code",
   "execution_count": 45,
   "metadata": {},
   "outputs": [
    {
     "name": "stdout",
     "output_type": "stream",
     "text": [
      "Aggregate score: [0.2119465  0.2069381  0.2111175  0.21181351]\n"
     ]
    }
   ],
   "source": [
    "print('Aggregate score:',model_selection.cross_val_score(\n",
    "            cv=4,estimator=linear_model.LinearRegression(),\n",
    "            X=aggregate,y=train.deal_probability))"
   ]
  },
  {
   "cell_type": "markdown",
   "metadata": {},
   "source": [
    "- OH MY GOD these are the highest scores I've seen so far... These are titles (uni+bigrams) + descriptions (uni+bigrams)."
   ]
  },
  {
   "cell_type": "code",
   "execution_count": 46,
   "metadata": {
    "scrolled": false
   },
   "outputs": [
    {
     "data": {
      "image/png": "[encoded data removed]",
      "text/plain": [
       "<Figure size 864x576 with 2 Axes>"
      ]
     },
     "metadata": {
      "needs_background": "light"
     },
     "output_type": "display_data"
    }
   ],
   "source": [
    "plt.figure(figsize=(12,8))\n",
    "sns.heatmap(aggregate.corr())\n",
    "plt.show()"
   ]
  },
  {
   "cell_type": "code",
   "execution_count": 47,
   "metadata": {},
   "outputs": [
    {
     "name": "stdout",
     "output_type": "stream",
     "text": [
      "0.2104861172916532\n"
     ]
    }
   ],
   "source": [
    "reduce = cross_decomposition.PLSRegression(n_components=10)\n",
    "reduce.fit(aggregate,train.deal_probability)\n",
    "print(reduce.score(aggregate,train.deal_probability))"
   ]
  },
  {
   "cell_type": "code",
   "execution_count": 48,
   "metadata": {},
   "outputs": [],
   "source": [
    "reduced4 = reduce.transform(aggregate)"
   ]
  },
  {
   "cell_type": "code",
   "execution_count": 49,
   "metadata": {},
   "outputs": [
    {
     "name": "stdout",
     "output_type": "stream",
     "text": [
      "Aggregate score: [0.2119555  0.20694358 0.21112967 0.21182824]\n"
     ]
    }
   ],
   "source": [
    "print('Aggregate score:',model_selection.cross_val_score(\n",
    "            cv=4,estimator=linear_model.LinearRegression(),\n",
    "            X=reduced4,y=train.deal_probability))"
   ]
  },
  {
   "cell_type": "code",
   "execution_count": 50,
   "metadata": {
    "scrolled": false
   },
   "outputs": [
    {
     "data": {
      "image/png": "[encoded data removed]",
      "text/plain": [
       "<Figure size 864x576 with 2 Axes>"
      ]
     },
     "metadata": {
      "needs_background": "light"
     },
     "output_type": "display_data"
    }
   ],
   "source": [
    "plt.figure(figsize=(12,8))\n",
    "sns.heatmap(pd.DataFrame(reduced4).corr())\n",
    "plt.show()"
   ]
  },
  {
   "cell_type": "code",
   "execution_count": 51,
   "metadata": {},
   "outputs": [],
   "source": [
    "reduced4=pd.DataFrame(reduced4,columns=['title_desc_{}'.format(i) for i in range(0,10)])"
   ]
  },
  {
   "cell_type": "markdown",
   "metadata": {
    "scrolled": true
   },
   "source": [
    "reduced4.to_pickle('train_nlp_features7.pkl',compression='zip')"
   ]
  },
  {
   "cell_type": "markdown",
   "metadata": {},
   "source": [
    "---"
   ]
  },
  {
   "cell_type": "code",
   "execution_count": 54,
   "metadata": {},
   "outputs": [
    {
     "data": {
      "text/plain": [
       "array([0.05324741, 0.05350178, 0.05332047, 0.05354871])"
      ]
     },
     "execution_count": 54,
     "metadata": {},
     "output_type": "execute_result"
    }
   ],
   "source": [
    "model_selection.cross_val_score(\n",
    "    cv=4,estimator=linear_model.LinearRegression(),\n",
    "    X=reduced4,y=train.deal_probability,\n",
    "    scoring=metrics.make_scorer(metrics.mean_squared_error)\n",
    ")"
   ]
  },
  {
   "cell_type": "markdown",
   "metadata": {},
   "source": [
    "reduced4 = pd.read_pickle('train_nlp_features7.pkl',compression='zip')"
   ]
  }
 ],
 "metadata": {
  "kernelspec": {
   "display_name": "Python 3",
   "language": "python",
   "name": "python3"
  },
  "language_info": {
   "codemirror_mode": {
    "name": "ipython",
    "version": 3
   },
   "file_extension": ".py",
   "mimetype": "text/x-python",
   "name": "python",
   "nbconvert_exporter": "python",
   "pygments_lexer": "ipython3",
   "version": "3.7.1"
  }
 },
 "nbformat": 4,
 "nbformat_minor": 2
}
