{
 "cells": [
  {
   "cell_type": "code",
   "execution_count": 2,
   "metadata": {},
   "outputs": [],
   "source": [
    "import numpy as np\n",
    "import os"
   ]
  },
  {
   "cell_type": "code",
   "execution_count": 6,
   "metadata": {},
   "outputs": [
    {
     "data": {
      "text/plain": [
       "['img35.png',\n",
       " 'img15.png',\n",
       " 'img2.png',\n",
       " 'Untitled.ipynb',\n",
       " 'img1.png',\n",
       " 'img39.png',\n",
       " 'img22.png',\n",
       " 'img23.png',\n",
       " 'img8.png',\n",
       " 'img9.png',\n",
       " 'img25.png',\n",
       " 'img10.png',\n",
       " 'img34.png',\n",
       " 'img11.png',\n",
       " 'img3.png',\n",
       " 'img33.png',\n",
       " '.ipynb_checkpoints',\n",
       " 'img30.png',\n",
       " 'img28.png',\n",
       " 'img6.png',\n",
       " 'img18.png',\n",
       " 'img27.png',\n",
       " 'img16.png',\n",
       " 'img31.png',\n",
       " 'img29.png',\n",
       " 'img37.png',\n",
       " 'img20.png',\n",
       " 'img36.png',\n",
       " 'img19.png',\n",
       " 'img24.png',\n",
       " 'img40.png',\n",
       " 'img38.png',\n",
       " 'img13.png',\n",
       " 'img21.png',\n",
       " 'img7.png',\n",
       " 'img26.png',\n",
       " 'img0.png',\n",
       " 'img12.png',\n",
       " 'img17.png',\n",
       " 'img4.png',\n",
       " 'img14.png',\n",
       " 'img32.png',\n",
       " 'img5.png']"
      ]
     },
     "execution_count": 6,
     "metadata": {},
     "output_type": "execute_result"
    }
   ],
   "source": [
    "os.listdir()"
   ]
  },
  {
   "cell_type": "code",
   "execution_count": 15,
   "metadata": {},
   "outputs": [],
   "source": [
    "pngs = []\n",
    "for i in os.listdir():\n",
    "    if i[-4:] == '.png':\n",
    "        pngs.append(i)"
   ]
  },
  {
   "cell_type": "markdown",
   "metadata": {},
   "source": [
    "### Paste this into the Repo's README.MD"
   ]
  },
  {
   "cell_type": "code",
   "execution_count": 22,
   "metadata": {},
   "outputs": [
    {
     "name": "stdout",
     "output_type": "stream",
     "text": [
      "![img0.png](reports/Presentation/slides_png/img0.png)\n",
      "![img1.png](reports/Presentation/slides_png/img1.png)\n",
      "![img2.png](reports/Presentation/slides_png/img2.png)\n",
      "![img3.png](reports/Presentation/slides_png/img3.png)\n",
      "![img4.png](reports/Presentation/slides_png/img4.png)\n",
      "![img5.png](reports/Presentation/slides_png/img5.png)\n",
      "![img6.png](reports/Presentation/slides_png/img6.png)\n",
      "![img7.png](reports/Presentation/slides_png/img7.png)\n",
      "![img8.png](reports/Presentation/slides_png/img8.png)\n",
      "![img9.png](reports/Presentation/slides_png/img9.png)\n",
      "![img10.png](reports/Presentation/slides_png/img10.png)\n",
      "![img11.png](reports/Presentation/slides_png/img11.png)\n",
      "![img12.png](reports/Presentation/slides_png/img12.png)\n",
      "![img13.png](reports/Presentation/slides_png/img13.png)\n",
      "![img14.png](reports/Presentation/slides_png/img14.png)\n",
      "![img15.png](reports/Presentation/slides_png/img15.png)\n",
      "![img16.png](reports/Presentation/slides_png/img16.png)\n",
      "![img17.png](reports/Presentation/slides_png/img17.png)\n",
      "![img18.png](reports/Presentation/slides_png/img18.png)\n",
      "![img19.png](reports/Presentation/slides_png/img19.png)\n",
      "![img20.png](reports/Presentation/slides_png/img20.png)\n",
      "![img21.png](reports/Presentation/slides_png/img21.png)\n",
      "![img22.png](reports/Presentation/slides_png/img22.png)\n",
      "![img23.png](reports/Presentation/slides_png/img23.png)\n",
      "![img24.png](reports/Presentation/slides_png/img24.png)\n",
      "![img25.png](reports/Presentation/slides_png/img25.png)\n",
      "![img26.png](reports/Presentation/slides_png/img26.png)\n",
      "![img27.png](reports/Presentation/slides_png/img27.png)\n",
      "![img28.png](reports/Presentation/slides_png/img28.png)\n",
      "![img29.png](reports/Presentation/slides_png/img29.png)\n",
      "![img30.png](reports/Presentation/slides_png/img30.png)\n",
      "![img31.png](reports/Presentation/slides_png/img31.png)\n",
      "![img32.png](reports/Presentation/slides_png/img32.png)\n",
      "![img33.png](reports/Presentation/slides_png/img33.png)\n",
      "![img34.png](reports/Presentation/slides_png/img34.png)\n",
      "![img35.png](reports/Presentation/slides_png/img35.png)\n",
      "![img36.png](reports/Presentation/slides_png/img36.png)\n",
      "![img37.png](reports/Presentation/slides_png/img37.png)\n",
      "![img38.png](reports/Presentation/slides_png/img38.png)\n",
      "![img39.png](reports/Presentation/slides_png/img39.png)\n",
      "![img40.png](reports/Presentation/slides_png/img40.png)\n"
     ]
    }
   ],
   "source": [
    "for i in np.arange(41):\n",
    "    print('![img{}.png](reports/Presentation/slides_png/img{}.png)'.format(i,i))"
   ]
  }
 ],
 "metadata": {
  "kernelspec": {
   "display_name": "Python 3",
   "language": "python",
   "name": "python3"
  },
  "language_info": {
   "codemirror_mode": {
    "name": "ipython",
    "version": 3
   },
   "file_extension": ".py",
   "mimetype": "text/x-python",
   "name": "python",
   "nbconvert_exporter": "python",
   "pygments_lexer": "ipython3",
   "version": "3.7.1"
  }
 },
 "nbformat": 4,
 "nbformat_minor": 2
}
