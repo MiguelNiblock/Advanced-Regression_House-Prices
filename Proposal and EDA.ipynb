{
 "cells": [
  {
   "cell_type": "markdown",
   "metadata": {},
   "source": [
    "# Deep Learning- Predict Product Demand\n",
    "---\n",
    "\n",
    "## 1. Problem\n",
    "\n",
    "When selling used goods online, a combination of tiny, nuanced details in a product description can make a big difference in drumming up interest.\n",
    "Details like:\n",
    "\n",
    "![image](image.png)\n",
    "\n",
    "And, even with an optimized product listing, demand for a product may simply not exist–frustrating sellers who may have over-invested in marketing.\n",
    "\n",
    "Websites for classified advertisements such as Craigslist are deeply familiar with this problem. Sellers may not make the most out of their listings. When a listing has little demand, it may be due to listing deficiencies (bad images, or bad description) or to the product itself (item not historically in demand). On the other hand, a listing with high demand might be underpriced, meaning less profit for the seller.\n",
    "\n",
    "## 2. Solution\n",
    "\n",
    "I propose a neural network model that predicts demand for an online advertisement based on its full description (title, description, images, etc.), its context (geographically where it was posted, similar ads already posted) and historical demand for similar ads in similar contexts. This model would inform sellers on how to best optimize their listing and provide some indication of how much interest they should realistically expect to receive.\n",
    "\n",
    "## 3. Use Case\n",
    "\n",
    "This prediction can be used to inform sellers on how to best optimize their listing and provide some indication of how much interest they should realistically expect to receive. Some online retailers already have implementations of similar models to make suggestions that help sellers. \n",
    "\n",
    "Ebay is a notable example of a similar implementation, which gives the seller an \"Average Price Range\". However, Ebay's implementation only relies on the product title, and only works for common items with plenty of demand such as iPhones and other popular products. The model proposed here would take into account the quality of the images uploaded and the quality of the product description in addition to the context and historical demand for similar products in the platform.\n",
    "\n",
    ">*An implementation like this is equal to Craigslist on steroids.*\n",
    "\n",
    "## Data\n",
    "\n",
    "Avito, Russia’s largest classified advertisements website"
   ]
  }
 ],
 "metadata": {
  "kernelspec": {
   "display_name": "Python 3",
   "language": "python",
   "name": "python3"
  },
  "language_info": {
   "codemirror_mode": {
    "name": "ipython",
    "version": 3
   },
   "file_extension": ".py",
   "mimetype": "text/x-python",
   "name": "python",
   "nbconvert_exporter": "python",
   "pygments_lexer": "ipython3",
   "version": "3.7.1"
  }
 },
 "nbformat": 4,
 "nbformat_minor": 2
}
