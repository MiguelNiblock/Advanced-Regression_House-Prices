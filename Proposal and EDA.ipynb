{
 "cells": [
  {
   "cell_type": "markdown",
   "metadata": {},
   "source": [
    "# Deep Learning to Predict Product Demand\n",
    "\n",
    "## Problem\n",
    "\n",
    "When selling used goods online, a combination of tiny, nuanced details in a product description can make a big difference in drumming up interest.\n",
    "Details like:\n",
    "\n",
    "![image](image.png)\n",
    "\n",
    "And, even with an optimized product listing, demand for a product may simply not exist–frustrating sellers who may have over-invested in marketing.\n",
    "\n",
    "Avito, Russia’s largest classified advertisements website, is deeply familiar with this problem. Sellers on their platform sometimes feel frustrated with both too little demand (indicating something is wrong with the product or the product listing) or too much demand (indicating a hot item with a good description was underpriced).\n",
    "\n",
    "## Solution\n",
    "\n",
    "I propose a neural network that predicts demand for an online advertisement based on its full description (title, description, images, etc.), its context (geographically where it was posted, similar ads already posted) and historical demand for similar ads in similar contexts. \n",
    "The usefulness of this prediction can be used to inform sellers on how to best optimize their listing and provide some indication of how much interest they should realistically expect to receive."
   ]
  }
 ],
 "metadata": {
  "kernelspec": {
   "display_name": "Python 3",
   "language": "python",
   "name": "python3"
  },
  "language_info": {
   "codemirror_mode": {
    "name": "ipython",
    "version": 3
   },
   "file_extension": ".py",
   "mimetype": "text/x-python",
   "name": "python",
   "nbconvert_exporter": "python",
   "pygments_lexer": "ipython3",
   "version": "3.7.1"
  }
 },
 "nbformat": 4,
 "nbformat_minor": 2
}
