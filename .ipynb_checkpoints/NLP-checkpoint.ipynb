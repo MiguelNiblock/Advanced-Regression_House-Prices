{
 "cells": [
  {
   "cell_type": "code",
   "execution_count": 1,
   "metadata": {},
   "outputs": [],
   "source": [
    "import pandas as pd\n",
    "import matplotlib.pyplot as plt\n",
    "import seaborn as sns\n",
    "import numpy as np\n",
    "\n",
    "import cyrtranslit\n",
    "from sklearn import preprocessing, model_selection, metrics, feature_selection, ensemble, linear_model, cross_decomposition, feature_extraction, decomposition\n",
    "from sklearn.pipeline import Pipeline\n",
    "import lightgbm as lgb\n",
    "color = sns.color_palette()\n",
    "%matplotlib inline"
   ]
  },
  {
   "cell_type": "code",
   "execution_count": 2,
   "metadata": {},
   "outputs": [],
   "source": [
    "train = pd.read_pickle('train.pkl',compression='zip')\n",
    "\n",
    "test = pd.read_pickle('test.pkl',compression='zip')"
   ]
  },
  {
   "cell_type": "markdown",
   "metadata": {},
   "source": [
    "# Vectorize Titles"
   ]
  },
  {
   "cell_type": "markdown",
   "metadata": {},
   "source": [
    "\n",
    "- Since these are cyrilic, russian words, english `stopwords` wouldn't help.\n",
    "- `max_df` was set as low as 0.2 and still no words were being filtered. I decided to not use it.\n",
    "- Instead of using `max_features` I decided to lower the `min_df` until I got the largest number of token features I could load onto memory, converted from CSR to array in order to do PLSR, with at least 100,000 random samples to retain accuracy.\n",
    "- I settled for ~8000 tokens for this step."
   ]
  },
  {
   "cell_type": "code",
   "execution_count": 3,
   "metadata": {},
   "outputs": [
    {
     "name": "stdout",
     "output_type": "stream",
     "text": [
      "8572\n"
     ]
    }
   ],
   "source": [
    "vec = feature_extraction.text.TfidfVectorizer(\n",
    "    lowercase=True,\n",
    "    min_df=0.00003\n",
    ")\n",
    "# Fitting on train and test as merged lists\n",
    "vec.fit(train['title'].values.tolist() + test['title'].values.tolist())\n",
    "print(len(vec.get_feature_names()))"
   ]
  },
  {
   "cell_type": "code",
   "execution_count": 4,
   "metadata": {},
   "outputs": [],
   "source": [
    "# Word counts for train titles. CSR Matrix, tokens ordered alphabetically\n",
    "counts = vec.transform(train['title'].values.tolist())"
   ]
  },
  {
   "cell_type": "markdown",
   "metadata": {},
   "source": [
    "### PLSR Reduction on CSR\n",
    "- PLSR doesn't handle sparse row inputs, therefore we need an array or DataFrame.\n",
    "- 8000+ columns can't load to an array with 1.5Million+ rows, so I undersample to ~100,000.\n",
    "- The effects of less data on accuracy were not evident by this amount of undersampling because 100K observation is still a lot of data."
   ]
  },
  {
   "cell_type": "code",
   "execution_count": 5,
   "metadata": {},
   "outputs": [],
   "source": [
    "index = np.random.choice(len(train),size=int(1e5))\n",
    "\n",
    "# (FIRST) Select those indices from the Sparse matrix and then turn into an array.\n",
    "sample = counts[index].toarray()"
   ]
  },
  {
   "cell_type": "markdown",
   "metadata": {},
   "source": [
    "### Undersampled Feature Reduction\n",
    "- Another advantage of undersampling is at this step PLSR can take a long time with a million observations."
   ]
  },
  {
   "cell_type": "code",
   "execution_count": 6,
   "metadata": {},
   "outputs": [
    {
     "data": {
      "text/plain": [
       "0.2660263072405097"
      ]
     },
     "execution_count": 6,
     "metadata": {},
     "output_type": "execute_result"
    }
   ],
   "source": [
    "# More components didn't offer a significant gain \n",
    "reduce = cross_decomposition.PLSRegression(n_components=10)\n",
    "\n",
    "# Fit undersampled array against the same indices for the target.\n",
    "reduce.fit(sample,train.iloc[index].deal_probability)\n",
    "\n",
    "# PLSR score reducing random sample of 8000~ features to 10 components.\n",
    "reduce.score(sample,train.iloc[index].deal_probability)"
   ]
  },
  {
   "cell_type": "code",
   "execution_count": 7,
   "metadata": {},
   "outputs": [
    {
     "data": {
      "text/plain": [
       "0.04978562913952585"
      ]
     },
     "execution_count": 7,
     "metadata": {},
     "output_type": "execute_result"
    }
   ],
   "source": [
    "y_pred = reduce.predict(sample)\n",
    "\n",
    "metrics.mean_squared_error(train.iloc[index].deal_probability,y_pred)"
   ]
  },
  {
   "cell_type": "markdown",
   "metadata": {},
   "source": [
    "rmse = metrics.make_scorer(metrics.mean_squared_error)\n",
    "linear = linear_model.LinearRegression()\n",
    "model_selection.cross_val_score(\n",
    "    scoring=rmse,\n",
    "    cv=5,\n",
    "    X=sample,\n",
    "    y=train.iloc[index].deal_probability,\n",
    "    estimator=linear\n",
    ")"
   ]
  },
  {
   "cell_type": "markdown",
   "metadata": {},
   "source": [
    "- After multiple iterations of N Vectors, amount of undersampling, and N of components, this was the highest score."
   ]
  },
  {
   "cell_type": "markdown",
   "metadata": {},
   "source": [
    "### Iterative Reduction on Full CSR Matrix\n",
    "- Now that we have the best configuration, let's transform all the train data into those 5 components.\n",
    "- We still can't load all of it as an array. Let's process this in parts, then append them."
   ]
  },
  {
   "cell_type": "code",
   "execution_count": 8,
   "metadata": {},
   "outputs": [],
   "source": [
    "# Reduce all CSR values in batches\n",
    "reduced = pd.DataFrame()\n",
    "lower = 0\n",
    "for i,idx in enumerate(np.arange(0,int(len(train)*1.1),int(1.1e5))):\n",
    "    if idx > len(train):\n",
    "        idx = len(train)\n",
    "    upper = idx\n",
    "    if upper > lower:\n",
    "        #print(lower,upper)\n",
    "        sample = counts[lower:upper].toarray()\n",
    "        sample = reduce.transform(sample)\n",
    "        reduced = reduced.append(pd.DataFrame(sample))\n",
    "        lower = idx\n",
    "    else:\n",
    "        lower = idx"
   ]
  },
  {
   "cell_type": "code",
   "execution_count": 9,
   "metadata": {},
   "outputs": [
    {
     "data": {
      "text/plain": [
       "(1503424, 10)"
      ]
     },
     "execution_count": 9,
     "metadata": {},
     "output_type": "execute_result"
    }
   ],
   "source": [
    "reduced.shape"
   ]
  },
  {
   "cell_type": "code",
   "execution_count": 10,
   "metadata": {},
   "outputs": [],
   "source": [
    "reduced.reset_index(drop=True,inplace=True)\n",
    "\n",
    "columns = ['title_tfidf_{}'.format(i) for i in range(1,11)]\n",
    "\n",
    "reduced.columns = columns"
   ]
  },
  {
   "cell_type": "code",
   "execution_count": 11,
   "metadata": {},
   "outputs": [],
   "source": [
    "reduced.to_pickle('train_nlp_features.pkl',compression='zip')"
   ]
  },
  {
   "cell_type": "markdown",
   "metadata": {},
   "source": [
    "- Now we can fit and predict without undersampling."
   ]
  },
  {
   "cell_type": "code",
   "execution_count": 12,
   "metadata": {},
   "outputs": [
    {
     "data": {
      "text/plain": [
       "0.14222099029855517"
      ]
     },
     "execution_count": 12,
     "metadata": {},
     "output_type": "execute_result"
    }
   ],
   "source": [
    "linear = linear_model.LinearRegression()\n",
    "linear.fit(reduced,train.deal_probability)\n",
    "linear.score(reduced,train.deal_probability)"
   ]
  },
  {
   "cell_type": "markdown",
   "metadata": {},
   "source": [
    "### Compare with SVD"
   ]
  },
  {
   "cell_type": "markdown",
   "metadata": {},
   "source": [
    "- Another common way to reduce dimensionality in the CSR matrix is Single Value Decomposition. Let's compare it here against PLSR."
   ]
  },
  {
   "cell_type": "code",
   "execution_count": 13,
   "metadata": {},
   "outputs": [
    {
     "data": {
      "text/plain": [
       "0.4099470446277815"
      ]
     },
     "execution_count": 13,
     "metadata": {},
     "output_type": "execute_result"
    }
   ],
   "source": [
    "svd = decomposition.TruncatedSVD(n_components=200)\n",
    "\n",
    "reduced_svd = svd.fit_transform(counts)\n",
    "\n",
    "svd.explained_variance_ratio_.sum()"
   ]
  },
  {
   "cell_type": "markdown",
   "metadata": {},
   "source": [
    "- At 50 components, only 0.23% variance was retained. At 200, 40% variance.\n",
    "- The problem with unsupervised decomposition is that all this retained variance might not be what we truly need for predictive purposes."
   ]
  },
  {
   "cell_type": "code",
   "execution_count": 14,
   "metadata": {},
   "outputs": [
    {
     "data": {
      "text/plain": [
       "0.09430273302294012"
      ]
     },
     "execution_count": 14,
     "metadata": {},
     "output_type": "execute_result"
    }
   ],
   "source": [
    "linear.fit(reduced_svd,train.deal_probability)\n",
    "linear.score(reduced_svd,train.deal_probability)"
   ]
  },
  {
   "cell_type": "markdown",
   "metadata": {},
   "source": [
    "- Its abundantly clear we can get more predictive power from PLSR due to the fact that it reduces based on the target variable. SVD reduces based on internal variance, not based on any outcome variable.\n",
    "- With 200 components, SVD's top scores were 0.09. At 50 components, SVD's top scores were around 0.05. At 15 components, they were around 0.02. At 5 components, (Same as plsr) they were 0.008."
   ]
  },
  {
   "cell_type": "markdown",
   "metadata": {},
   "source": [
    "## Repeat PLSR on Test Data Titles\n",
    "- Now let's make the same features for test."
   ]
  },
  {
   "cell_type": "code",
   "execution_count": 13,
   "metadata": {},
   "outputs": [],
   "source": [
    "# We only do transform, since we've fit the vectorizer on combined train/test\n",
    "counts = vec.transform(test['title'].values.tolist())"
   ]
  },
  {
   "cell_type": "code",
   "execution_count": 14,
   "metadata": {},
   "outputs": [],
   "source": [
    "# Reduce all CSR values in batches\n",
    "lower = 0\n",
    "reduced = pd.DataFrame()\n",
    "for i,idx in enumerate(np.arange(0,int(len(test)*1.1),int(1.1e5))):\n",
    "    if idx > len(test):\n",
    "        idx = len(test)\n",
    "    upper = idx\n",
    "    if upper > lower:\n",
    "        sample = counts[lower:upper].toarray()\n",
    "        sample = reduce.transform(sample)\n",
    "        reduced = reduced.append(pd.DataFrame(sample))\n",
    "        lower = idx\n",
    "    else:\n",
    "        lower = idx"
   ]
  },
  {
   "cell_type": "code",
   "execution_count": 15,
   "metadata": {},
   "outputs": [
    {
     "data": {
      "text/plain": [
       "(508438, 10)"
      ]
     },
     "execution_count": 15,
     "metadata": {},
     "output_type": "execute_result"
    }
   ],
   "source": [
    "reduced.shape"
   ]
  },
  {
   "cell_type": "code",
   "execution_count": 16,
   "metadata": {},
   "outputs": [],
   "source": [
    "reduced.reset_index(drop=True,inplace=True)\n",
    "\n",
    "columns = ['title_tfidf_{}'.format(i) for i in range(1,11)]\n",
    "\n",
    "reduced.columns = columns"
   ]
  },
  {
   "cell_type": "code",
   "execution_count": 17,
   "metadata": {},
   "outputs": [],
   "source": [
    "reduced.to_pickle('test_nlp_features.pkl',compression='zip')"
   ]
  },
  {
   "cell_type": "markdown",
   "metadata": {},
   "source": [
    "# Vectorizer on Descriptions\n",
    "\n",
    "- For descriptions, my machine couldn't do PLSR on 8,000 features with 100K observations. So I had to lower the number of features a bit.\n",
    "- Therefore I tweak vectorizer params until I get a number of features that PLSR can handle."
   ]
  },
  {
   "cell_type": "code",
   "execution_count": 18,
   "metadata": {},
   "outputs": [
    {
     "data": {
      "text/plain": [
       "4661"
      ]
     },
     "execution_count": 18,
     "metadata": {},
     "output_type": "execute_result"
    }
   ],
   "source": [
    "vec = feature_extraction.text.TfidfVectorizer(\n",
    "    lowercase=True,\n",
    "    max_df=0.2,\n",
    "    min_df=0.0006,\n",
    "    ngram_range=(1,1)\n",
    ")\n",
    "\n",
    "vec.fit(train['description'].astype(str).tolist() + test['description'].astype(str).tolist())\n",
    "# This will tell us the number of token features extracted\n",
    "len(vec.get_feature_names())"
   ]
  },
  {
   "cell_type": "code",
   "execution_count": 19,
   "metadata": {},
   "outputs": [],
   "source": [
    "counts = vec.transform(train['description'].astype(str).tolist())"
   ]
  },
  {
   "cell_type": "code",
   "execution_count": 20,
   "metadata": {},
   "outputs": [],
   "source": [
    "index = np.random.choice(len(train),size=int(1e5))\n",
    "\n",
    "# (FIRST) Select those indices from the Sparse matrix and then turn into an array.\n",
    "sample = counts[index].toarray()"
   ]
  },
  {
   "cell_type": "code",
   "execution_count": 21,
   "metadata": {},
   "outputs": [
    {
     "data": {
      "text/plain": [
       "0.19540784281714152"
      ]
     },
     "execution_count": 21,
     "metadata": {},
     "output_type": "execute_result"
    }
   ],
   "source": [
    "# More components didn't offer a significant gain \n",
    "reduce = cross_decomposition.PLSRegression(n_components=10)\n",
    "\n",
    "# Fit undersampled array against the same indices for the target.\n",
    "reduce.fit(sample,train.iloc[index].deal_probability)\n",
    "\n",
    "# PLSR score reducing random sample to N components.\n",
    "reduce.score(sample,train.iloc[index].deal_probability)"
   ]
  },
  {
   "cell_type": "markdown",
   "metadata": {},
   "source": [
    "- It looks like titles are more predictive than descriptions. 20 vs 26\n",
    "- At 5 components, score was 19. At 10 components, score was 20. At 20 components, it was still 20. Therefore I left it at 10 components."
   ]
  },
  {
   "cell_type": "code",
   "execution_count": 22,
   "metadata": {},
   "outputs": [],
   "source": [
    "# Reduce all CSR values in batches\n",
    "reduced = pd.DataFrame()\n",
    "lower = 0\n",
    "for i,idx in enumerate(np.arange(0,int(len(train)*1.1),int(1.1e5))):\n",
    "    if idx > len(train):\n",
    "        idx = len(train)\n",
    "    upper = idx\n",
    "    if upper > lower:\n",
    "        #print(lower,upper)\n",
    "        sample = counts[lower:upper].toarray()\n",
    "        sample = reduce.transform(sample)\n",
    "        reduced = reduced.append(pd.DataFrame(sample))\n",
    "        lower = idx\n",
    "    else:\n",
    "        lower = idx"
   ]
  },
  {
   "cell_type": "code",
   "execution_count": 23,
   "metadata": {},
   "outputs": [
    {
     "data": {
      "text/plain": [
       "(1503424, 10)"
      ]
     },
     "execution_count": 23,
     "metadata": {},
     "output_type": "execute_result"
    }
   ],
   "source": [
    "reduced.shape"
   ]
  },
  {
   "cell_type": "code",
   "execution_count": 24,
   "metadata": {},
   "outputs": [],
   "source": [
    "reduced.reset_index(drop=True,inplace=True)\n",
    "\n",
    "columns = ['desc_tfidf_{}'.format(i) for i in range(1,11)]\n",
    "\n",
    "reduced.columns = columns"
   ]
  },
  {
   "cell_type": "code",
   "execution_count": 25,
   "metadata": {},
   "outputs": [],
   "source": [
    "train_nlp_features = pd.read_pickle('train_nlp_features.pkl',compression='zip')"
   ]
  },
  {
   "cell_type": "code",
   "execution_count": 26,
   "metadata": {},
   "outputs": [],
   "source": [
    "train_nlp_features = train_nlp_features.join(reduced)"
   ]
  },
  {
   "cell_type": "code",
   "execution_count": 27,
   "metadata": {},
   "outputs": [],
   "source": [
    "train_nlp_features.to_pickle('train_nlp_features.pkl',compression='zip')"
   ]
  },
  {
   "cell_type": "code",
   "execution_count": 28,
   "metadata": {},
   "outputs": [
    {
     "data": {
      "text/plain": [
       "(1503424, 20)"
      ]
     },
     "execution_count": 28,
     "metadata": {},
     "output_type": "execute_result"
    }
   ],
   "source": [
    "train_nlp_features.shape"
   ]
  },
  {
   "cell_type": "code",
   "execution_count": 29,
   "metadata": {},
   "outputs": [
    {
     "data": {
      "image/png": "[encoded data removed]",
      "text/plain": [
       "<Figure size 432x288 with 2 Axes>"
      ]
     },
     "metadata": {
      "needs_background": "light"
     },
     "output_type": "display_data"
    }
   ],
   "source": [
    "correlation = train_nlp_features.corr()\n",
    "\n",
    "sns.heatmap(correlation)\n",
    "plt.show()"
   ]
  },
  {
   "cell_type": "markdown",
   "metadata": {},
   "source": [
    "- From the heatmap, both sets of features are uncorrelated with their same set. But features of either set may be correlated with features of the other set.\n",
    "\n",
    "## Description Counts on Test Data"
   ]
  },
  {
   "cell_type": "code",
   "execution_count": 30,
   "metadata": {},
   "outputs": [],
   "source": [
    "counts = vec.transform(test['description'].astype(str).tolist())"
   ]
  },
  {
   "cell_type": "code",
   "execution_count": 31,
   "metadata": {},
   "outputs": [],
   "source": [
    "# Reduce all CSR values in batches\n",
    "reduced = pd.DataFrame()\n",
    "lower = 0\n",
    "for i,idx in enumerate(np.arange(0,int(len(test)*1.1),int(1.1e5))):\n",
    "    if idx > len(test):\n",
    "        idx = len(test)\n",
    "    upper = idx\n",
    "    if upper > lower:\n",
    "        #print(lower,upper)\n",
    "        sample = counts[lower:upper].toarray()\n",
    "        sample = reduce.transform(sample)\n",
    "        reduced = reduced.append(pd.DataFrame(sample))\n",
    "        lower = idx\n",
    "    else:\n",
    "        lower = idx"
   ]
  },
  {
   "cell_type": "code",
   "execution_count": 32,
   "metadata": {},
   "outputs": [
    {
     "data": {
      "text/plain": [
       "(508438, 10)"
      ]
     },
     "execution_count": 32,
     "metadata": {},
     "output_type": "execute_result"
    }
   ],
   "source": [
    "reduced.shape"
   ]
  },
  {
   "cell_type": "code",
   "execution_count": 33,
   "metadata": {},
   "outputs": [],
   "source": [
    "reduced.reset_index(drop=True,inplace=True)\n",
    "\n",
    "columns = ['desc_tfidf_{}'.format(i) for i in range(1,11)]\n",
    "\n",
    "reduced.columns = columns"
   ]
  },
  {
   "cell_type": "code",
   "execution_count": 34,
   "metadata": {},
   "outputs": [],
   "source": [
    "test_nlp_features = pd.read_pickle('test_nlp_features.pkl',compression='zip')"
   ]
  },
  {
   "cell_type": "code",
   "execution_count": 35,
   "metadata": {},
   "outputs": [],
   "source": [
    "test_nlp_features = test_nlp_features.join(reduced)"
   ]
  },
  {
   "cell_type": "code",
   "execution_count": 36,
   "metadata": {},
   "outputs": [],
   "source": [
    "test_nlp_features.to_pickle('test_nlp_features.pkl',compression='zip')"
   ]
  },
  {
   "cell_type": "code",
   "execution_count": 37,
   "metadata": {},
   "outputs": [
    {
     "data": {
      "text/plain": [
       "(508438, 20)"
      ]
     },
     "execution_count": 37,
     "metadata": {},
     "output_type": "execute_result"
    }
   ],
   "source": [
    "test_nlp_features.shape"
   ]
  },
  {
   "cell_type": "markdown",
   "metadata": {},
   "source": [
    "## Evaluate Features"
   ]
  },
  {
   "cell_type": "code",
   "execution_count": 43,
   "metadata": {
    "scrolled": true
   },
   "outputs": [
    {
     "data": {
      "text/plain": [
       "0.17738260257337946"
      ]
     },
     "execution_count": 43,
     "metadata": {},
     "output_type": "execute_result"
    }
   ],
   "source": [
    "linear.fit(train_nlp_features,train.deal_probability)\n",
    "\n",
    "linear.score(train_nlp_features,train.deal_probability)"
   ]
  },
  {
   "cell_type": "code",
   "execution_count": 41,
   "metadata": {},
   "outputs": [
    {
     "data": {
      "text/plain": [
       "array([0.17976312, 0.17292688, 0.17871562, 0.17798652])"
      ]
     },
     "execution_count": 41,
     "metadata": {},
     "output_type": "execute_result"
    }
   ],
   "source": [
    "model_selection.cross_val_score(cv=4,\n",
    "                                estimator=linear,\n",
    "                                X=train_nlp_features,\n",
    "                                y=train.deal_probability)"
   ]
  },
  {
   "cell_type": "code",
   "execution_count": 42,
   "metadata": {},
   "outputs": [
    {
     "data": {
      "text/plain": [
       "array([0.05542262, 0.05579664, 0.05551136, 0.05584793])"
      ]
     },
     "execution_count": 42,
     "metadata": {},
     "output_type": "execute_result"
    }
   ],
   "source": [
    "rmse = metrics.make_scorer(metrics.mean_squared_error)\n",
    "model_selection.cross_val_score(cv=4,\n",
    "                                estimator=linear,\n",
    "                                X=train_nlp_features,\n",
    "                                y=train.deal_probability,\n",
    "                                scoring=rmse\n",
    "                                )"
   ]
  }
 ],
 "metadata": {
  "kernelspec": {
   "display_name": "Python 3",
   "language": "python",
   "name": "python3"
  },
  "language_info": {
   "codemirror_mode": {
    "name": "ipython",
    "version": 3
   },
   "file_extension": ".py",
   "mimetype": "text/x-python",
   "name": "python",
   "nbconvert_exporter": "python",
   "pygments_lexer": "ipython3",
   "version": "3.7.1"
  }
 },
 "nbformat": 4,
 "nbformat_minor": 2
}
