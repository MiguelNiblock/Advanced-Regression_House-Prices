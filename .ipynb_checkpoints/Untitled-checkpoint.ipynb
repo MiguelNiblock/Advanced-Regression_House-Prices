{
 "cells": [
  {
   "cell_type": "code",
   "execution_count": 1,
   "metadata": {},
   "outputs": [],
   "source": [
    "import pandas as pd"
   ]
  },
  {
   "cell_type": "code",
   "execution_count": 5,
   "metadata": {},
   "outputs": [],
   "source": [
    "embeddings = pd.read_pickle('polyglot-ru.pkl')"
   ]
  },
  {
   "cell_type": "code",
   "execution_count": 2,
   "metadata": {},
   "outputs": [],
   "source": [
    "import nltk"
   ]
  },
  {
   "cell_type": "code",
   "execution_count": 11,
   "metadata": {
    "collapsed": true
   },
   "outputs": [
    {
     "name": "stdout",
     "output_type": "stream",
     "text": [
      "['и', 'в', 'во', 'не', 'что', 'он', 'на', 'я', 'с', 'со', 'как', 'а', 'то', 'все', 'она', 'так', 'его', 'но', 'да', 'ты', 'к', 'у', 'же', 'вы', 'за', 'бы', 'по', 'только', 'ее', 'мне', 'было', 'вот', 'от', 'меня', 'еще', 'нет', 'о', 'из', 'ему', 'теперь', 'когда', 'даже', 'ну', 'вдруг', 'ли', 'если', 'уже', 'или', 'ни', 'быть', 'был', 'него', 'до', 'вас', 'нибудь', 'опять', 'уж', 'вам', 'ведь', 'там', 'потом', 'себя', 'ничего', 'ей', 'может', 'они', 'тут', 'где', 'есть', 'надо', 'ней', 'для', 'мы', 'тебя', 'их', 'чем', 'была', 'сам', 'чтоб', 'без', 'будто', 'чего', 'раз', 'тоже', 'себе', 'под', 'будет', 'ж', 'тогда', 'кто', 'этот', 'того', 'потому', 'этого', 'какой', 'совсем', 'ним', 'здесь', 'этом', 'один', 'почти', 'мой', 'тем', 'чтобы', 'нее', 'сейчас', 'были', 'куда', 'зачем', 'всех', 'никогда', 'можно', 'при', 'наконец', 'два', 'об', 'другой', 'хоть', 'после', 'над', 'больше', 'тот', 'через', 'эти', 'нас', 'про', 'всего', 'них', 'какая', 'много', 'разве', 'три', 'эту', 'моя', 'впрочем', 'хорошо', 'свою', 'этой', 'перед', 'иногда', 'лучше', 'чуть', 'том', 'нельзя', 'такой', 'им', 'более', 'всегда', 'конечно', 'всю', 'между']\n"
     ]
    }
   ],
   "source": [
    "print(stopwords.words('russian'))"
   ]
  },
  {
   "cell_type": "code",
   "execution_count": 3,
   "metadata": {},
   "outputs": [],
   "source": [
    "import polyglot"
   ]
  },
  {
   "cell_type": "code",
   "execution_count": 6,
   "metadata": {},
   "outputs": [],
   "source": [
    "from polyglot.text import Text"
   ]
  },
  {
   "cell_type": "code",
   "execution_count": 7,
   "metadata": {},
   "outputs": [],
   "source": [
    "from polyglot.downloader import downloader"
   ]
  },
  {
   "cell_type": "code",
   "execution_count": 8,
   "metadata": {},
   "outputs": [
    {
     "name": "stdout",
     "output_type": "stream",
     "text": [
      "[polyglot_data] Error downloading 'transliteration2.pl' from <http://p\n",
      "[polyglot_data]     olyglot.cs.stonybrook.edu/~polyglot/transliteratio\n",
      "[polyglot_data]     n2/pl/transliteration.pl.tar.bz2>:   HTTP Error\n",
      "[polyglot_data]     403: Forbidden\n"
     ]
    },
    {
     "data": {
      "text/plain": [
       "False"
      ]
     },
     "execution_count": 8,
     "metadata": {},
     "output_type": "execute_result"
    }
   ],
   "source": [
    "downloader.download(\"TASK:transliteration2\", quiet=True)"
   ]
  },
  {
   "cell_type": "code",
   "execution_count": 12,
   "metadata": {},
   "outputs": [
    {
     "data": {
      "text/plain": [
       "['sgns2',\n",
       " 'unipos',\n",
       " 'ner2',\n",
       " 'counts2',\n",
       " 'transliteration2',\n",
       " 'embeddings2',\n",
       " 'uniemb',\n",
       " 'sentiment2',\n",
       " 'tsne2',\n",
       " 'morph2']"
      ]
     },
     "execution_count": 12,
     "metadata": {},
     "output_type": "execute_result"
    }
   ],
   "source": [
    "downloader.supported_tasks(lang=\"ru\")"
   ]
  },
  {
   "cell_type": "code",
   "execution_count": 13,
   "metadata": {
    "collapsed": true
   },
   "outputs": [
    {
     "name": "stdout",
     "output_type": "stream",
     "text": [
      "[polyglot_data] Downloading collection 'LANG:ru'\n",
      "[polyglot_data]    | \n",
      "[polyglot_data]    | Downloading package sgns2.ru to\n",
      "[polyglot_data]    |     /home/user/polyglot_data...\n",
      "[polyglot_data]    | Downloading package unipos.ru to\n",
      "[polyglot_data]    |     /home/user/polyglot_data...\n",
      "[polyglot_data]    | Downloading package ner2.ru to\n",
      "[polyglot_data]    |     /home/user/polyglot_data...\n",
      "[polyglot_data]    | Downloading package counts2.ru to\n",
      "[polyglot_data]    |     /home/user/polyglot_data...\n",
      "[polyglot_data]    | Downloading package transliteration2.ru to\n",
      "[polyglot_data]    |     /home/user/polyglot_data...\n",
      "[polyglot_data]    | Downloading package embeddings2.ru to\n",
      "[polyglot_data]    |     /home/user/polyglot_data...\n",
      "[polyglot_data]    | Downloading package uniemb.ru to\n",
      "[polyglot_data]    |     /home/user/polyglot_data...\n",
      "[polyglot_data]    | Downloading package sentiment2.ru to\n",
      "[polyglot_data]    |     /home/user/polyglot_data...\n",
      "[polyglot_data]    | Downloading package tsne2.ru to\n",
      "[polyglot_data]    |     /home/user/polyglot_data...\n",
      "[polyglot_data]    | Downloading package morph2.ru to\n",
      "[polyglot_data]    |     /home/user/polyglot_data...\n",
      "[polyglot_data]    | \n",
      "[polyglot_data]  Done downloading collection LANG:ru\n"
     ]
    }
   ],
   "source": [
    "!polyglot download LANG:ru"
   ]
  },
  {
   "cell_type": "code",
   "execution_count": 14,
   "metadata": {},
   "outputs": [
    {
     "name": "stdout",
     "output_type": "stream",
     "text": [
      "  1. Italian                    2. French                     3. Spanish; Castilian       \n",
      "  4. Bulgarian                  5. Slovene                    6. Irish                    \n",
      "  7. Finnish                    8. Dutch                      9. Swedish                  \n",
      " 10. Danish                    11. Portuguese                12. English                  \n",
      " 13. German                    14. Indonesian                15. Czech                    \n",
      " 16. Hungarian                \n"
     ]
    }
   ],
   "source": [
    "print(downloader.supported_languages_table(\"pos2\"))"
   ]
  },
  {
   "cell_type": "code",
   "execution_count": 15,
   "metadata": {},
   "outputs": [],
   "source": [
    "from polyglot.transliteration import Transliterator"
   ]
  },
  {
   "cell_type": "code",
   "execution_count": 17,
   "metadata": {},
   "outputs": [],
   "source": [
    "from polyglot.text import Text"
   ]
  },
  {
   "cell_type": "code",
   "execution_count": 19,
   "metadata": {},
   "outputs": [],
   "source": [
    "train = pd.read_pickle('train.pkl',compression='zip')"
   ]
  },
  {
   "cell_type": "code",
   "execution_count": 32,
   "metadata": {},
   "outputs": [],
   "source": [
    "titles = train.title.values.tolist()"
   ]
  },
  {
   "cell_type": "code",
   "execution_count": 43,
   "metadata": {},
   "outputs": [
    {
     "name": "stdout",
     "output_type": "stream",
     "text": [
      "Кокоби(кокон для сна)\n",
      "Стойка для Одежды\n",
      "Philips bluray\n",
      "Автокресло\n",
      "ВАЗ 2110, 2003\n"
     ]
    }
   ],
   "source": [
    "print('\\n'.join(titles[:5]))"
   ]
  },
  {
   "cell_type": "code",
   "execution_count": 45,
   "metadata": {},
   "outputs": [],
   "source": [
    "text = Text('\\n'.join(titles[:5]))"
   ]
  },
  {
   "cell_type": "code",
   "execution_count": 58,
   "metadata": {},
   "outputs": [
    {
     "data": {
      "text/plain": [
       "WordList(['Кокоби', '(', 'кокон', 'для', 'сна', ')', 'Стойка', 'для', 'Одежды', 'Philips', 'bluray', 'Автокресло', 'ВАЗ', '2110', ',', '2003'])"
      ]
     },
     "execution_count": 58,
     "metadata": {},
     "output_type": "execute_result"
    }
   ],
   "source": [
    "text.words"
   ]
  },
  {
   "cell_type": "code",
   "execution_count": 60,
   "metadata": {},
   "outputs": [
    {
     "name": "stdout",
     "output_type": "stream",
     "text": [
      "name: Russian     code: ru       confidence:  84.0 read bytes:   455\n"
     ]
    }
   ],
   "source": [
    "print(text.language)"
   ]
  },
  {
   "cell_type": "code",
   "execution_count": 61,
   "metadata": {},
   "outputs": [
    {
     "data": {
      "text/plain": [
       "[Sentence(\"Кокоби(кокон для сна)\"),\n",
       " Sentence(\"Стойка для Одежды\"),\n",
       " Sentence(\"Philips bluray\"),\n",
       " Sentence(\"Автокресло\"),\n",
       " Sentence(\"ВАЗ 2110, 2003\")]"
      ]
     },
     "execution_count": 61,
     "metadata": {},
     "output_type": "execute_result"
    }
   ],
   "source": [
    "text.sentences"
   ]
  },
  {
   "cell_type": "code",
   "execution_count": 63,
   "metadata": {},
   "outputs": [
    {
     "name": "stdout",
     "output_type": "stream",
     "text": [
      "['kokobi', '', 'kokon', 'dla', 'sna', '']\n",
      "['stoika', 'dla', 'odejdy']\n",
      "['philips', 'bluray']\n",
      "['autokreslo']\n",
      "['vaz', '', '', '']\n"
     ]
    }
   ],
   "source": [
    "for sent in text.sentences:\n",
    "    print(sent.transliterate('en'))"
   ]
  },
  {
   "cell_type": "code",
   "execution_count": 104,
   "metadata": {},
   "outputs": [
    {
     "name": "stdout",
     "output_type": "stream",
     "text": [
      "0.00016045570373535156\n"
     ]
    },
    {
     "data": {
      "text/plain": [
       "11"
      ]
     },
     "execution_count": 104,
     "metadata": {},
     "output_type": "execute_result"
    }
   ],
   "source": [
    "# Timing processing with polyglot\n",
    "\n",
    "import time\n",
    "\n",
    "chosen = titles[30:40]\n",
    "\n",
    "string = '\\n\\n'.join(chosen)\n",
    "\n",
    "t = time.time()\n",
    "\n",
    "text = Text(string)\n",
    "\n",
    "print(time.time()-t)\n",
    "\n",
    "len(text.sentences)"
   ]
  },
  {
   "cell_type": "code",
   "execution_count": 105,
   "metadata": {},
   "outputs": [
    {
     "data": {
      "text/plain": [
       "[Sentence(\"Фасадные панели\"),\n",
       " Sentence(\"Бычки\"),\n",
       " Sentence(\"Кулер для компьютера cooler master\"),\n",
       " Sentence(\"Комната 8.2 м² в 5-к, 3/5 эт.\"),\n",
       " Sentence(\"Audi 80, 1986\"),\n",
       " Sentence(\"Коляска 2016 года\"),\n",
       " Sentence(\"Берцы bates Gore-Tex 7R\"),\n",
       " Sentence(\"Медаль ВАЗ.\"),\n",
       " Sentence(\"В честь пуска завода\"),\n",
       " Sentence(\"Склад 70 м²\"),\n",
       " Sentence(\"Свадебные туфли\")]"
      ]
     },
     "execution_count": 105,
     "metadata": {},
     "output_type": "execute_result"
    }
   ],
   "source": [
    "text.sentences"
   ]
  },
  {
   "cell_type": "code",
   "execution_count": 106,
   "metadata": {},
   "outputs": [
    {
     "data": {
      "text/plain": [
       "['Фасадные панели',\n",
       " 'Бычки',\n",
       " 'Кулер для компьютера cooler master',\n",
       " 'Комната 8.2 м² в 5-к, 3/5 эт.',\n",
       " 'Audi 80, 1986',\n",
       " 'Коляска 2016 года',\n",
       " 'Берцы bates Gore-Tex 7R',\n",
       " 'Медаль ВАЗ. В честь пуска завода',\n",
       " 'Склад 70 м²',\n",
       " 'Свадебные туфли']"
      ]
     },
     "execution_count": 106,
     "metadata": {},
     "output_type": "execute_result"
    }
   ],
   "source": [
    "chosen"
   ]
  },
  {
   "cell_type": "code",
   "execution_count": 110,
   "metadata": {},
   "outputs": [
    {
     "name": "stdout",
     "output_type": "stream",
     "text": [
      "6.318092346191406e-05\n"
     ]
    },
    {
     "name": "stderr",
     "output_type": "stream",
     "text": [
      "Detector is not able to detect the language reliably.\n"
     ]
    },
    {
     "data": {
      "text/plain": [
       "1547658"
      ]
     },
     "execution_count": 110,
     "metadata": {},
     "output_type": "execute_result"
    }
   ],
   "source": [
    "# Timing processing with polyglot\n",
    "\n",
    "import time\n",
    "\n",
    "chosen = titles\n",
    "\n",
    "string = '\\n\\n'.join(chosen)\n",
    "\n",
    "t = time.time()\n",
    "\n",
    "text = Text(string)\n",
    "\n",
    "print(time.time()-t)\n",
    "\n",
    "len(text.sentences)"
   ]
  },
  {
   "cell_type": "code",
   "execution_count": 112,
   "metadata": {
    "scrolled": true
   },
   "outputs": [
    {
     "data": {
      "text/plain": [
       "35169785"
      ]
     },
     "execution_count": 112,
     "metadata": {},
     "output_type": "execute_result"
    }
   ],
   "source": [
    "len(text)"
   ]
  },
  {
   "cell_type": "code",
   "execution_count": null,
   "metadata": {},
   "outputs": [],
   "source": []
  },
  {
   "cell_type": "code",
   "execution_count": 110,
   "metadata": {},
   "outputs": [
    {
     "name": "stdout",
     "output_type": "stream",
     "text": [
      "6.318092346191406e-05\n"
     ]
    },
    {
     "name": "stderr",
     "output_type": "stream",
     "text": [
      "Detector is not able to detect the language reliably.\n"
     ]
    },
    {
     "data": {
      "text/plain": [
       "1547658"
      ]
     },
     "execution_count": 110,
     "metadata": {},
     "output_type": "execute_result"
    }
   ],
   "source": [
    "t = time.time()\n",
    "\n",
    "trans = text.words\n",
    "\n",
    "print(time.time()-t)"
   ]
  },
  {
   "cell_type": "code",
   "execution_count": 123,
   "metadata": {
    "collapsed": true
   },
   "outputs": [
    {
     "data": {
      "text/plain": [
       "[Sentence(\"Кокоби(кокон для сна)\"),\n",
       " Sentence(\"Стойка для Одежды\"),\n",
       " Sentence(\"Philips bluray\"),\n",
       " Sentence(\"Автокресло\"),\n",
       " Sentence(\"ВАЗ 2110, 2003\"),\n",
       " Sentence(\"Авто люлька\"),\n",
       " Sentence(\"Водонагреватель 100 литров нержавейка плоский\"),\n",
       " Sentence(\"Бойфренды colins\"),\n",
       " Sentence(\"Платье\"),\n",
       " Sentence(\"Полу ботиночки замш натур.Бамбини\"),\n",
       " Sentence(\"1-к квартира, 25 м², 2/2 эт.\"),\n",
       " Sentence(\"Джинсы\"),\n",
       " Sentence(\"Атласы и Контурныя карты за 8 класс\"),\n",
       " Sentence(\"Монитор acer 18.5\"),\n",
       " Sentence(\"Продаются щенки немецкой овчарки\"),\n",
       " Sentence(\"Платье женское новое\"),\n",
       " Sentence(\"Chevrolet Lanos, 2008\"),\n",
       " Sentence(\"Объемная цифра 2\"),\n",
       " Sentence(\"Куртка весенняя(осенняя)\"),\n",
       " Sentence(\"Сниму коттедж\"),\n",
       " Sentence(\"2-к квартира, 44 м², 5/5 эт.\"),\n",
       " Sentence(\"Шапка норковая\"),\n",
       " Sentence(\"Ford Focus, 2005\"),\n",
       " Sentence(\"Туфли moschino\"),\n",
       " Sentence(\"Таблетки бравекто\"),\n",
       " Sentence(\"Пинки Пай My Little Pony\"),\n",
       " Sentence(\"Ламбрикен\"),\n",
       " Sentence(\"Ботинки\"),\n",
       " Sentence(\"Продаю новое платье\"),\n",
       " Sentence(\"Песочник Crockid\"),\n",
       " Sentence(\"Фасадные панели\"),\n",
       " Sentence(\"Бычки\"),\n",
       " Sentence(\"Кулер для компьютера cooler master\"),\n",
       " Sentence(\"Комната 8.2 м² в 5-к, 3/5 эт.\"),\n",
       " Sentence(\"Audi 80, 1986\"),\n",
       " Sentence(\"Коляска 2016 года\"),\n",
       " Sentence(\"Берцы bates Gore-Tex 7R\"),\n",
       " Sentence(\"Медаль ВАЗ.\"),\n",
       " Sentence(\"В честь пуска завода\"),\n",
       " Sentence(\"Склад 70 м²\"),\n",
       " Sentence(\"Свадебные туфли\"),\n",
       " Sentence(\"Брюки джинсовые\"),\n",
       " Sentence(\"Летний комбинезончик. новый\"),\n",
       " Sentence(\"Шлем киват kivat\"),\n",
       " Sentence(\"Футболка Adidas (хорошее состояние)\"),\n",
       " Sentence(\"1-к квартира, 44 м², 13/16 эт.\"),\n",
       " Sentence(\"Полка хром, двухярусная\"),\n",
       " Sentence(\"Одеяло атласное двуспальное, теплое\"),\n",
       " Sentence(\"Детский развивающий коврик\"),\n",
       " Sentence(\"Коляска б/у трость\"),\n",
       " Sentence(\"Набор для маникюра\"),\n",
       " Sentence(\"Сапожки демисезонные next.,5\"),\n",
       " Sentence(\"2-к квартира, 42.5 м², 6/6 эт.\"),\n",
       " Sentence(\"Все юбки и брюки за 300\"),\n",
       " Sentence(\"Аквариум ювель\"),\n",
       " Sentence(\"Смартфон Explay Blaze (белый)\"),\n",
       " Sentence(\"Сниму комнату\"),\n",
       " Sentence(\"Матрас\"),\n",
       " Sentence(\"Сандали Indigo, размер 19, состояние новых\"),\n",
       " Sentence(\"Золото 585(лом)\"),\n",
       " Sentence(\"Туфли для мальчика\"),\n",
       " Sentence(\"Быстровозводимые каркасные строения\"),\n",
       " Sentence(\"Бегающий енот\"),\n",
       " Sentence(\"Сандалики текстильные\"),\n",
       " Sentence(\"Комбинезон ветровочный Reima\"),\n",
       " Sentence(\"Продам куртку Marc 'O Polo\"),\n",
       " Sentence(\"Монтаж дверей, проемов, откосов, арок\"),\n",
       " Sentence(\"Наращивание ногтей, коррекция\"),\n",
       " Sentence(\"Сапоги фирмы \"Carlo Pazolini\" бежевые\"),\n",
       " Sentence(\"Продаются поросята\"),\n",
       " Sentence(\"\"Индийский бегун\" большого размера\"),\n",
       " Sentence(\"Кроссовки детские р.34\"),\n",
       " Sentence(\"Женская дубленка\"),\n",
       " Sentence(\"Ортопедическая обувь.\"),\n",
       " Sentence(\"Натуральная\"),\n",
       " Sentence(\"Костюм для игры черепашка ниндзя Рафаэль\"),\n",
       " Sentence(\"Муж на час или дольше\"),\n",
       " Sentence(\"Сумка синяя, не ношена\"),\n",
       " Sentence(\"Кроссовки роликовые\"),\n",
       " Sentence(\"В подарок для месячного малыша\"),\n",
       " Sentence(\"1-к квартира, 42 м², 7/14 эт.\"),\n",
       " Sentence(\"Хоккейная форма комплект 50-52 р.р\"),\n",
       " Sentence(\"Босоножки и туфельки\"),\n",
       " Sentence(\"Комбинезон\"),\n",
       " Sentence(\"Рупор\"),\n",
       " Sentence(\"Стиральная машина LG,5 кг., гарантия\"),\n",
       " Sentence(\"Сапожки весенние\"),\n",
       " Sentence(\"Джинсы Бержка\"),\n",
       " Sentence(\"Джинсы\"),\n",
       " Sentence(\"Модуль оперативной памяти\"),\n",
       " Sentence(\"Красивое пальто для девочки\"),\n",
       " Sentence(\"Отвертки для ремонта ноутбуков\"),\n",
       " Sentence(\"Sony PlayStation One(2002)\"),\n",
       " Sentence(\"Участок 7 сот. (промназначения)\"),\n",
       " Sentence(\"Яйцо куриное\"),\n",
       " Sentence(\"Мужской свитер\"),\n",
       " Sentence(\"Новые свадебные платья\"),\n",
       " Sentence(\"Продам детскую стенку с кроватью\"),\n",
       " Sentence(\"Сапожки весна-осень\"),\n",
       " Sentence(\"Телевизор цветной\")]"
      ]
     },
     "execution_count": 123,
     "metadata": {},
     "output_type": "execute_result"
    }
   ],
   "source": [
    "text.sentences[:100]"
   ]
  },
  {
   "cell_type": "code",
   "execution_count": 124,
   "metadata": {},
   "outputs": [
    {
     "data": {
      "text/plain": [
       "WordList(['Кокоби', '(', 'кокон', 'для', 'сна', ')', 'Стойка', 'для', 'Одежды', 'Philips', 'bluray', 'Автокресло', 'ВАЗ', '2110', ',', '2003', 'Авто', 'люлька', 'Водонагреватель', '100', 'литров', 'нержавейка', 'плоский', 'Бойфренды', 'colins', 'Платье', 'Полу', 'ботиночки', 'замш', 'натур.Бамбини', '1', '-', 'к', 'квартира', ',', '25', 'м', '²', ',', '2', '/', '2', 'эт', '.', 'Джинсы', 'Атласы', 'и', 'Контурныя', 'карты', 'за', '8', 'класс', 'Монитор', 'acer', '18.5', 'Продаются', 'щенки', 'немецкой', 'овчарки', 'Платье', 'женское', 'новое', 'Chevrolet', 'Lanos', ',', '2008', 'Объемная', 'цифра', '2', 'Куртка', 'весенняя', '(', 'осенняя', ')', 'Сниму', 'коттедж', '2', '-', 'к', 'квартира', ',', '44', 'м', '²', ',', '5', '/', '5', 'эт', '.', 'Шапка', 'норковая', 'Ford', 'Focus', ',', '2005', 'Туфли', 'moschino', 'Таблетки', 'бравекто'])"
      ]
     },
     "execution_count": 124,
     "metadata": {},
     "output_type": "execute_result"
    }
   ],
   "source": [
    "text.words[:100]"
   ]
  },
  {
   "cell_type": "code",
   "execution_count": 125,
   "metadata": {},
   "outputs": [
    {
     "name": "stdout",
     "output_type": "stream",
     "text": [
      "0.0001163482666015625\n"
     ]
    },
    {
     "data": {
      "text/plain": [
       "1021"
      ]
     },
     "execution_count": 125,
     "metadata": {},
     "output_type": "execute_result"
    }
   ],
   "source": [
    "# Timing processing with polyglot\n",
    "\n",
    "import time\n",
    "\n",
    "chosen = titles[:1000]\n",
    "\n",
    "string = '\\n\\n'.join(chosen)\n",
    "\n",
    "t = time.time()\n",
    "\n",
    "text = Text(string)\n",
    "\n",
    "print(time.time()-t)\n",
    "\n",
    "len(text.sentences)"
   ]
  },
  {
   "cell_type": "code",
   "execution_count": 135,
   "metadata": {},
   "outputs": [
    {
     "name": "stdout",
     "output_type": "stream",
     "text": [
      "99.31518769264221\n"
     ]
    }
   ],
   "source": [
    "transliterated = []\n",
    "t = time.time()\n",
    "\n",
    "for sent in text.sentences:\n",
    "    transliterated.append(sent.transliterate('en'))\n",
    "print(time.time()-t)\n"
   ]
  },
  {
   "cell_type": "code",
   "execution_count": 136,
   "metadata": {},
   "outputs": [
    {
     "data": {
      "application/vnd.jupyter.widget-view+json": {
       "model_id": "f63dd21f156344cd9d1bb1033dfd4cab",
       "version_major": 2,
       "version_minor": 0
      },
      "text/plain": [
       "IntProgress(value=0)"
      ]
     },
     "metadata": {},
     "output_type": "display_data"
    }
   ],
   "source": [
    "from ipywidgets import IntProgress\n",
    "from IPython.display import display\n",
    "import time\n",
    "\n",
    "max_count = 100\n",
    "\n",
    "f = IntProgress(min=0, max=max_count) # instantiate the bar\n",
    "display(f) # display the bar\n",
    "\n",
    "count = 0\n",
    "while count <= max_count:\n",
    "    f.value += 1 # signal to increment the progress bar\n",
    "    time.sleep(.1)\n",
    "    count += 1"
   ]
  },
  {
   "cell_type": "code",
   "execution_count": 146,
   "metadata": {},
   "outputs": [
    {
     "data": {
      "text/plain": [
       "1.001"
      ]
     },
     "execution_count": 146,
     "metadata": {},
     "output_type": "execute_result"
    }
   ],
   "source": [
    "1e-3+1"
   ]
  },
  {
   "cell_type": "code",
   "execution_count": null,
   "metadata": {},
   "outputs": [],
   "source": []
  }
 ],
 "metadata": {
  "kernelspec": {
   "display_name": "Python 3",
   "language": "python",
   "name": "python3"
  },
  "language_info": {
   "codemirror_mode": {
    "name": "ipython",
    "version": 3
   },
   "file_extension": ".py",
   "mimetype": "text/x-python",
   "name": "python",
   "nbconvert_exporter": "python",
   "pygments_lexer": "ipython3",
   "version": "3.7.1"
  }
 },
 "nbformat": 4,
 "nbformat_minor": 2
}
